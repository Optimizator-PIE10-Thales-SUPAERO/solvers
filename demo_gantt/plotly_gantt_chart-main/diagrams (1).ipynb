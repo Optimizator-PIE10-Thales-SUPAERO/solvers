{
 "cells": [
  {
   "cell_type": "code",
   "execution_count": 1,
   "metadata": {},
   "outputs": [
    {
     "ename": "ModuleNotFoundError",
     "evalue": "No module named 'diagrams'",
     "output_type": "error",
     "traceback": [
      "\u001b[1;31m---------------------------------------------------------------------------\u001b[0m",
      "\u001b[1;31mModuleNotFoundError\u001b[0m                       Traceback (most recent call last)",
      "\u001b[1;32m<ipython-input-1-b8de64225059>\u001b[0m in \u001b[0;36m<module>\u001b[1;34m\u001b[0m\n\u001b[0;32m      2\u001b[0m \u001b[0mos\u001b[0m\u001b[1;33m.\u001b[0m\u001b[0menviron\u001b[0m\u001b[1;33m[\u001b[0m\u001b[1;34m\"PATH\"\u001b[0m\u001b[1;33m]\u001b[0m \u001b[1;33m+=\u001b[0m \u001b[0mos\u001b[0m\u001b[1;33m.\u001b[0m\u001b[0mpathsep\u001b[0m \u001b[1;33m+\u001b[0m \u001b[1;34mr'C:\\Program Files\\Graphviz\\bin'\u001b[0m\u001b[1;33m\u001b[0m\u001b[1;33m\u001b[0m\u001b[0m\n\u001b[0;32m      3\u001b[0m \u001b[1;33m\u001b[0m\u001b[0m\n\u001b[1;32m----> 4\u001b[1;33m \u001b[1;32mfrom\u001b[0m \u001b[0mdiagrams\u001b[0m \u001b[1;32mimport\u001b[0m \u001b[0mCluster\u001b[0m\u001b[1;33m,\u001b[0m \u001b[0mDiagram\u001b[0m\u001b[1;33m,\u001b[0m \u001b[0mEdge\u001b[0m\u001b[1;33m\u001b[0m\u001b[1;33m\u001b[0m\u001b[0m\n\u001b[0m\u001b[0;32m      5\u001b[0m \u001b[1;32mfrom\u001b[0m \u001b[0mdiagrams\u001b[0m\u001b[1;33m.\u001b[0m\u001b[0monprem\u001b[0m\u001b[1;33m.\u001b[0m\u001b[0manalytics\u001b[0m \u001b[1;32mimport\u001b[0m \u001b[0mSpark\u001b[0m\u001b[1;33m\u001b[0m\u001b[1;33m\u001b[0m\u001b[0m\n\u001b[0;32m      6\u001b[0m \u001b[1;32mfrom\u001b[0m \u001b[0mdiagrams\u001b[0m\u001b[1;33m.\u001b[0m\u001b[0monprem\u001b[0m\u001b[1;33m.\u001b[0m\u001b[0mcompute\u001b[0m \u001b[1;32mimport\u001b[0m \u001b[0mServer\u001b[0m\u001b[1;33m\u001b[0m\u001b[1;33m\u001b[0m\u001b[0m\n",
      "\u001b[1;31mModuleNotFoundError\u001b[0m: No module named 'diagrams'"
     ]
    }
   ],
   "source": [
    "import os\n",
    "os.environ[\"PATH\"] += os.pathsep + r'C:\\Program Files\\Graphviz\\bin'\n",
    "\n",
    "from diagrams import Cluster, Diagram, Edge\n",
    "from diagrams.onprem.analytics import Spark\n",
    "from diagrams.onprem.compute import Server\n",
    "from diagrams.onprem.database import PostgreSQL\n",
    "from diagrams.onprem.inmemory import Redis\n",
    "from diagrams.onprem.logging import Fluentd\n",
    "from diagrams.onprem.monitoring import Grafana, Prometheus\n",
    "from diagrams.onprem.network import Nginx\n",
    "from diagrams.onprem.queue import Kafka\n",
    "\n",
    "with Diagram(name=\"Advanced Web Service with On-Premise (colored)\", show=True):\n",
    "    ingress = Nginx(\"ingress\")\n",
    "\n",
    "    metrics = Prometheus(\"metric\")\n",
    "    metrics << Edge(color=\"firebrick\", style=\"dashed\") << Grafana(\"monitoring\")\n",
    "\n",
    "    with Cluster(\"Service Cluster\"):\n",
    "        grpcsvc = [\n",
    "            Server(\"grpc1\"),\n",
    "            Server(\"grpc2\"),\n",
    "            Server(\"grpc3\")]\n",
    "\n",
    "    with Cluster(\"Sessions HA\"):\n",
    "        master = Redis(\"session\")\n",
    "        master - Edge(color=\"brown\", style=\"dashed\") - Redis(\"replica\") << Edge(label=\"collect\") << metrics\n",
    "        grpcsvc >> Edge(color=\"brown\") >> master\n",
    "\n",
    "    with Cluster(\"Database HA\"):\n",
    "        master = PostgreSQL(\"users\")\n",
    "        master - Edge(color=\"brown\", style=\"dotted\") - PostgreSQL(\"slave\") << Edge(label=\"collect\") << metrics\n",
    "        grpcsvc >> Edge(color=\"black\") >> master\n",
    "\n",
    "    aggregator = Fluentd(\"logging\")\n",
    "    aggregator >> Edge(label=\"parse\") >> Kafka(\"stream\") >> Edge(color=\"black\", style=\"bold\") >> Spark(\"analytics\")\n",
    "\n",
    "    ingress >> Edge(color=\"darkgreen\") << grpcsvc >> Edge(color=\"darkorange\") >> aggregator"
   ]
  },
  {
   "cell_type": "code",
   "execution_count": 10,
   "metadata": {},
   "outputs": [],
   "source": [
    "from diagrams import Cluster, Diagram\n",
    "from diagrams.k8s.compute import Pod, StatefulSet\n",
    "from diagrams.k8s.network import Service\n",
    "from diagrams.k8s.storage import PV, PVC, StorageClass\n",
    "\n",
    "with Diagram(\"Stateful Architecture\", show=True):\n",
    "    with Cluster(\"Apps\"):\n",
    "        svc = Service(\"svc\")\n",
    "        sts = StatefulSet(\"sts\")\n",
    "\n",
    "        apps = []\n",
    "        for _ in range(3):\n",
    "            pod = Pod(\"pod\")\n",
    "            pvc = PVC(\"pvc\")\n",
    "            pod - sts - pvc\n",
    "            apps.append(svc >> pod >> pvc)\n",
    "\n",
    "    apps << PV(\"pv\") << StorageClass(\"sc\")"
   ]
  },
  {
   "cell_type": "code",
   "execution_count": 11,
   "metadata": {},
   "outputs": [],
   "source": [
    "from diagrams import Diagram\n",
    "from diagrams.k8s.clusterconfig import HPA\n",
    "from diagrams.k8s.compute import Deployment, Pod, ReplicaSet\n",
    "from diagrams.k8s.network import Ingress, Service\n",
    "\n",
    "with Diagram(\"Exposed Pod with 3 Replicas\", show=True):\n",
    "    net = Ingress(\"domain.com\") >> Service(\"svc\")\n",
    "    net >> [Pod(\"pod1\"),\n",
    "            Pod(\"pod2\"),\n",
    "            Pod(\"pod3\")] << ReplicaSet(\"rs\") << Deployment(\"dp\") << HPA(\"hpa\")"
   ]
  },
  {
   "cell_type": "code",
   "execution_count": 13,
   "metadata": {},
   "outputs": [],
   "source": [
    "from diagrams import Cluster, Diagram\n",
    "from diagrams.gcp.analytics import BigQuery, Dataflow, PubSub\n",
    "from diagrams.gcp.compute import AppEngine, Functions\n",
    "from diagrams.gcp.database import BigTable\n",
    "from diagrams.gcp.iot import IotCore\n",
    "from diagrams.gcp.storage import GCS\n",
    "\n",
    "with Diagram(\"Message Collecting\", show=True):\n",
    "    pubsub = PubSub(\"pubsub\")\n",
    "\n",
    "    with Cluster(\"Source of Data\"):\n",
    "        [IotCore(\"core1\"),\n",
    "         IotCore(\"core2\"),\n",
    "         IotCore(\"core3\")] >> pubsub\n",
    "\n",
    "    with Cluster(\"Targets\"):\n",
    "        with Cluster(\"Data Flow\"):\n",
    "            flow = Dataflow(\"data flow\")\n",
    "\n",
    "        with Cluster(\"Data Lake\"):\n",
    "            flow >> [BigQuery(\"bq\"),\n",
    "                     GCS(\"storage\")]\n",
    "\n",
    "        with Cluster(\"Event Driven\"):\n",
    "            with Cluster(\"Processing\"):\n",
    "                flow >> AppEngine(\"engine\") >> BigTable(\"bigtable\")\n",
    "\n",
    "            with Cluster(\"Serverless\"):\n",
    "                flow >> Functions(\"func\") >> AppEngine(\"appengine\")\n",
    "\n",
    "    pubsub >> flow"
   ]
  },
  {
   "cell_type": "code",
   "execution_count": 14,
   "metadata": {},
   "outputs": [],
   "source": [
    "from diagrams import Cluster, Diagram\n",
    "from diagrams.aws.compute import ECS, EKS, Lambda\n",
    "from diagrams.aws.database import Redshift\n",
    "from diagrams.aws.integration import SQS\n",
    "from diagrams.aws.storage import S3\n",
    "\n",
    "with Diagram(\"Event Processing\", show=True):\n",
    "    source = EKS(\"k8s source\")\n",
    "\n",
    "    with Cluster(\"Event Flows\"):\n",
    "        with Cluster(\"Event Workers\"):\n",
    "            workers = [ECS(\"worker1\"),\n",
    "                       ECS(\"worker2\"),\n",
    "                       ECS(\"worker3\")]\n",
    "\n",
    "        queue = SQS(\"event queue\")\n",
    "\n",
    "        with Cluster(\"Processing\"):\n",
    "            handlers = [Lambda(\"proc1\"),\n",
    "                        Lambda(\"proc2\"),\n",
    "                        Lambda(\"proc3\")]\n",
    "\n",
    "    store = S3(\"events store\")\n",
    "    dw = Redshift(\"analytics\")\n",
    "\n",
    "    source >> workers >> queue >> handlers\n",
    "    handlers >> store\n",
    "    handlers >> dw"
   ]
  },
  {
   "cell_type": "code",
   "execution_count": 44,
   "metadata": {},
   "outputs": [
    {
     "data": {
      "text/plain": [
       "['Results of Task',\n",
       " 'Establish and agree upon Agile standards/framework',\n",
       " 'Communicate Agile structure to business groups',\n",
       " 'Select proper tooling',\n",
       " 'Results of Task',\n",
       " 'Refine analytic data use operating model',\n",
       " 'Define analytic persona\\x92s and use cases',\n",
       " 'Define operational data use operating model',\n",
       " 'Define operational persona\\x92s and use cases ',\n",
       " 'Define standard ',\n",
       " 'Results of Task',\n",
       " 'ID appropriate use case requirements for applying methodology (i.e. what are expectations from the business, what are deliverable expectations etc.)',\n",
       " 'Create template for data use stories (i.e. data sets, data presentation, data analysis, Data validation, advanced analytic stories)',\n",
       " 'Results of Task',\n",
       " 'Identify product advisory council attendees',\n",
       " 'Create governance model/methodology',\n",
       " 'Results of Task',\n",
       " 'ID all candidate roles and process to keep bench as opposed to OJT',\n",
       " 'ID incentive and disincentive components to manage contract',\n",
       " 'ID candidate partners for various work components',\n",
       " 'Create methodology to manage bid process and selection \\x96 partner with procurement',\n",
       " 'Results of task',\n",
       " 'Define scope of project',\n",
       " 'Results of task',\n",
       " 'ID tools for self-service ties to tools/tech',\n",
       " 'Determine extent of centrally managed policy engines',\n",
       " 'What multi-tenancy restrictions should be established',\n",
       " 'Access control \\x96 Tie to IT IAM strategy',\n",
       " 'Evaluate security, PHI, access restrictions',\n",
       " 'Results of task',\n",
       " 'Publish product and service catalog outlining initial build/implementation of the product or service as well as the ongoing costs',\n",
       " 'Results of task',\n",
       " 'ID standard tools for self-service',\n",
       " 'Create governance and methodology use cases',\n",
       " 'Create training protocol for tool consumption',\n",
       " 'Database/System design for persistent data to be stored on remote, network attached storage',\n",
       " 'Identify systems requirements',\n",
       " 'Technology/vendor selection',\n",
       " 'Migration effort to be considered; layout strategy',\n",
       " 'Downstream efforts - existing processes to migrate; how to enable a seamless transition; which approach to use - coexist or turn off/turn on',\n",
       " 'Enable S3 as primary storage, move away from other storage solutions and determine config',\n",
       " 'Establish rules/processes to ensure S3 is the primary storage solution',\n",
       " 'Recompilation and redeployment of jobs is required',\n",
       " 'Stand up non-prod two node cluster job/script execution',\n",
       " 'Decommission version 5 by May 21 2021',\n",
       " 'Results of task',\n",
       " 'Identify self-service needs/requirements for each group ',\n",
       " 'Identify the right tool for the right purpose',\n",
       " 'Learning and creating guidelines on how to use new tools',\n",
       " 'Estimate adoption rate',\n",
       " 'Gauge time to ramp-up',\n",
       " 'Evaluate if migration from existing tools to new tools is required',\n",
       " 'Results of task',\n",
       " 'Identify compatible tooling',\n",
       " 'Determine requirements specific for each business group',\n",
       " 'Identify VDI-based security issues for additional R/Python libraries',\n",
       " 'Document and communicate procedure to add new ML features/libraries to remote environments',\n",
       " 'Estimate value of paid tools vs free libraries',\n",
       " 'Determine if automated ML tools are necessary (Datarobot vs Azure ML)',\n",
       " 'Gauge level of adoption',\n",
       " 'Document FAQs and consider questions specific to each business group',\n",
       " 'Results of task',\n",
       " 'Determine scope \\x96 DR, HA, Extent of insight and notification needs',\n",
       " 'Establish continuous monitoring needs aligned with DevOps',\n",
       " 'Resiliency testing approach',\n",
       " 'Monitoring tools',\n",
       " 'Incident response communication protocol (ties to governance and operating model)',\n",
       " 'Identify compatible tooling/technology',\n",
       " 'Consider location/region-based connection practices',\n",
       " 'Consider multiple physical data center connection locations for resiliency to connectivity failures due to fiber cut, device failure or complete location failure',\n",
       " 'Determine if dynamically routed and active connections vs. statically routed for load balancing and failover',\n",
       " 'Results of task',\n",
       " 'Identify compatible tooling',\n",
       " 'Determine instance requirements specific for each business group',\n",
       " 'Launch instances and document keys/passwords',\n",
       " 'Communicate instance configurations and setup notes to each group',\n",
       " 'Estimate level of adoption',\n",
       " 'Predict and document FAQs',\n",
       " 'Document how to use Microsoft Remote Desktop Apps for Mac users',\n",
       " 'Install supporting software (R, Python, Firefox etc.)',\n",
       " 'Identify an owner/manager of compute elasticity/infrastructure operations',\n",
       " 'Identify rules of engagement and governance for when the process is live',\n",
       " 'Results of task',\n",
       " 'Prioritize data pipelines (tie to Data COE)',\n",
       " 'Pilot analytics in data pipeline (tie to NextBlue AA COE)',\n",
       " 'Define event streaming hub approach (i.e. people process tech)',\n",
       " 'Determine appropriate/compatible event streaming tools (Apache Kafka, Hazelcast Jet etc.)',\n",
       " 'Determine streaming rate requirements specific to each business group',\n",
       " 'Map out the data flow/data architecture and associated patterns',\n",
       " 'Identify who will do the publishing framework',\n",
       " 'Deploy and document',\n",
       " 'There are dependencies on infrastructure prior to putting this in place',\n",
       " 'Results of task',\n",
       " 'Define tools/tech and associated dependencies',\n",
       " 'Align with cloud COE',\n",
       " 'Establish development guidelines',\n",
       " 'Pilot?',\n",
       " 'Tie to governance and operating model \\x96 when to use how to use etc.',\n",
       " 'Determine which tasks will be microservices',\n",
       " 'Determine tools to run/containerize microservices',\n",
       " 'Select a microservice deployment strategy (Service Instance per Host, Multiple Service Instances per Host, Service Instance per Virtual Machine etc.)',\n",
       " 'Determine if you need a cluster manager (Kubernetes, Marathon etc.)',\n",
       " 'Identify enablement approach',\n",
       " 'Results of task',\n",
       " 'Define tools/tech and associated dependencies',\n",
       " 'Align with cloud COE',\n",
       " 'Establish development guidelines',\n",
       " 'Pilot?',\n",
       " 'Tie to governance and operating model \\x96 when to use how to use etc.',\n",
       " 'Determine whether to containerize existing legacy application without refactoring into microservices',\n",
       " 'Identify barriers between security and devops',\n",
       " 'Determine drawbacks: such as container infrastructure is not as mature or secure as the infrastructure for VMs (containers share the kernel of the host OS with one another)',\n",
       " 'Results of task',\n",
       " 'Identify a back-end physical infrastructure to enable digital tools',\n",
       " 'Evaluate a hybrid cloud strategy (with an eye for the worker UX)',\n",
       " 'Evaluate existing support services for the workplace',\n",
       " 'Implement technology for a real-time, 360 view of the UX',\n",
       " 'Results of task',\n",
       " 'Orchestration and management of services, applications and data flow',\n",
       " 'Automation of business processes',\n",
       " 'Establishment of federated security and Single Sign-On',\n",
       " 'System logging and monitoring',\n",
       " 'Data analysis, reporting and predictions',\n",
       " 'Monitoring of mobile and IoT devices',\n",
       " 'Implementation of Big Data solutions',\n",
       " 'Centralized (mobile ready) web solutions for clients and employees',\n",
       " 'Scalability and high-load support',\n",
       " 'SaaS and multi-tenancy support',\n",
       " 'Centralized control of infrastructure management etc.',\n",
       " 'Results of task',\n",
       " 'Determine compatible tools',\n",
       " 'Identify downfalls of low code platforms',\n",
       " 'Estimate adoption rate',\n",
       " 'Results of task',\n",
       " 'Determine the FHIR server architecture',\n",
       " 'Determine compatibility of servers and FHIR versions to ensure interoperability',\n",
       " 'Understand the APIs as well as the level of completion per API',\n",
       " 'Identify where to put/install the FHIR server',\n",
       " 'Estimate adoption rate',\n",
       " 'Results of task',\n",
       " 'ID priority governance model evaluation needs \\x96 self-service, machine learning model productionalization, operational area use and interaction']"
      ]
     },
     "execution_count": 44,
     "metadata": {},
     "output_type": "execute_result"
    }
   ],
   "source": [
    "list(df['Task'])"
   ]
  },
  {
   "cell_type": "code",
   "execution_count": 200,
   "metadata": {},
   "outputs": [
    {
     "data": {
      "application/vnd.jupyter.widget-view+json": {
       "model_id": "edadd8092eaf42da84e6665159ac4d63",
       "version_major": 2,
       "version_minor": 0
      },
      "text/plain": [
       "FigureWidget({\n",
       "    'data': [{'alignmentgroup': 'True',\n",
       "              'base': array([datetime.datetime(2021, 3,…"
      ]
     },
     "metadata": {},
     "output_type": "display_data"
    }
   ],
   "source": [
    "import pandas as pd\n",
    "import plotly.express as px\n",
    "import plotly.figure_factory as ff\n",
    "import plotly.graph_objs as go\n",
    "import chart_studio\n",
    "import chart_studio.plotly as py \n",
    "import chart_studio.tools as tls\n",
    "\n",
    "df = pd.read_csv('gantt_chart_new.csv',encoding='latin1')\n",
    "df['Start'] = df['Start'].astype('datetime64')\n",
    "df['Finish'] = df['Finish'].astype('datetime64')\n",
    "# print(df.dtypes)\n",
    "# print(df.head())\n",
    "\n",
    "colors = {'Technology' : 'rgb(30,144,255)'\n",
    "          , 'Technology - Date TBD' : 'rgb(211,211,211)'\n",
    "          , 'People' : 'rgb(95,158,160)'\n",
    "          , 'Process' : 'rgb(0,0,128)'\n",
    "          , 'Process - Date TBD' : 'rgb(211,211,210)'}\n",
    "    \n",
    "orders = list(df['Task'])\n",
    "\n",
    "fig = px.timeline(df\n",
    "                  , x_start=\"Start\"\n",
    "                  , x_end=\"Finish\"\n",
    "                  , y=\"Resource\"\n",
    "                  , hover_name=\"Task\"\n",
    "#                   , facet_col=\"Dimension\"\n",
    "#                   , facet_col_wrap=40\n",
    "#                   , facet_col_spacing=.99\n",
    "#                   , color_discrete_sequence=['green']*len(df)\n",
    "                  , color_discrete_sequence=px.colors.qualitative.Prism\n",
    "                  , category_orders={'Task':['Results of Task','Establish and agree upon Agile standards/framework','Communicate Agile structure to business groups','Select proper tooling','Results of Task','Refine analytic data use operating model','Define analytic persona\\x92s and use cases','Define operational data use operating model','Define operational persona\\x92s and use cases ','Define standard ','Results of Task','ID appropriate use case requirements for applying methodology (i.e. what are expectations from the business, what are deliverable expectations etc.)',\n",
    "                                     'Create template for data use stories (i.e. data sets, data presentation, data analysis, Data validation, advanced analytic stories)','Results of Task','Identify product advisory council attendees','Create governance model/methodology','Results of Task','ID all candidate roles and process to keep bench as opposed to OJT','ID incentive and disincentive components to manage contract','ID candidate partners for various work components','Create methodology to manage bid process and selection \\x96 partner with procurement','Results of task','Define scope of project','Results of task','ID tools for self-service ties to tools/tech','Determine extent of centrally managed policy engines','What multi-tenancy restrictions should be established','Access control \\x96 Tie to IT IAM strategy','Evaluate security, PHI, access restrictions','Results of task','Publish product and service catalog outlining initial build/implementation of the product or service as well as the ongoing costs','Results of task','ID standard tools for self-service','Create governance and methodology use cases','Create training protocol for tool consumption',\n",
    "                                     'Database/System design for persistent data to be stored on remote, network attached storage','Identify systems requirements','Technology/vendor selection','Migration effort to be considered; layout strategy','Downstream efforts - existing processes to migrate; how to enable a seamless transition; which approach to use - coexist or turn off/turn on','Enable S3 as primary storage, move away from other storage solutions and determine config','Establish rules/processes to ensure S3 is the primary storage solution','Recompilation and redeployment of jobs is required','Stand up non-prod two node cluster job/script execution','Decommission version 5 by May 21 2021','Results of task','Identify self-service needs/requirements for each group ','Identify the right tool for the right purpose','Learning and creating guidelines on how to use new tools','Estimate adoption rate','Gauge time to ramp-up','Evaluate if migration from existing tools to new tools is required',\n",
    "                                     'Results of task','Identify compatible tooling','Determine requirements specific for each business group','Identify VDI-based security issues for additional R/Python libraries','Document and communicate procedure to add new ML features/libraries to remote environments','Estimate value of paid tools vs free libraries','Determine if automated ML tools are necessary (Datarobot vs Azure ML)','Gauge level of adoption','Document FAQs and consider questions specific to each business group','Results of task','Determine scope \\x96 DR, HA, Extent of insight and notification needs','Establish continuous monitoring needs aligned with DevOps','Resiliency testing approach','Monitoring tools','Incident response communication protocol (ties to governance and operating model)','Identify compatible tooling/technology','Consider location/region-based connection practices',\n",
    "                                     'Consider multiple physical data center connection locations for resiliency to connectivity failures due to fiber cut, device failure or complete location failure','Determine if dynamically routed and active connections vs. statically routed for load balancing and failover','Results of task','Identify compatible tooling','Determine instance requirements specific for each business group','Launch instances and document keys/passwords','Communicate instance configurations and setup notes to each group','Estimate level of adoption','Predict and document FAQs','Document how to use Microsoft Remote Desktop Apps for Mac users','Install supporting software (R, Python, Firefox etc.)','Identify an owner/manager of compute elasticity/infrastructure operations',\n",
    "                                     'Identify rules of engagement and governance for when the process is live','Results of task','Prioritize data pipelines (tie to Data COE)','Pilot analytics in data pipeline (tie to NextBlue AA COE)','Define event streaming hub approach (i.e. people process tech)','Determine appropriate/compatible event streaming tools (Apache Kafka, Hazelcast Jet etc.)','Determine streaming rate requirements specific to each business group','Map out the data flow/data architecture and associated patterns','Identify who will do the publishing framework','Deploy and document','There are dependencies on infrastructure prior to putting this in place','Results of task','Define tools/tech and associated dependencies','Align with cloud COE','Establish development guidelines','Pilot?','Tie to governance and operating model \\x96 when to use how to use etc.','Determine which tasks will be microservices','Determine tools to run/containerize microservices',\n",
    "                                     'Select a microservice deployment strategy (Service Instance per Host, Multiple Service Instances per Host, Service Instance per Virtual Machine etc.)','Determine if you need a cluster manager (Kubernetes, Marathon etc.)','Identify enablement approach','Results of task','Define tools/tech and associated dependencies','Align with cloud COE','Establish development guidelines','Pilot?','Tie to governance and operating model \\x96 when to use how to use etc.','Determine whether to containerize existing legacy application without refactoring into microservices','Identify barriers between security and devops','Determine drawbacks: such as container infrastructure is not as mature or secure as the infrastructure for VMs (containers share the kernel of the host OS with one another)','Results of task','Identify a back-end physical infrastructure to enable digital tools','Evaluate a hybrid cloud strategy (with an eye for the worker UX)',\n",
    "                                     'Evaluate existing support services for the workplace','Implement technology for a real-time, 360 view of the UX','Results of task','Orchestration and management of services, applications and data flow','Automation of business processes','Establishment of federated security and Single Sign-On','System logging and monitoring','Data analysis, reporting and predictions','Monitoring of mobile and IoT devices','Implementation of Big Data solutions','Centralized (mobile ready) web solutions for clients and employees','Scalability and high-load support','SaaS and multi-tenancy support','Centralized control of infrastructure management etc.','Results of task','Determine compatible tools','Identify downfalls of low code platforms','Estimate adoption rate',\n",
    "                                     'Results of task','Determine the FHIR server architecture','Determine compatibility of servers and FHIR versions to ensure interoperability','Understand the APIs as well as the level of completion per API','Identify where to put/install the FHIR server','Estimate adoption rate','Results of task','ID priority governance model evaluation needs \\x96 self-service, machine learning model productionalization, operational area use and interaction']}\n",
    "                  , opacity=.7\n",
    "#                   , text=\"Task\"\n",
    "                  , range_x=None\n",
    "                  , range_y=None\n",
    "                  , template='plotly_white'\n",
    "                  , height=800\n",
    "                  , width=1500\n",
    "                  , color='Dimension'\n",
    "                  , title =\"<b>IE 3.0 Gantt Chart 2021</b>\"\n",
    "#                   , color=colors\n",
    "                 )\n",
    "\n",
    "fig.update_layout(\n",
    "    bargap=0.5\n",
    "    ,bargroupgap=0.1\n",
    "    ,xaxis_range=[df.Start.min(), df.Finish.max()]\n",
    "    ,xaxis = dict(\n",
    "        showgrid=True\n",
    "        ,rangeslider_visible=True\n",
    "        ,side =\"top\"\n",
    "        ,tickmode = 'array'\n",
    "        ,dtick=\"M1\"\n",
    "        ,tickformat=\"Q%q %Y \\n\"\n",
    "        ,ticklabelmode=\"period\"        \n",
    "        ,ticks=\"outside\"\n",
    "        ,tickson=\"boundaries\"\n",
    "        ,tickwidth=.1\n",
    "        ,layer='below traces'\n",
    "        ,ticklen=20\n",
    "        ,tickfont=dict(\n",
    "            family='Old Standard TT, serif',size=24,color='gray')\n",
    "        ,rangeselector=dict(\n",
    "            buttons=list([\n",
    "                dict(count=1, label=\"1m\", step=\"month\", stepmode=\"backward\"),\n",
    "                dict(count=6, label=\"6m\", step=\"month\", stepmode=\"backward\"),\n",
    "                dict(count=1, label=\"YTD\", step=\"year\", stepmode=\"todate\"),\n",
    "                dict(count=1, label=\"1y\", step=\"year\", stepmode=\"backward\"),\n",
    "                dict(step=\"all\")\n",
    "            ])\n",
    "            ,x=.37\n",
    "            ,y=-.05\n",
    "            ,font=dict(\n",
    "                family=\"Arial\",\n",
    "                size=14,\n",
    "                color=\"darkgray\"\n",
    "    )))\n",
    "    \n",
    "    ,yaxis = dict(\n",
    "        title= \"\"\n",
    "        ,autorange=\"reversed\"\n",
    "        ,automargin=True\n",
    "#         ,anchor=\"free\"\n",
    "        ,ticklen=10\n",
    "        ,showgrid=True\n",
    "        ,showticklabels=True\n",
    "        ,tickfont=dict(\n",
    "            family='Old Standard TT, serif', size=16, color='gray'))\n",
    "    \n",
    "    ,legend=dict(\n",
    "        orientation=\"h\"\n",
    "        ,yanchor=\"bottom\"\n",
    "        ,y=1.1\n",
    "        ,title=\"\"\n",
    "        ,xanchor=\"right\"\n",
    "        ,x=1\n",
    "        ,font=dict(\n",
    "            family=\"Arial\"\n",
    "            ,size=14\n",
    "            ,color=\"darkgray\"))\n",
    ")\n",
    "\n",
    "fig.update_traces( #marker_color='rgb(158,202,225)'\n",
    "                   marker_line_color='rgb(8,48,107)'\n",
    "                  , marker_line_width=1.5, opacity=0.95)\n",
    "\n",
    "fig.update_layout(\n",
    "    title=\"<b>IE 3.0 Gantt Chart 2021</b>\",\n",
    "    xaxis_title=\"\",\n",
    "#     margin_l=400,\n",
    "    yaxis_title=\"Initiatives\",\n",
    "#     legend_title=\"Dimension: \",\n",
    "    font=dict(\n",
    "        family=\"Arial\",\n",
    "        size=24,\n",
    "        color=\"darkgray\"\n",
    "    )\n",
    ")\n",
    "\n",
    "# fig.show()\n",
    "fig.write_html(\"C:/Users/maxwell.bade/Downloads/ie_3_gantt.html\")\n",
    "go.FigureWidget(fig)"
   ]
  },
  {
   "cell_type": "code",
   "execution_count": 202,
   "metadata": {},
   "outputs": [
    {
     "data": {
      "text/plain": [
       "'https://plotly.com/~maxbade/1/'"
      ]
     },
     "execution_count": 202,
     "metadata": {},
     "output_type": "execute_result"
    }
   ],
   "source": [
    "username = 'maxbade'\n",
    "api_key = 'ZLoHQuLuAbT6BlsApZYK'\n",
    "\n",
    "chart_studio.tools.set_credentials_file(username=username, api_key=api_key)\n",
    "py.plot(fig, filename = 'IE 3.0 Gantt Chart Plotly', auto_open=False)"
   ]
  },
  {
   "cell_type": "code",
   "execution_count": 19,
   "metadata": {
    "scrolled": false
   },
   "outputs": [
    {
     "data": {
      "application/vnd.plotly.v1+json": {
       "config": {
        "plotlyServerURL": "https://plot.ly"
       },
       "data": [
        {
         "alignmentgroup": "True",
         "base": [
          "2021-01-01T00:00:00",
          "2021-01-01T00:00:00",
          "2021-02-02T00:00:00",
          "2021-01-01T00:00:00"
         ],
         "hovertemplate": "Dimension=People<br>Start=%{base}<br>Finish=%{x}<br>Task=%{y}<extra></extra>",
         "legendgroup": "People",
         "marker": {
          "color": "rgb(95, 70, 144)",
          "opacity": 0.5
         },
         "name": "People",
         "offsetgroup": "People",
         "orientation": "h",
         "showlegend": true,
         "textposition": "auto",
         "type": "bar",
         "x": [
          7689600000,
          2678400000,
          1123200000,
          7689600000
         ],
         "xaxis": "x",
         "y": [
          "Agile DevOps Culture",
          "Task one test",
          "Task two test",
          "Organizational Design and Operating Model"
         ],
         "yaxis": "y"
        },
        {
         "alignmentgroup": "True",
         "base": [
          "2021-01-01T00:00:00",
          "2021-01-01T00:00:00",
          "2021-01-01T00:00:00",
          "2021-04-01T00:00:00",
          "2021-07-01T00:00:00",
          "2021-10-01T00:00:00"
         ],
         "hovertemplate": "Dimension=Process<br>Start=%{base}<br>Finish=%{x}<br>Task=%{y}<extra></extra>",
         "legendgroup": "Process",
         "marker": {
          "color": "rgb(29, 105, 150)",
          "opacity": 0.5
         },
         "name": "Process",
         "offsetgroup": "Process",
         "orientation": "h",
         "showlegend": true,
         "textposition": "auto",
         "type": "bar",
         "x": [
          7689600000,
          7689600000,
          7689600000,
          7776000000,
          7862400000,
          7862400000
         ],
         "xaxis": "x",
         "y": [
          "Delivery Methodology-Agile, RAD, DevOps, Left Testing, TDD, Low-Code",
          "Product Mgmt Evolution-Product Advisory Council",
          "Expansion of Managed Service Arrangements",
          "DevOps, DataOps, MLOps",
          "Expansion of Self-Service Models",
          "Financial Transparency Process Dev"
         ],
         "yaxis": "y"
        },
        {
         "alignmentgroup": "True",
         "base": [
          "2021-01-01T00:00:00",
          "2021-04-01T00:00:00",
          "2021-07-01T00:00:00",
          "2021-07-01T00:00:00",
          "2021-10-01T00:00:00",
          "2021-10-01T00:00:00",
          "2021-10-01T00:00:00"
         ],
         "hovertemplate": "Dimension=Technology<br>Start=%{base}<br>Finish=%{x}<br>Task=%{y}<extra></extra>",
         "legendgroup": "Technology",
         "marker": {
          "color": "rgb(56, 166, 165)",
          "opacity": 0.5
         },
         "name": "Technology",
         "offsetgroup": "Technology",
         "orientation": "h",
         "showlegend": true,
         "textposition": "auto",
         "type": "bar",
         "x": [
          31449600000,
          23673600000,
          7862400000,
          7862400000,
          7862400000,
          7862400000,
          7862400000
         ],
         "xaxis": "x",
         "y": [
          "Decouple compute/storage",
          "Self-Service Tools",
          "AI/ML Infrastructure/tools",
          "Resilient/Durable",
          "Elastic Infrastructure/Dynamic Compute",
          "Event Streaming",
          "Microservices"
         ],
         "yaxis": "y"
        },
        {
         "alignmentgroup": "True",
         "base": [
          "2021-01-01T00:00:00",
          "2021-01-01T00:00:00",
          "2021-01-01T00:00:00",
          "2021-01-01T00:00:00",
          "2021-01-01T00:00:00"
         ],
         "hovertemplate": "Dimension=Technology - Date TBD<br>Start=%{base}<br>Finish=%{x}<br>Task=%{y}<extra></extra>",
         "legendgroup": "Technology - Date TBD",
         "marker": {
          "color": "rgb(15, 133, 84)",
          "opacity": 0.5
         },
         "name": "Technology - Date TBD",
         "offsetgroup": "Technology - Date TBD",
         "orientation": "h",
         "showlegend": true,
         "textposition": "auto",
         "type": "bar",
         "x": [
          31449600000,
          31449600000,
          31449600000,
          31449600000,
          31449600000
         ],
         "xaxis": "x",
         "y": [
          "Containerization ",
          "Hybrid Cloud Governance, Security and UX, Data Arch, Data Quality Mgmt",
          "Enterprise Orchestration",
          "Low-Code Dev Tools",
          "FHIR Data Architecture"
         ],
         "yaxis": "y"
        },
        {
         "alignmentgroup": "True",
         "base": [
          "2021-01-01T00:00:00"
         ],
         "hovertemplate": "Dimension=Process - Date TBD<br>Start=%{base}<br>Finish=%{x}<br>Task=%{y}<extra></extra>",
         "legendgroup": "Process - Date TBD",
         "marker": {
          "color": "rgb(115, 175, 72)",
          "opacity": 0.5
         },
         "name": "Process - Date TBD",
         "offsetgroup": "Process - Date TBD",
         "orientation": "h",
         "showlegend": true,
         "textposition": "auto",
         "type": "bar",
         "x": [
          31449600000
         ],
         "xaxis": "x",
         "y": [
          "Governance Model Dev-Self-Service, Productionization, Lineage"
         ],
         "yaxis": "y"
        }
       ],
       "layout": {
        "annotations": [
         {
          "font": {
           "color": "black",
           "size": 10
          },
          "showarrow": false,
          "text": "Adopt an Agile/DevOps Cultre",
          "x": "2021-02-25",
          "y": 20
         },
         {
          "font": {
           "color": "black",
           "size": 10
          },
          "showarrow": false,
          "text": "More Aligned to business needs",
          "x": "2021-02-25",
          "y": 19
         },
         {
          "font": {
           "color": "black",
           "size": 10
          },
          "showarrow": false,
          "text": "Visibility of capacity/tasks/outcomes",
          "x": "2021-02-22",
          "y": 18
         },
         {
          "font": {
           "color": "black",
           "size": 10
          },
          "showarrow": false,
          "text": "Better IE collaboration",
          "x": "2021-03-08",
          "y": 17
         },
         {
          "font": {
           "color": "black",
           "size": 10
          },
          "showarrow": false,
          "text": "Elastic cpacity to serve more customers",
          "x": "2021-02-19",
          "y": 16
         },
         {
          "font": {
           "color": "black",
           "size": 10
          },
          "showarrow": false,
          "text": "Automation and greater efficiency",
          "x": "2021-05-25",
          "y": 15
         },
         {
          "font": {
           "color": "black",
           "size": 10
          },
          "showarrow": false,
          "text": "Greater flexibility and autonomy",
          "x": "2021-08-28",
          "y": 14
         },
         {
          "font": {
           "color": "black",
           "size": 10
          },
          "showarrow": false,
          "text": "Address Cost Transparency",
          "x": "2021-12-02",
          "y": 13
         },
         {
          "font": {
           "color": "black",
           "size": 10
          },
          "showarrow": false,
          "text": "Greater flexibility, elasticity and tracking",
          "x": "2021-11-18",
          "y": 12
         },
         {
          "font": {
           "color": "black",
           "size": 10
          },
          "showarrow": false,
          "text": "Greater access and usage to IE",
          "x": "2021-11-28",
          "y": 11
         },
         {
          "font": {
           "color": "black",
           "size": 10
          },
          "showarrow": false,
          "text": "Streamlined model dev and operations",
          "x": "2021-08-22",
          "y": 10
         },
         {
          "font": {
           "color": "black",
           "size": 10
          },
          "showarrow": false,
          "text": "Avoid application failures and downtime",
          "x": "2021-08-20",
          "y": 9
         },
         {
          "font": {
           "color": "black",
           "size": 10
          },
          "showarrow": false,
          "text": "Elastic and flexible for complex workloads",
          "x": "2021-11-19",
          "y": 8
         },
         {
          "font": {
           "color": "black",
           "size": 10
          },
          "showarrow": false,
          "text": "Consistent, real-time, data ingestion",
          "x": "2021-11-22",
          "y": 7
         },
         {
          "font": {
           "color": "black",
           "size": 10
          },
          "showarrow": false,
          "text": "Enable distributed data integration",
          "x": "2021-11-25",
          "y": 6
         },
         {
          "font": {
           "color": "black",
           "size": 10
          },
          "showarrow": false,
          "text": "Consumption-based cost, portability, consisten environments",
          "x": "2021-10-30",
          "y": 5
         },
         {
          "font": {
           "color": "black",
           "size": 10
          },
          "showarrow": false,
          "text": "Align cloud and networking strategies and simplify access controls implementation",
          "x": "2021-10-09",
          "y": 4
         },
         {
          "font": {
           "color": "black",
           "size": 10
          },
          "showarrow": false,
          "text": "Resolved data latency and interoperability",
          "x": "2021-11-18",
          "y": 3
         },
         {
          "font": {
           "color": "black",
           "size": 10
          },
          "showarrow": false,
          "text": "Business-friendly tools and requires a less technical skillset",
          "x": "2021-11-01",
          "y": 2
         },
         {
          "font": {
           "color": "black",
           "size": 10
          },
          "showarrow": false,
          "text": "Support bot clinical and non-clinical data",
          "x": "2021-11-19",
          "y": 1
         },
         {
          "font": {
           "color": "black",
           "size": 10
          },
          "showarrow": false,
          "text": "Greater ability for self-service and enhanced data lineage",
          "x": "2021-11-01",
          "y": 0
         }
        ],
        "barmode": "overlay",
        "height": 1000,
        "legend": {
         "orientation": "h",
         "title": {
          "text": ""
         },
         "tracegroupgap": 0,
         "x": 1,
         "xanchor": "right",
         "y": 1.1,
         "yanchor": "bottom"
        },
        "margin": {
         "t": 60
        },
        "template": {
         "data": {
          "bar": [
           {
            "error_x": {
             "color": "rgb(36,36,36)"
            },
            "error_y": {
             "color": "rgb(36,36,36)"
            },
            "marker": {
             "line": {
              "color": "rgb(234,234,242)",
              "width": 0.5
             }
            },
            "type": "bar"
           }
          ],
          "barpolar": [
           {
            "marker": {
             "line": {
              "color": "rgb(234,234,242)",
              "width": 0.5
             }
            },
            "type": "barpolar"
           }
          ],
          "carpet": [
           {
            "aaxis": {
             "endlinecolor": "rgb(36,36,36)",
             "gridcolor": "white",
             "linecolor": "white",
             "minorgridcolor": "white",
             "startlinecolor": "rgb(36,36,36)"
            },
            "baxis": {
             "endlinecolor": "rgb(36,36,36)",
             "gridcolor": "white",
             "linecolor": "white",
             "minorgridcolor": "white",
             "startlinecolor": "rgb(36,36,36)"
            },
            "type": "carpet"
           }
          ],
          "choropleth": [
           {
            "colorbar": {
             "outlinewidth": 0,
             "tickcolor": "rgb(36,36,36)",
             "ticklen": 8,
             "ticks": "outside",
             "tickwidth": 2
            },
            "type": "choropleth"
           }
          ],
          "contour": [
           {
            "colorbar": {
             "outlinewidth": 0,
             "tickcolor": "rgb(36,36,36)",
             "ticklen": 8,
             "ticks": "outside",
             "tickwidth": 2
            },
            "colorscale": [
             [
              0,
              "rgb(2,4,25)"
             ],
             [
              0.06274509803921569,
              "rgb(24,15,41)"
             ],
             [
              0.12549019607843137,
              "rgb(47,23,57)"
             ],
             [
              0.18823529411764706,
              "rgb(71,28,72)"
             ],
             [
              0.25098039215686274,
              "rgb(97,30,82)"
             ],
             [
              0.3137254901960784,
              "rgb(123,30,89)"
             ],
             [
              0.3764705882352941,
              "rgb(150,27,91)"
             ],
             [
              0.4392156862745098,
              "rgb(177,22,88)"
             ],
             [
              0.5019607843137255,
              "rgb(203,26,79)"
             ],
             [
              0.5647058823529412,
              "rgb(223,47,67)"
             ],
             [
              0.6274509803921569,
              "rgb(236,76,61)"
             ],
             [
              0.6901960784313725,
              "rgb(242,107,73)"
             ],
             [
              0.7529411764705882,
              "rgb(244,135,95)"
             ],
             [
              0.8156862745098039,
              "rgb(245,162,122)"
             ],
             [
              0.8784313725490196,
              "rgb(246,188,153)"
             ],
             [
              0.9411764705882353,
              "rgb(247,212,187)"
             ],
             [
              1,
              "rgb(250,234,220)"
             ]
            ],
            "type": "contour"
           }
          ],
          "contourcarpet": [
           {
            "colorbar": {
             "outlinewidth": 0,
             "tickcolor": "rgb(36,36,36)",
             "ticklen": 8,
             "ticks": "outside",
             "tickwidth": 2
            },
            "type": "contourcarpet"
           }
          ],
          "heatmap": [
           {
            "colorbar": {
             "outlinewidth": 0,
             "tickcolor": "rgb(36,36,36)",
             "ticklen": 8,
             "ticks": "outside",
             "tickwidth": 2
            },
            "colorscale": [
             [
              0,
              "rgb(2,4,25)"
             ],
             [
              0.06274509803921569,
              "rgb(24,15,41)"
             ],
             [
              0.12549019607843137,
              "rgb(47,23,57)"
             ],
             [
              0.18823529411764706,
              "rgb(71,28,72)"
             ],
             [
              0.25098039215686274,
              "rgb(97,30,82)"
             ],
             [
              0.3137254901960784,
              "rgb(123,30,89)"
             ],
             [
              0.3764705882352941,
              "rgb(150,27,91)"
             ],
             [
              0.4392156862745098,
              "rgb(177,22,88)"
             ],
             [
              0.5019607843137255,
              "rgb(203,26,79)"
             ],
             [
              0.5647058823529412,
              "rgb(223,47,67)"
             ],
             [
              0.6274509803921569,
              "rgb(236,76,61)"
             ],
             [
              0.6901960784313725,
              "rgb(242,107,73)"
             ],
             [
              0.7529411764705882,
              "rgb(244,135,95)"
             ],
             [
              0.8156862745098039,
              "rgb(245,162,122)"
             ],
             [
              0.8784313725490196,
              "rgb(246,188,153)"
             ],
             [
              0.9411764705882353,
              "rgb(247,212,187)"
             ],
             [
              1,
              "rgb(250,234,220)"
             ]
            ],
            "type": "heatmap"
           }
          ],
          "heatmapgl": [
           {
            "colorbar": {
             "outlinewidth": 0,
             "tickcolor": "rgb(36,36,36)",
             "ticklen": 8,
             "ticks": "outside",
             "tickwidth": 2
            },
            "colorscale": [
             [
              0,
              "rgb(2,4,25)"
             ],
             [
              0.06274509803921569,
              "rgb(24,15,41)"
             ],
             [
              0.12549019607843137,
              "rgb(47,23,57)"
             ],
             [
              0.18823529411764706,
              "rgb(71,28,72)"
             ],
             [
              0.25098039215686274,
              "rgb(97,30,82)"
             ],
             [
              0.3137254901960784,
              "rgb(123,30,89)"
             ],
             [
              0.3764705882352941,
              "rgb(150,27,91)"
             ],
             [
              0.4392156862745098,
              "rgb(177,22,88)"
             ],
             [
              0.5019607843137255,
              "rgb(203,26,79)"
             ],
             [
              0.5647058823529412,
              "rgb(223,47,67)"
             ],
             [
              0.6274509803921569,
              "rgb(236,76,61)"
             ],
             [
              0.6901960784313725,
              "rgb(242,107,73)"
             ],
             [
              0.7529411764705882,
              "rgb(244,135,95)"
             ],
             [
              0.8156862745098039,
              "rgb(245,162,122)"
             ],
             [
              0.8784313725490196,
              "rgb(246,188,153)"
             ],
             [
              0.9411764705882353,
              "rgb(247,212,187)"
             ],
             [
              1,
              "rgb(250,234,220)"
             ]
            ],
            "type": "heatmapgl"
           }
          ],
          "histogram": [
           {
            "marker": {
             "colorbar": {
              "outlinewidth": 0,
              "tickcolor": "rgb(36,36,36)",
              "ticklen": 8,
              "ticks": "outside",
              "tickwidth": 2
             }
            },
            "type": "histogram"
           }
          ],
          "histogram2d": [
           {
            "colorbar": {
             "outlinewidth": 0,
             "tickcolor": "rgb(36,36,36)",
             "ticklen": 8,
             "ticks": "outside",
             "tickwidth": 2
            },
            "colorscale": [
             [
              0,
              "rgb(2,4,25)"
             ],
             [
              0.06274509803921569,
              "rgb(24,15,41)"
             ],
             [
              0.12549019607843137,
              "rgb(47,23,57)"
             ],
             [
              0.18823529411764706,
              "rgb(71,28,72)"
             ],
             [
              0.25098039215686274,
              "rgb(97,30,82)"
             ],
             [
              0.3137254901960784,
              "rgb(123,30,89)"
             ],
             [
              0.3764705882352941,
              "rgb(150,27,91)"
             ],
             [
              0.4392156862745098,
              "rgb(177,22,88)"
             ],
             [
              0.5019607843137255,
              "rgb(203,26,79)"
             ],
             [
              0.5647058823529412,
              "rgb(223,47,67)"
             ],
             [
              0.6274509803921569,
              "rgb(236,76,61)"
             ],
             [
              0.6901960784313725,
              "rgb(242,107,73)"
             ],
             [
              0.7529411764705882,
              "rgb(244,135,95)"
             ],
             [
              0.8156862745098039,
              "rgb(245,162,122)"
             ],
             [
              0.8784313725490196,
              "rgb(246,188,153)"
             ],
             [
              0.9411764705882353,
              "rgb(247,212,187)"
             ],
             [
              1,
              "rgb(250,234,220)"
             ]
            ],
            "type": "histogram2d"
           }
          ],
          "histogram2dcontour": [
           {
            "colorbar": {
             "outlinewidth": 0,
             "tickcolor": "rgb(36,36,36)",
             "ticklen": 8,
             "ticks": "outside",
             "tickwidth": 2
            },
            "colorscale": [
             [
              0,
              "rgb(2,4,25)"
             ],
             [
              0.06274509803921569,
              "rgb(24,15,41)"
             ],
             [
              0.12549019607843137,
              "rgb(47,23,57)"
             ],
             [
              0.18823529411764706,
              "rgb(71,28,72)"
             ],
             [
              0.25098039215686274,
              "rgb(97,30,82)"
             ],
             [
              0.3137254901960784,
              "rgb(123,30,89)"
             ],
             [
              0.3764705882352941,
              "rgb(150,27,91)"
             ],
             [
              0.4392156862745098,
              "rgb(177,22,88)"
             ],
             [
              0.5019607843137255,
              "rgb(203,26,79)"
             ],
             [
              0.5647058823529412,
              "rgb(223,47,67)"
             ],
             [
              0.6274509803921569,
              "rgb(236,76,61)"
             ],
             [
              0.6901960784313725,
              "rgb(242,107,73)"
             ],
             [
              0.7529411764705882,
              "rgb(244,135,95)"
             ],
             [
              0.8156862745098039,
              "rgb(245,162,122)"
             ],
             [
              0.8784313725490196,
              "rgb(246,188,153)"
             ],
             [
              0.9411764705882353,
              "rgb(247,212,187)"
             ],
             [
              1,
              "rgb(250,234,220)"
             ]
            ],
            "type": "histogram2dcontour"
           }
          ],
          "mesh3d": [
           {
            "colorbar": {
             "outlinewidth": 0,
             "tickcolor": "rgb(36,36,36)",
             "ticklen": 8,
             "ticks": "outside",
             "tickwidth": 2
            },
            "type": "mesh3d"
           }
          ],
          "parcoords": [
           {
            "line": {
             "colorbar": {
              "outlinewidth": 0,
              "tickcolor": "rgb(36,36,36)",
              "ticklen": 8,
              "ticks": "outside",
              "tickwidth": 2
             }
            },
            "type": "parcoords"
           }
          ],
          "pie": [
           {
            "automargin": true,
            "type": "pie"
           }
          ],
          "scatter": [
           {
            "marker": {
             "colorbar": {
              "outlinewidth": 0,
              "tickcolor": "rgb(36,36,36)",
              "ticklen": 8,
              "ticks": "outside",
              "tickwidth": 2
             }
            },
            "type": "scatter"
           }
          ],
          "scatter3d": [
           {
            "line": {
             "colorbar": {
              "outlinewidth": 0,
              "tickcolor": "rgb(36,36,36)",
              "ticklen": 8,
              "ticks": "outside",
              "tickwidth": 2
             }
            },
            "marker": {
             "colorbar": {
              "outlinewidth": 0,
              "tickcolor": "rgb(36,36,36)",
              "ticklen": 8,
              "ticks": "outside",
              "tickwidth": 2
             }
            },
            "type": "scatter3d"
           }
          ],
          "scattercarpet": [
           {
            "marker": {
             "colorbar": {
              "outlinewidth": 0,
              "tickcolor": "rgb(36,36,36)",
              "ticklen": 8,
              "ticks": "outside",
              "tickwidth": 2
             }
            },
            "type": "scattercarpet"
           }
          ],
          "scattergeo": [
           {
            "marker": {
             "colorbar": {
              "outlinewidth": 0,
              "tickcolor": "rgb(36,36,36)",
              "ticklen": 8,
              "ticks": "outside",
              "tickwidth": 2
             }
            },
            "type": "scattergeo"
           }
          ],
          "scattergl": [
           {
            "marker": {
             "colorbar": {
              "outlinewidth": 0,
              "tickcolor": "rgb(36,36,36)",
              "ticklen": 8,
              "ticks": "outside",
              "tickwidth": 2
             }
            },
            "type": "scattergl"
           }
          ],
          "scattermapbox": [
           {
            "marker": {
             "colorbar": {
              "outlinewidth": 0,
              "tickcolor": "rgb(36,36,36)",
              "ticklen": 8,
              "ticks": "outside",
              "tickwidth": 2
             }
            },
            "type": "scattermapbox"
           }
          ],
          "scatterpolar": [
           {
            "marker": {
             "colorbar": {
              "outlinewidth": 0,
              "tickcolor": "rgb(36,36,36)",
              "ticklen": 8,
              "ticks": "outside",
              "tickwidth": 2
             }
            },
            "type": "scatterpolar"
           }
          ],
          "scatterpolargl": [
           {
            "marker": {
             "colorbar": {
              "outlinewidth": 0,
              "tickcolor": "rgb(36,36,36)",
              "ticklen": 8,
              "ticks": "outside",
              "tickwidth": 2
             }
            },
            "type": "scatterpolargl"
           }
          ],
          "scatterternary": [
           {
            "marker": {
             "colorbar": {
              "outlinewidth": 0,
              "tickcolor": "rgb(36,36,36)",
              "ticklen": 8,
              "ticks": "outside",
              "tickwidth": 2
             }
            },
            "type": "scatterternary"
           }
          ],
          "surface": [
           {
            "colorbar": {
             "outlinewidth": 0,
             "tickcolor": "rgb(36,36,36)",
             "ticklen": 8,
             "ticks": "outside",
             "tickwidth": 2
            },
            "colorscale": [
             [
              0,
              "rgb(2,4,25)"
             ],
             [
              0.06274509803921569,
              "rgb(24,15,41)"
             ],
             [
              0.12549019607843137,
              "rgb(47,23,57)"
             ],
             [
              0.18823529411764706,
              "rgb(71,28,72)"
             ],
             [
              0.25098039215686274,
              "rgb(97,30,82)"
             ],
             [
              0.3137254901960784,
              "rgb(123,30,89)"
             ],
             [
              0.3764705882352941,
              "rgb(150,27,91)"
             ],
             [
              0.4392156862745098,
              "rgb(177,22,88)"
             ],
             [
              0.5019607843137255,
              "rgb(203,26,79)"
             ],
             [
              0.5647058823529412,
              "rgb(223,47,67)"
             ],
             [
              0.6274509803921569,
              "rgb(236,76,61)"
             ],
             [
              0.6901960784313725,
              "rgb(242,107,73)"
             ],
             [
              0.7529411764705882,
              "rgb(244,135,95)"
             ],
             [
              0.8156862745098039,
              "rgb(245,162,122)"
             ],
             [
              0.8784313725490196,
              "rgb(246,188,153)"
             ],
             [
              0.9411764705882353,
              "rgb(247,212,187)"
             ],
             [
              1,
              "rgb(250,234,220)"
             ]
            ],
            "type": "surface"
           }
          ],
          "table": [
           {
            "cells": {
             "fill": {
              "color": "rgb(231,231,240)"
             },
             "line": {
              "color": "white"
             }
            },
            "header": {
             "fill": {
              "color": "rgb(183,183,191)"
             },
             "line": {
              "color": "white"
             }
            },
            "type": "table"
           }
          ]
         },
         "layout": {
          "annotationdefaults": {
           "arrowcolor": "rgb(67,103,167)"
          },
          "coloraxis": {
           "colorbar": {
            "outlinewidth": 0,
            "tickcolor": "rgb(36,36,36)",
            "ticklen": 8,
            "ticks": "outside",
            "tickwidth": 2
           }
          },
          "colorscale": {
           "sequential": [
            [
             0,
             "rgb(2,4,25)"
            ],
            [
             0.06274509803921569,
             "rgb(24,15,41)"
            ],
            [
             0.12549019607843137,
             "rgb(47,23,57)"
            ],
            [
             0.18823529411764706,
             "rgb(71,28,72)"
            ],
            [
             0.25098039215686274,
             "rgb(97,30,82)"
            ],
            [
             0.3137254901960784,
             "rgb(123,30,89)"
            ],
            [
             0.3764705882352941,
             "rgb(150,27,91)"
            ],
            [
             0.4392156862745098,
             "rgb(177,22,88)"
            ],
            [
             0.5019607843137255,
             "rgb(203,26,79)"
            ],
            [
             0.5647058823529412,
             "rgb(223,47,67)"
            ],
            [
             0.6274509803921569,
             "rgb(236,76,61)"
            ],
            [
             0.6901960784313725,
             "rgb(242,107,73)"
            ],
            [
             0.7529411764705882,
             "rgb(244,135,95)"
            ],
            [
             0.8156862745098039,
             "rgb(245,162,122)"
            ],
            [
             0.8784313725490196,
             "rgb(246,188,153)"
            ],
            [
             0.9411764705882353,
             "rgb(247,212,187)"
            ],
            [
             1,
             "rgb(250,234,220)"
            ]
           ],
           "sequentialminus": [
            [
             0,
             "rgb(2,4,25)"
            ],
            [
             0.06274509803921569,
             "rgb(24,15,41)"
            ],
            [
             0.12549019607843137,
             "rgb(47,23,57)"
            ],
            [
             0.18823529411764706,
             "rgb(71,28,72)"
            ],
            [
             0.25098039215686274,
             "rgb(97,30,82)"
            ],
            [
             0.3137254901960784,
             "rgb(123,30,89)"
            ],
            [
             0.3764705882352941,
             "rgb(150,27,91)"
            ],
            [
             0.4392156862745098,
             "rgb(177,22,88)"
            ],
            [
             0.5019607843137255,
             "rgb(203,26,79)"
            ],
            [
             0.5647058823529412,
             "rgb(223,47,67)"
            ],
            [
             0.6274509803921569,
             "rgb(236,76,61)"
            ],
            [
             0.6901960784313725,
             "rgb(242,107,73)"
            ],
            [
             0.7529411764705882,
             "rgb(244,135,95)"
            ],
            [
             0.8156862745098039,
             "rgb(245,162,122)"
            ],
            [
             0.8784313725490196,
             "rgb(246,188,153)"
            ],
            [
             0.9411764705882353,
             "rgb(247,212,187)"
            ],
            [
             1,
             "rgb(250,234,220)"
            ]
           ]
          },
          "colorway": [
           "rgb(76,114,176)",
           "rgb(221,132,82)",
           "rgb(85,168,104)",
           "rgb(196,78,82)",
           "rgb(129,114,179)",
           "rgb(147,120,96)",
           "rgb(218,139,195)",
           "rgb(140,140,140)",
           "rgb(204,185,116)",
           "rgb(100,181,205)"
          ],
          "font": {
           "color": "rgb(36,36,36)"
          },
          "geo": {
           "bgcolor": "white",
           "lakecolor": "white",
           "landcolor": "rgb(234,234,242)",
           "showlakes": true,
           "showland": true,
           "subunitcolor": "white"
          },
          "hoverlabel": {
           "align": "left"
          },
          "hovermode": "closest",
          "paper_bgcolor": "white",
          "plot_bgcolor": "rgb(234,234,242)",
          "polar": {
           "angularaxis": {
            "gridcolor": "white",
            "linecolor": "white",
            "showgrid": true,
            "ticks": ""
           },
           "bgcolor": "rgb(234,234,242)",
           "radialaxis": {
            "gridcolor": "white",
            "linecolor": "white",
            "showgrid": true,
            "ticks": ""
           }
          },
          "scene": {
           "xaxis": {
            "backgroundcolor": "rgb(234,234,242)",
            "gridcolor": "white",
            "gridwidth": 2,
            "linecolor": "white",
            "showbackground": true,
            "showgrid": true,
            "ticks": "",
            "zerolinecolor": "white"
           },
           "yaxis": {
            "backgroundcolor": "rgb(234,234,242)",
            "gridcolor": "white",
            "gridwidth": 2,
            "linecolor": "white",
            "showbackground": true,
            "showgrid": true,
            "ticks": "",
            "zerolinecolor": "white"
           },
           "zaxis": {
            "backgroundcolor": "rgb(234,234,242)",
            "gridcolor": "white",
            "gridwidth": 2,
            "linecolor": "white",
            "showbackground": true,
            "showgrid": true,
            "ticks": "",
            "zerolinecolor": "white"
           }
          },
          "shapedefaults": {
           "fillcolor": "rgb(67,103,167)",
           "line": {
            "width": 0
           },
           "opacity": 0.5
          },
          "ternary": {
           "aaxis": {
            "gridcolor": "white",
            "linecolor": "white",
            "showgrid": true,
            "ticks": ""
           },
           "baxis": {
            "gridcolor": "white",
            "linecolor": "white",
            "showgrid": true,
            "ticks": ""
           },
           "bgcolor": "rgb(234,234,242)",
           "caxis": {
            "gridcolor": "white",
            "linecolor": "white",
            "showgrid": true,
            "ticks": ""
           }
          },
          "xaxis": {
           "automargin": true,
           "gridcolor": "white",
           "linecolor": "white",
           "showgrid": true,
           "ticks": "",
           "title": {
            "standoff": 15
           },
           "zerolinecolor": "white"
          },
          "yaxis": {
           "automargin": true,
           "gridcolor": "white",
           "linecolor": "white",
           "showgrid": true,
           "ticks": "",
           "title": {
            "standoff": 15
           },
           "zerolinecolor": "white"
          }
         }
        },
        "xaxis": {
         "anchor": "y",
         "domain": [
          0,
          1
         ],
         "layer": "below traces",
         "range": [
          "2021-01-01T00:00:00",
          "2021-12-31T00:00:00"
         ],
         "rangeslider": {
          "visible": true
         },
         "showgrid": true,
         "side": "top",
         "tickfont": {
          "color": "darkgray",
          "family": "Old Standard TT, serif",
          "size": 16
         },
         "tickformat": "End of Q%q <br> %d %B <br>%Y",
         "ticklen": 2,
         "tickmode": "array",
         "ticks": "outside",
         "tickson": "boundaries",
         "tickvals": [
          "2021-03-31T00:00:00",
          "2021-06-30T00:00:00",
          "2021-09-30T00:00:00",
          "2021-12-31T00:00:00"
         ],
         "tickwidth": 0.1,
         "type": "date"
        },
        "yaxis": {
         "anchor": "x",
         "automargin": true,
         "categoryarray": [
          "Governance Model Dev-Self-Service, Productionization, Lineage",
          "FHIR Data Architecture",
          "Low-Code Dev Tools",
          "Enterprise Orchestration",
          "Hybrid Cloud Governance, Security and UX, Data Arch, Data Quality Mgmt",
          "Containerization ",
          "Microservices",
          "Event Streaming",
          "Elastic Infrastructure/Dynamic Compute",
          "Resilient/Durable",
          "AI/ML Infrastructure/tools",
          "Self-Service Tools",
          "Decouple compute/storage",
          "Financial Transparency Process Dev",
          "Expansion of Self-Service Models",
          "DevOps, DataOps, MLOps",
          "Expansion of Managed Service Arrangements",
          "Product Mgmt Evolution-Product Advisory Council",
          "Delivery Methodology-Agile, RAD, DevOps, Left Testing, TDD, Low-Code",
          "Organizational Design and Operating Model",
          "Agile DevOps Culture"
         ],
         "categoryorder": "array",
         "domain": [
          0,
          1
         ],
         "showgrid": true,
         "showticklabels": true,
         "tickfont": {
          "color": "black",
          "family": "Old Standard TT, serif",
          "size": 12
         },
         "ticklen": 3,
         "title": {
          "text": ""
         }
        }
       }
      },
      "text/html": [
       "<div>                            <div id=\"0af88a2c-8a29-4c81-bbb9-0b746f8a2ce4\" class=\"plotly-graph-div\" style=\"height:1000px; width:100%;\"></div>            <script type=\"text/javascript\">                require([\"plotly\"], function(Plotly) {                    window.PLOTLYENV=window.PLOTLYENV || {};                                    if (document.getElementById(\"0af88a2c-8a29-4c81-bbb9-0b746f8a2ce4\")) {                    Plotly.newPlot(                        \"0af88a2c-8a29-4c81-bbb9-0b746f8a2ce4\",                        [{\"alignmentgroup\": \"True\", \"base\": [\"2021-01-01T00:00:00\", \"2021-01-01T00:00:00\", \"2021-02-02T00:00:00\", \"2021-01-01T00:00:00\"], \"hovertemplate\": \"Dimension=People<br>Start=%{base}<br>Finish=%{x}<br>Task=%{y}<extra></extra>\", \"legendgroup\": \"People\", \"marker\": {\"color\": \"rgb(95, 70, 144)\", \"opacity\": 0.5}, \"name\": \"People\", \"offsetgroup\": \"People\", \"orientation\": \"h\", \"showlegend\": true, \"textposition\": \"auto\", \"type\": \"bar\", \"x\": [7689600000.0, 2678400000.0, 1123200000.0, 7689600000.0], \"xaxis\": \"x\", \"y\": [\"Agile DevOps Culture\", \"Task one test\", \"Task two test\", \"Organizational Design and Operating Model\"], \"yaxis\": \"y\"}, {\"alignmentgroup\": \"True\", \"base\": [\"2021-01-01T00:00:00\", \"2021-01-01T00:00:00\", \"2021-01-01T00:00:00\", \"2021-04-01T00:00:00\", \"2021-07-01T00:00:00\", \"2021-10-01T00:00:00\"], \"hovertemplate\": \"Dimension=Process<br>Start=%{base}<br>Finish=%{x}<br>Task=%{y}<extra></extra>\", \"legendgroup\": \"Process\", \"marker\": {\"color\": \"rgb(29, 105, 150)\", \"opacity\": 0.5}, \"name\": \"Process\", \"offsetgroup\": \"Process\", \"orientation\": \"h\", \"showlegend\": true, \"textposition\": \"auto\", \"type\": \"bar\", \"x\": [7689600000.0, 7689600000.0, 7689600000.0, 7776000000.0, 7862400000.0, 7862400000.0], \"xaxis\": \"x\", \"y\": [\"Delivery Methodology-Agile, RAD, DevOps, Left Testing, TDD, Low-Code\", \"Product Mgmt Evolution-Product Advisory Council\", \"Expansion of Managed Service Arrangements\", \"DevOps, DataOps, MLOps\", \"Expansion of Self-Service Models\", \"Financial Transparency Process Dev\"], \"yaxis\": \"y\"}, {\"alignmentgroup\": \"True\", \"base\": [\"2021-01-01T00:00:00\", \"2021-04-01T00:00:00\", \"2021-07-01T00:00:00\", \"2021-07-01T00:00:00\", \"2021-10-01T00:00:00\", \"2021-10-01T00:00:00\", \"2021-10-01T00:00:00\"], \"hovertemplate\": \"Dimension=Technology<br>Start=%{base}<br>Finish=%{x}<br>Task=%{y}<extra></extra>\", \"legendgroup\": \"Technology\", \"marker\": {\"color\": \"rgb(56, 166, 165)\", \"opacity\": 0.5}, \"name\": \"Technology\", \"offsetgroup\": \"Technology\", \"orientation\": \"h\", \"showlegend\": true, \"textposition\": \"auto\", \"type\": \"bar\", \"x\": [31449600000.0, 23673600000.0, 7862400000.0, 7862400000.0, 7862400000.0, 7862400000.0, 7862400000.0], \"xaxis\": \"x\", \"y\": [\"Decouple compute/storage\", \"Self-Service Tools\", \"AI/ML Infrastructure/tools\", \"Resilient/Durable\", \"Elastic Infrastructure/Dynamic Compute\", \"Event Streaming\", \"Microservices\"], \"yaxis\": \"y\"}, {\"alignmentgroup\": \"True\", \"base\": [\"2021-01-01T00:00:00\", \"2021-01-01T00:00:00\", \"2021-01-01T00:00:00\", \"2021-01-01T00:00:00\", \"2021-01-01T00:00:00\"], \"hovertemplate\": \"Dimension=Technology - Date TBD<br>Start=%{base}<br>Finish=%{x}<br>Task=%{y}<extra></extra>\", \"legendgroup\": \"Technology - Date TBD\", \"marker\": {\"color\": \"rgb(15, 133, 84)\", \"opacity\": 0.5}, \"name\": \"Technology - Date TBD\", \"offsetgroup\": \"Technology - Date TBD\", \"orientation\": \"h\", \"showlegend\": true, \"textposition\": \"auto\", \"type\": \"bar\", \"x\": [31449600000.0, 31449600000.0, 31449600000.0, 31449600000.0, 31449600000.0], \"xaxis\": \"x\", \"y\": [\"Containerization \", \"Hybrid Cloud Governance, Security and UX, Data Arch, Data Quality Mgmt\", \"Enterprise Orchestration\", \"Low-Code Dev Tools\", \"FHIR Data Architecture\"], \"yaxis\": \"y\"}, {\"alignmentgroup\": \"True\", \"base\": [\"2021-01-01T00:00:00\"], \"hovertemplate\": \"Dimension=Process - Date TBD<br>Start=%{base}<br>Finish=%{x}<br>Task=%{y}<extra></extra>\", \"legendgroup\": \"Process - Date TBD\", \"marker\": {\"color\": \"rgb(115, 175, 72)\", \"opacity\": 0.5}, \"name\": \"Process - Date TBD\", \"offsetgroup\": \"Process - Date TBD\", \"orientation\": \"h\", \"showlegend\": true, \"textposition\": \"auto\", \"type\": \"bar\", \"x\": [31449600000.0], \"xaxis\": \"x\", \"y\": [\"Governance Model Dev-Self-Service, Productionization, Lineage\"], \"yaxis\": \"y\"}],                        {\"annotations\": [{\"font\": {\"color\": \"black\", \"size\": 10}, \"showarrow\": false, \"text\": \"Adopt an Agile/DevOps Cultre\", \"x\": \"2021-02-25\", \"y\": 20}, {\"font\": {\"color\": \"black\", \"size\": 10}, \"showarrow\": false, \"text\": \"More Aligned to business needs\", \"x\": \"2021-02-25\", \"y\": 19}, {\"font\": {\"color\": \"black\", \"size\": 10}, \"showarrow\": false, \"text\": \"Visibility of capacity/tasks/outcomes\", \"x\": \"2021-02-22\", \"y\": 18}, {\"font\": {\"color\": \"black\", \"size\": 10}, \"showarrow\": false, \"text\": \"Better IE collaboration\", \"x\": \"2021-03-08\", \"y\": 17}, {\"font\": {\"color\": \"black\", \"size\": 10}, \"showarrow\": false, \"text\": \"Elastic cpacity to serve more customers\", \"x\": \"2021-02-19\", \"y\": 16}, {\"font\": {\"color\": \"black\", \"size\": 10}, \"showarrow\": false, \"text\": \"Automation and greater efficiency\", \"x\": \"2021-05-25\", \"y\": 15}, {\"font\": {\"color\": \"black\", \"size\": 10}, \"showarrow\": false, \"text\": \"Greater flexibility and autonomy\", \"x\": \"2021-08-28\", \"y\": 14}, {\"font\": {\"color\": \"black\", \"size\": 10}, \"showarrow\": false, \"text\": \"Address Cost Transparency\", \"x\": \"2021-12-02\", \"y\": 13}, {\"font\": {\"color\": \"black\", \"size\": 10}, \"showarrow\": false, \"text\": \"Greater flexibility, elasticity and tracking\", \"x\": \"2021-11-18\", \"y\": 12}, {\"font\": {\"color\": \"black\", \"size\": 10}, \"showarrow\": false, \"text\": \"Greater access and usage to IE\", \"x\": \"2021-11-28\", \"y\": 11}, {\"font\": {\"color\": \"black\", \"size\": 10}, \"showarrow\": false, \"text\": \"Streamlined model dev and operations\", \"x\": \"2021-08-22\", \"y\": 10}, {\"font\": {\"color\": \"black\", \"size\": 10}, \"showarrow\": false, \"text\": \"Avoid application failures and downtime\", \"x\": \"2021-08-20\", \"y\": 9}, {\"font\": {\"color\": \"black\", \"size\": 10}, \"showarrow\": false, \"text\": \"Elastic and flexible for complex workloads\", \"x\": \"2021-11-19\", \"y\": 8}, {\"font\": {\"color\": \"black\", \"size\": 10}, \"showarrow\": false, \"text\": \"Consistent, real-time, data ingestion\", \"x\": \"2021-11-22\", \"y\": 7}, {\"font\": {\"color\": \"black\", \"size\": 10}, \"showarrow\": false, \"text\": \"Enable distributed data integration\", \"x\": \"2021-11-25\", \"y\": 6}, {\"font\": {\"color\": \"black\", \"size\": 10}, \"showarrow\": false, \"text\": \"Consumption-based cost, portability, consisten environments\", \"x\": \"2021-10-30\", \"y\": 5}, {\"font\": {\"color\": \"black\", \"size\": 10}, \"showarrow\": false, \"text\": \"Align cloud and networking strategies and simplify access controls implementation\", \"x\": \"2021-10-09\", \"y\": 4}, {\"font\": {\"color\": \"black\", \"size\": 10}, \"showarrow\": false, \"text\": \"Resolved data latency and interoperability\", \"x\": \"2021-11-18\", \"y\": 3}, {\"font\": {\"color\": \"black\", \"size\": 10}, \"showarrow\": false, \"text\": \"Business-friendly tools and requires a less technical skillset\", \"x\": \"2021-11-01\", \"y\": 2}, {\"font\": {\"color\": \"black\", \"size\": 10}, \"showarrow\": false, \"text\": \"Support bot clinical and non-clinical data\", \"x\": \"2021-11-19\", \"y\": 1}, {\"font\": {\"color\": \"black\", \"size\": 10}, \"showarrow\": false, \"text\": \"Greater ability for self-service and enhanced data lineage\", \"x\": \"2021-11-01\", \"y\": 0}], \"barmode\": \"overlay\", \"height\": 1000, \"legend\": {\"orientation\": \"h\", \"title\": {\"text\": \"\"}, \"tracegroupgap\": 0, \"x\": 1, \"xanchor\": \"right\", \"y\": 1.1, \"yanchor\": \"bottom\"}, \"margin\": {\"t\": 60}, \"template\": {\"data\": {\"bar\": [{\"error_x\": {\"color\": \"rgb(36,36,36)\"}, \"error_y\": {\"color\": \"rgb(36,36,36)\"}, \"marker\": {\"line\": {\"color\": \"rgb(234,234,242)\", \"width\": 0.5}}, \"type\": \"bar\"}], \"barpolar\": [{\"marker\": {\"line\": {\"color\": \"rgb(234,234,242)\", \"width\": 0.5}}, \"type\": \"barpolar\"}], \"carpet\": [{\"aaxis\": {\"endlinecolor\": \"rgb(36,36,36)\", \"gridcolor\": \"white\", \"linecolor\": \"white\", \"minorgridcolor\": \"white\", \"startlinecolor\": \"rgb(36,36,36)\"}, \"baxis\": {\"endlinecolor\": \"rgb(36,36,36)\", \"gridcolor\": \"white\", \"linecolor\": \"white\", \"minorgridcolor\": \"white\", \"startlinecolor\": \"rgb(36,36,36)\"}, \"type\": \"carpet\"}], \"choropleth\": [{\"colorbar\": {\"outlinewidth\": 0, \"tickcolor\": \"rgb(36,36,36)\", \"ticklen\": 8, \"ticks\": \"outside\", \"tickwidth\": 2}, \"type\": \"choropleth\"}], \"contour\": [{\"colorbar\": {\"outlinewidth\": 0, \"tickcolor\": \"rgb(36,36,36)\", \"ticklen\": 8, \"ticks\": \"outside\", \"tickwidth\": 2}, \"colorscale\": [[0.0, \"rgb(2,4,25)\"], [0.06274509803921569, \"rgb(24,15,41)\"], [0.12549019607843137, \"rgb(47,23,57)\"], [0.18823529411764706, \"rgb(71,28,72)\"], [0.25098039215686274, \"rgb(97,30,82)\"], [0.3137254901960784, \"rgb(123,30,89)\"], [0.3764705882352941, \"rgb(150,27,91)\"], [0.4392156862745098, \"rgb(177,22,88)\"], [0.5019607843137255, \"rgb(203,26,79)\"], [0.5647058823529412, \"rgb(223,47,67)\"], [0.6274509803921569, \"rgb(236,76,61)\"], [0.6901960784313725, \"rgb(242,107,73)\"], [0.7529411764705882, \"rgb(244,135,95)\"], [0.8156862745098039, \"rgb(245,162,122)\"], [0.8784313725490196, \"rgb(246,188,153)\"], [0.9411764705882353, \"rgb(247,212,187)\"], [1.0, \"rgb(250,234,220)\"]], \"type\": \"contour\"}], \"contourcarpet\": [{\"colorbar\": {\"outlinewidth\": 0, \"tickcolor\": \"rgb(36,36,36)\", \"ticklen\": 8, \"ticks\": \"outside\", \"tickwidth\": 2}, \"type\": \"contourcarpet\"}], \"heatmap\": [{\"colorbar\": {\"outlinewidth\": 0, \"tickcolor\": \"rgb(36,36,36)\", \"ticklen\": 8, \"ticks\": \"outside\", \"tickwidth\": 2}, \"colorscale\": [[0.0, \"rgb(2,4,25)\"], [0.06274509803921569, \"rgb(24,15,41)\"], [0.12549019607843137, \"rgb(47,23,57)\"], [0.18823529411764706, \"rgb(71,28,72)\"], [0.25098039215686274, \"rgb(97,30,82)\"], [0.3137254901960784, \"rgb(123,30,89)\"], [0.3764705882352941, \"rgb(150,27,91)\"], [0.4392156862745098, \"rgb(177,22,88)\"], [0.5019607843137255, \"rgb(203,26,79)\"], [0.5647058823529412, \"rgb(223,47,67)\"], [0.6274509803921569, \"rgb(236,76,61)\"], [0.6901960784313725, \"rgb(242,107,73)\"], [0.7529411764705882, \"rgb(244,135,95)\"], [0.8156862745098039, \"rgb(245,162,122)\"], [0.8784313725490196, \"rgb(246,188,153)\"], [0.9411764705882353, \"rgb(247,212,187)\"], [1.0, \"rgb(250,234,220)\"]], \"type\": \"heatmap\"}], \"heatmapgl\": [{\"colorbar\": {\"outlinewidth\": 0, \"tickcolor\": \"rgb(36,36,36)\", \"ticklen\": 8, \"ticks\": \"outside\", \"tickwidth\": 2}, \"colorscale\": [[0.0, \"rgb(2,4,25)\"], [0.06274509803921569, \"rgb(24,15,41)\"], [0.12549019607843137, \"rgb(47,23,57)\"], [0.18823529411764706, \"rgb(71,28,72)\"], [0.25098039215686274, \"rgb(97,30,82)\"], [0.3137254901960784, \"rgb(123,30,89)\"], [0.3764705882352941, \"rgb(150,27,91)\"], [0.4392156862745098, \"rgb(177,22,88)\"], [0.5019607843137255, \"rgb(203,26,79)\"], [0.5647058823529412, \"rgb(223,47,67)\"], [0.6274509803921569, \"rgb(236,76,61)\"], [0.6901960784313725, \"rgb(242,107,73)\"], [0.7529411764705882, \"rgb(244,135,95)\"], [0.8156862745098039, \"rgb(245,162,122)\"], [0.8784313725490196, \"rgb(246,188,153)\"], [0.9411764705882353, \"rgb(247,212,187)\"], [1.0, \"rgb(250,234,220)\"]], \"type\": \"heatmapgl\"}], \"histogram\": [{\"marker\": {\"colorbar\": {\"outlinewidth\": 0, \"tickcolor\": \"rgb(36,36,36)\", \"ticklen\": 8, \"ticks\": \"outside\", \"tickwidth\": 2}}, \"type\": \"histogram\"}], \"histogram2d\": [{\"colorbar\": {\"outlinewidth\": 0, \"tickcolor\": \"rgb(36,36,36)\", \"ticklen\": 8, \"ticks\": \"outside\", \"tickwidth\": 2}, \"colorscale\": [[0.0, \"rgb(2,4,25)\"], [0.06274509803921569, \"rgb(24,15,41)\"], [0.12549019607843137, \"rgb(47,23,57)\"], [0.18823529411764706, \"rgb(71,28,72)\"], [0.25098039215686274, \"rgb(97,30,82)\"], [0.3137254901960784, \"rgb(123,30,89)\"], [0.3764705882352941, \"rgb(150,27,91)\"], [0.4392156862745098, \"rgb(177,22,88)\"], [0.5019607843137255, \"rgb(203,26,79)\"], [0.5647058823529412, \"rgb(223,47,67)\"], [0.6274509803921569, \"rgb(236,76,61)\"], [0.6901960784313725, \"rgb(242,107,73)\"], [0.7529411764705882, \"rgb(244,135,95)\"], [0.8156862745098039, \"rgb(245,162,122)\"], [0.8784313725490196, \"rgb(246,188,153)\"], [0.9411764705882353, \"rgb(247,212,187)\"], [1.0, \"rgb(250,234,220)\"]], \"type\": \"histogram2d\"}], \"histogram2dcontour\": [{\"colorbar\": {\"outlinewidth\": 0, \"tickcolor\": \"rgb(36,36,36)\", \"ticklen\": 8, \"ticks\": \"outside\", \"tickwidth\": 2}, \"colorscale\": [[0.0, \"rgb(2,4,25)\"], [0.06274509803921569, \"rgb(24,15,41)\"], [0.12549019607843137, \"rgb(47,23,57)\"], [0.18823529411764706, \"rgb(71,28,72)\"], [0.25098039215686274, \"rgb(97,30,82)\"], [0.3137254901960784, \"rgb(123,30,89)\"], [0.3764705882352941, \"rgb(150,27,91)\"], [0.4392156862745098, \"rgb(177,22,88)\"], [0.5019607843137255, \"rgb(203,26,79)\"], [0.5647058823529412, \"rgb(223,47,67)\"], [0.6274509803921569, \"rgb(236,76,61)\"], [0.6901960784313725, \"rgb(242,107,73)\"], [0.7529411764705882, \"rgb(244,135,95)\"], [0.8156862745098039, \"rgb(245,162,122)\"], [0.8784313725490196, \"rgb(246,188,153)\"], [0.9411764705882353, \"rgb(247,212,187)\"], [1.0, \"rgb(250,234,220)\"]], \"type\": \"histogram2dcontour\"}], \"mesh3d\": [{\"colorbar\": {\"outlinewidth\": 0, \"tickcolor\": \"rgb(36,36,36)\", \"ticklen\": 8, \"ticks\": \"outside\", \"tickwidth\": 2}, \"type\": \"mesh3d\"}], \"parcoords\": [{\"line\": {\"colorbar\": {\"outlinewidth\": 0, \"tickcolor\": \"rgb(36,36,36)\", \"ticklen\": 8, \"ticks\": \"outside\", \"tickwidth\": 2}}, \"type\": \"parcoords\"}], \"pie\": [{\"automargin\": true, \"type\": \"pie\"}], \"scatter\": [{\"marker\": {\"colorbar\": {\"outlinewidth\": 0, \"tickcolor\": \"rgb(36,36,36)\", \"ticklen\": 8, \"ticks\": \"outside\", \"tickwidth\": 2}}, \"type\": \"scatter\"}], \"scatter3d\": [{\"line\": {\"colorbar\": {\"outlinewidth\": 0, \"tickcolor\": \"rgb(36,36,36)\", \"ticklen\": 8, \"ticks\": \"outside\", \"tickwidth\": 2}}, \"marker\": {\"colorbar\": {\"outlinewidth\": 0, \"tickcolor\": \"rgb(36,36,36)\", \"ticklen\": 8, \"ticks\": \"outside\", \"tickwidth\": 2}}, \"type\": \"scatter3d\"}], \"scattercarpet\": [{\"marker\": {\"colorbar\": {\"outlinewidth\": 0, \"tickcolor\": \"rgb(36,36,36)\", \"ticklen\": 8, \"ticks\": \"outside\", \"tickwidth\": 2}}, \"type\": \"scattercarpet\"}], \"scattergeo\": [{\"marker\": {\"colorbar\": {\"outlinewidth\": 0, \"tickcolor\": \"rgb(36,36,36)\", \"ticklen\": 8, \"ticks\": \"outside\", \"tickwidth\": 2}}, \"type\": \"scattergeo\"}], \"scattergl\": [{\"marker\": {\"colorbar\": {\"outlinewidth\": 0, \"tickcolor\": \"rgb(36,36,36)\", \"ticklen\": 8, \"ticks\": \"outside\", \"tickwidth\": 2}}, \"type\": \"scattergl\"}], \"scattermapbox\": [{\"marker\": {\"colorbar\": {\"outlinewidth\": 0, \"tickcolor\": \"rgb(36,36,36)\", \"ticklen\": 8, \"ticks\": \"outside\", \"tickwidth\": 2}}, \"type\": \"scattermapbox\"}], \"scatterpolar\": [{\"marker\": {\"colorbar\": {\"outlinewidth\": 0, \"tickcolor\": \"rgb(36,36,36)\", \"ticklen\": 8, \"ticks\": \"outside\", \"tickwidth\": 2}}, \"type\": \"scatterpolar\"}], \"scatterpolargl\": [{\"marker\": {\"colorbar\": {\"outlinewidth\": 0, \"tickcolor\": \"rgb(36,36,36)\", \"ticklen\": 8, \"ticks\": \"outside\", \"tickwidth\": 2}}, \"type\": \"scatterpolargl\"}], \"scatterternary\": [{\"marker\": {\"colorbar\": {\"outlinewidth\": 0, \"tickcolor\": \"rgb(36,36,36)\", \"ticklen\": 8, \"ticks\": \"outside\", \"tickwidth\": 2}}, \"type\": \"scatterternary\"}], \"surface\": [{\"colorbar\": {\"outlinewidth\": 0, \"tickcolor\": \"rgb(36,36,36)\", \"ticklen\": 8, \"ticks\": \"outside\", \"tickwidth\": 2}, \"colorscale\": [[0.0, \"rgb(2,4,25)\"], [0.06274509803921569, \"rgb(24,15,41)\"], [0.12549019607843137, \"rgb(47,23,57)\"], [0.18823529411764706, \"rgb(71,28,72)\"], [0.25098039215686274, \"rgb(97,30,82)\"], [0.3137254901960784, \"rgb(123,30,89)\"], [0.3764705882352941, \"rgb(150,27,91)\"], [0.4392156862745098, \"rgb(177,22,88)\"], [0.5019607843137255, \"rgb(203,26,79)\"], [0.5647058823529412, \"rgb(223,47,67)\"], [0.6274509803921569, \"rgb(236,76,61)\"], [0.6901960784313725, \"rgb(242,107,73)\"], [0.7529411764705882, \"rgb(244,135,95)\"], [0.8156862745098039, \"rgb(245,162,122)\"], [0.8784313725490196, \"rgb(246,188,153)\"], [0.9411764705882353, \"rgb(247,212,187)\"], [1.0, \"rgb(250,234,220)\"]], \"type\": \"surface\"}], \"table\": [{\"cells\": {\"fill\": {\"color\": \"rgb(231,231,240)\"}, \"line\": {\"color\": \"white\"}}, \"header\": {\"fill\": {\"color\": \"rgb(183,183,191)\"}, \"line\": {\"color\": \"white\"}}, \"type\": \"table\"}]}, \"layout\": {\"annotationdefaults\": {\"arrowcolor\": \"rgb(67,103,167)\"}, \"coloraxis\": {\"colorbar\": {\"outlinewidth\": 0, \"tickcolor\": \"rgb(36,36,36)\", \"ticklen\": 8, \"ticks\": \"outside\", \"tickwidth\": 2}}, \"colorscale\": {\"sequential\": [[0.0, \"rgb(2,4,25)\"], [0.06274509803921569, \"rgb(24,15,41)\"], [0.12549019607843137, \"rgb(47,23,57)\"], [0.18823529411764706, \"rgb(71,28,72)\"], [0.25098039215686274, \"rgb(97,30,82)\"], [0.3137254901960784, \"rgb(123,30,89)\"], [0.3764705882352941, \"rgb(150,27,91)\"], [0.4392156862745098, \"rgb(177,22,88)\"], [0.5019607843137255, \"rgb(203,26,79)\"], [0.5647058823529412, \"rgb(223,47,67)\"], [0.6274509803921569, \"rgb(236,76,61)\"], [0.6901960784313725, \"rgb(242,107,73)\"], [0.7529411764705882, \"rgb(244,135,95)\"], [0.8156862745098039, \"rgb(245,162,122)\"], [0.8784313725490196, \"rgb(246,188,153)\"], [0.9411764705882353, \"rgb(247,212,187)\"], [1.0, \"rgb(250,234,220)\"]], \"sequentialminus\": [[0.0, \"rgb(2,4,25)\"], [0.06274509803921569, \"rgb(24,15,41)\"], [0.12549019607843137, \"rgb(47,23,57)\"], [0.18823529411764706, \"rgb(71,28,72)\"], [0.25098039215686274, \"rgb(97,30,82)\"], [0.3137254901960784, \"rgb(123,30,89)\"], [0.3764705882352941, \"rgb(150,27,91)\"], [0.4392156862745098, \"rgb(177,22,88)\"], [0.5019607843137255, \"rgb(203,26,79)\"], [0.5647058823529412, \"rgb(223,47,67)\"], [0.6274509803921569, \"rgb(236,76,61)\"], [0.6901960784313725, \"rgb(242,107,73)\"], [0.7529411764705882, \"rgb(244,135,95)\"], [0.8156862745098039, \"rgb(245,162,122)\"], [0.8784313725490196, \"rgb(246,188,153)\"], [0.9411764705882353, \"rgb(247,212,187)\"], [1.0, \"rgb(250,234,220)\"]]}, \"colorway\": [\"rgb(76,114,176)\", \"rgb(221,132,82)\", \"rgb(85,168,104)\", \"rgb(196,78,82)\", \"rgb(129,114,179)\", \"rgb(147,120,96)\", \"rgb(218,139,195)\", \"rgb(140,140,140)\", \"rgb(204,185,116)\", \"rgb(100,181,205)\"], \"font\": {\"color\": \"rgb(36,36,36)\"}, \"geo\": {\"bgcolor\": \"white\", \"lakecolor\": \"white\", \"landcolor\": \"rgb(234,234,242)\", \"showlakes\": true, \"showland\": true, \"subunitcolor\": \"white\"}, \"hoverlabel\": {\"align\": \"left\"}, \"hovermode\": \"closest\", \"paper_bgcolor\": \"white\", \"plot_bgcolor\": \"rgb(234,234,242)\", \"polar\": {\"angularaxis\": {\"gridcolor\": \"white\", \"linecolor\": \"white\", \"showgrid\": true, \"ticks\": \"\"}, \"bgcolor\": \"rgb(234,234,242)\", \"radialaxis\": {\"gridcolor\": \"white\", \"linecolor\": \"white\", \"showgrid\": true, \"ticks\": \"\"}}, \"scene\": {\"xaxis\": {\"backgroundcolor\": \"rgb(234,234,242)\", \"gridcolor\": \"white\", \"gridwidth\": 2, \"linecolor\": \"white\", \"showbackground\": true, \"showgrid\": true, \"ticks\": \"\", \"zerolinecolor\": \"white\"}, \"yaxis\": {\"backgroundcolor\": \"rgb(234,234,242)\", \"gridcolor\": \"white\", \"gridwidth\": 2, \"linecolor\": \"white\", \"showbackground\": true, \"showgrid\": true, \"ticks\": \"\", \"zerolinecolor\": \"white\"}, \"zaxis\": {\"backgroundcolor\": \"rgb(234,234,242)\", \"gridcolor\": \"white\", \"gridwidth\": 2, \"linecolor\": \"white\", \"showbackground\": true, \"showgrid\": true, \"ticks\": \"\", \"zerolinecolor\": \"white\"}}, \"shapedefaults\": {\"fillcolor\": \"rgb(67,103,167)\", \"line\": {\"width\": 0}, \"opacity\": 0.5}, \"ternary\": {\"aaxis\": {\"gridcolor\": \"white\", \"linecolor\": \"white\", \"showgrid\": true, \"ticks\": \"\"}, \"baxis\": {\"gridcolor\": \"white\", \"linecolor\": \"white\", \"showgrid\": true, \"ticks\": \"\"}, \"bgcolor\": \"rgb(234,234,242)\", \"caxis\": {\"gridcolor\": \"white\", \"linecolor\": \"white\", \"showgrid\": true, \"ticks\": \"\"}}, \"xaxis\": {\"automargin\": true, \"gridcolor\": \"white\", \"linecolor\": \"white\", \"showgrid\": true, \"ticks\": \"\", \"title\": {\"standoff\": 15}, \"zerolinecolor\": \"white\"}, \"yaxis\": {\"automargin\": true, \"gridcolor\": \"white\", \"linecolor\": \"white\", \"showgrid\": true, \"ticks\": \"\", \"title\": {\"standoff\": 15}, \"zerolinecolor\": \"white\"}}}, \"xaxis\": {\"anchor\": \"y\", \"domain\": [0.0, 1.0], \"layer\": \"below traces\", \"range\": [\"2021-01-01T00:00:00\", \"2021-12-31T00:00:00\"], \"rangeslider\": {\"visible\": true}, \"showgrid\": true, \"side\": \"top\", \"tickfont\": {\"color\": \"darkgray\", \"family\": \"Old Standard TT, serif\", \"size\": 16}, \"tickformat\": \"End of Q%q <br> %d %B <br>%Y\", \"ticklen\": 2, \"tickmode\": \"array\", \"ticks\": \"outside\", \"tickson\": \"boundaries\", \"tickvals\": [\"2021-03-31T00:00:00\", \"2021-06-30T00:00:00\", \"2021-09-30T00:00:00\", \"2021-12-31T00:00:00\"], \"tickwidth\": 0.1, \"type\": \"date\"}, \"yaxis\": {\"anchor\": \"x\", \"automargin\": true, \"categoryarray\": [\"Governance Model Dev-Self-Service, Productionization, Lineage\", \"FHIR Data Architecture\", \"Low-Code Dev Tools\", \"Enterprise Orchestration\", \"Hybrid Cloud Governance, Security and UX, Data Arch, Data Quality Mgmt\", \"Containerization \", \"Microservices\", \"Event Streaming\", \"Elastic Infrastructure/Dynamic Compute\", \"Resilient/Durable\", \"AI/ML Infrastructure/tools\", \"Self-Service Tools\", \"Decouple compute/storage\", \"Financial Transparency Process Dev\", \"Expansion of Self-Service Models\", \"DevOps, DataOps, MLOps\", \"Expansion of Managed Service Arrangements\", \"Product Mgmt Evolution-Product Advisory Council\", \"Delivery Methodology-Agile, RAD, DevOps, Left Testing, TDD, Low-Code\", \"Organizational Design and Operating Model\", \"Agile DevOps Culture\"], \"categoryorder\": \"array\", \"domain\": [0.0, 1.0], \"showgrid\": true, \"showticklabels\": true, \"tickfont\": {\"color\": \"black\", \"family\": \"Old Standard TT, serif\", \"size\": 12}, \"ticklen\": 3, \"title\": {\"text\": \"\"}}},                        {\"responsive\": true}                    ).then(function(){\n",
       "                            \n",
       "var gd = document.getElementById('0af88a2c-8a29-4c81-bbb9-0b746f8a2ce4');\n",
       "var x = new MutationObserver(function (mutations, observer) {{\n",
       "        var display = window.getComputedStyle(gd).display;\n",
       "        if (!display || display === 'none') {{\n",
       "            console.log([gd, 'removed!']);\n",
       "            Plotly.purge(gd);\n",
       "            observer.disconnect();\n",
       "        }}\n",
       "}});\n",
       "\n",
       "// Listen for the removal of the full notebook cells\n",
       "var notebookContainer = gd.closest('#notebook-container');\n",
       "if (notebookContainer) {{\n",
       "    x.observe(notebookContainer, {childList: true});\n",
       "}}\n",
       "\n",
       "// Listen for the clearing of the current output cell\n",
       "var outputEl = gd.closest('.output');\n",
       "if (outputEl) {{\n",
       "    x.observe(outputEl, {childList: true});\n",
       "}}\n",
       "\n",
       "                        })                };                });            </script>        </div>"
      ]
     },
     "metadata": {},
     "output_type": "display_data"
    }
   ],
   "source": [
    "import pandas as pd\n",
    "import plotly.express as px\n",
    "import plotly.figure_factory as ff\n",
    "\n",
    "df = pd.read_csv('bcbsm_gantt.csv',encoding='latin1')\n",
    "df['Start'] = df['Start'].astype('datetime64')\n",
    "df['Finish'] = df['Finish'].astype('datetime64')\n",
    "# print(df.dtypes)\n",
    "# print(df.head())\n",
    "\n",
    "colors = {'Technology' : 'rgb(30,144,255)'\n",
    "          , 'Technology - Date TBD' : 'rgb(211,211,211)'\n",
    "          , 'People' : 'rgb(95,158,160)'\n",
    "          , 'Process' : 'rgb(0,0,128)'\n",
    "          , 'Process - Date TBD' : 'rgb(211,211,210)'}\n",
    "\n",
    "['ggplot2', 'seaborn', 'simple_white', 'plotly',\n",
    "'plotly_white', 'plotly_dark', 'presentation', 'xgridoff',\n",
    "'ygridoff', 'gridon', 'none']\n",
    "#         ,ticktext=[\"Q1\", \"Q2\", \"Q3\", \"Q4\"]\n",
    "#         ,tickformat=\"Q%q %Y \\n %b\"        \n",
    "#         ,tickvals = pd.date_range('2021-01-01', '2021-12-31', freq='Q')\n",
    "#         ,tickformat=\"Q%q %Y \\n %b \\n\"\n",
    "#         ,nticks=4\n",
    "#         ,tickformat = 'End of Q%q <br> %d %B <br>%Y'\n",
    "\n",
    "fig = px.timeline(df\n",
    "                  , x_start=\"Start\"\n",
    "                  , x_end=\"Finish\"\n",
    "                  , y=\"Task\"\n",
    "#                   , facet_col=\"Dimension\"\n",
    "#                   , facet_col_wrap=40\n",
    "#                   , facet_col_spacing=.99\n",
    "#                   , color_discrete_sequence=['green']*len(df)\n",
    "                  , color_discrete_sequence=px.colors.qualitative.Prism\n",
    "                  , category_orders={\"Task\": ['Agile DevOps Culture','Organizational Design and Operating Model',\n",
    "                                     'Delivery Methodology-Agile, RAD, DevOps, Left Testing, TDD, Low-Code',\n",
    "                                     'Product Mgmt Evolution-Product Advisory Council','Expansion of Managed Service Arrangements',\n",
    "                                     'DevOps, DataOps, MLOps','Expansion of Self-Service Models','Financial Transparency Process Dev','Decouple compute/storage',\n",
    "                                     'Self-Service Tools','AI/ML Infrastructure/tools','Resilient/Durable',\n",
    "                                     'Elastic Infrastructure/Dynamic Compute','Event Streaming','Microservices','Containerization ',\n",
    "                                     'Hybrid Cloud Governance, Security and UX, Data Arch, Data Quality Mgmt',\n",
    "                                     'Enterprise Orchestration','Low-Code Dev Tools','FHIR Data Architecture',\n",
    "                                     'Governance Model Dev-Self-Service, Productionization, Lineage']}\n",
    "                  , opacity=.5\n",
    "                  , range_x=None\n",
    "                  , range_y=None\n",
    "                  , template='seaborn'\n",
    "                  , height=1000\n",
    "                  , color='Dimension'\n",
    "#                   , color=colors\n",
    "                 )\n",
    "\n",
    "fig.update_layout(\n",
    "#     title =\"<b>IE 3.0 Gantt Chart 2021</b>\"\n",
    "    xaxis_range=[df.Start.min(), df.Finish.max()]\n",
    "    ,xaxis = dict(\n",
    "        showgrid=True\n",
    "        ,rangeslider_visible=True\n",
    "        ,side =\"top\"\n",
    "        ,tickmode = 'array'\n",
    "#         ,ticktext=[\"Q1\", \"Q2\", \"Q3\", \"Q4\"]\n",
    "        ,tickvals = pd.date_range('2021-01-01', '2021-12-31', freq='Q')\n",
    "        ,tickformat = 'End of Q%q <br> %d %B <br>%Y'\n",
    "        ,ticks=\"outside\"\n",
    "        ,tickson=\"boundaries\"\n",
    "        ,tickwidth=.1\n",
    "#         ,ticklabelmode='period'\n",
    "        ,layer='below traces'\n",
    "        ,ticklen=2\n",
    "        ,tickfont=dict(\n",
    "            family='Old Standard TT, serif',\n",
    "            size=16,\n",
    "            color='darkgray'))\n",
    "    ,yaxis = dict(\n",
    "        title= \"\"\n",
    "        ,automargin=True\n",
    "        ,ticklen=3\n",
    "        ,showgrid=True\n",
    "        ,showticklabels=True\n",
    "        ,tickfont=dict(\n",
    "            family='Old Standard TT, serif',\n",
    "            size=12,\n",
    "            color='black'))\n",
    "    ,legend=dict(\n",
    "        orientation=\"h\",\n",
    "        yanchor=\"bottom\",\n",
    "        y=1.1,\n",
    "        title=\"\",\n",
    "        xanchor=\"right\",\n",
    "        x=1)\n",
    ")\n",
    "\n",
    "#annotations\n",
    "agile_result = \"Adopt an Agile/DevOps Cultre\"\n",
    "org_design = \"More Aligned to business needs\"\n",
    "delivery_method = \"Visibility of capacity/tasks/outcomes\"\n",
    "prod_mgmt = \"Better IE collaboration\"\n",
    "expansion = \"Elastic cpacity to serve more customers\"\n",
    "devops = \"Automation and greater efficiency\"\n",
    "expand_self_serve= \"Greater flexibility and autonomy\"\n",
    "financial = \"Address Cost Transparency\"\n",
    "decouple = \"Greater flexibility, elasticity and tracking\"\n",
    "self_service = \"Greater access and usage to IE\"\n",
    "ai_ml = \"Streamlined model dev and operations\"\n",
    "resilient = \"Avoid application failures and downtime\"\n",
    "elastic = \"Elastic and flexible for complex workloads\"\n",
    "event_streaming = \"Consistent, real-time, data ingestion\"\n",
    "microservices = \"Enable distributed data integration\"\n",
    "containerization = \"Consumption-based cost, portability, consisten environments\"\n",
    "hybrid = \"Align cloud and networking strategies and simplify access controls implementation\"\n",
    "enterprise_orch = \"Resolved data latency and interoperability\"\n",
    "low_code = \"Business-friendly tools and requires a less technical skillset\"\n",
    "fhir = \"Support bot clinical and non-clinical data\"\n",
    "governance = \"Greater ability for self-service and enhanced data lineage\"\n",
    "fig['layout']['annotations'] += tuple([dict(x='2021-02-25',y=20,text=agile_result, showarrow=False, font=dict(color='black', size=10))])\n",
    "fig['layout']['annotations'] += tuple([dict(x='2021-02-25',y=19,text=org_design, showarrow=False, font=dict(color='black', size=10))])\n",
    "fig['layout']['annotations'] += tuple([dict(x='2021-02-22',y=18,text=delivery_method, showarrow=False, font=dict(color='black', size=10))])\n",
    "fig['layout']['annotations'] += tuple([dict(x='2021-03-08',y=17,text=prod_mgmt, showarrow=False, font=dict(color='black', size=10))])\n",
    "fig['layout']['annotations'] += tuple([dict(x='2021-02-19',y=16,text=expansion, showarrow=False, font=dict(color='black', size=10))])\n",
    "fig['layout']['annotations'] += tuple([dict(x='2021-05-25',y=15,text=devops, showarrow=False, font=dict(color='black', size=10))])\n",
    "fig['layout']['annotations'] += tuple([dict(x='2021-08-28',y=14,text=expand_self_serve, showarrow=False, font=dict(color='black', size=10))])\n",
    "fig['layout']['annotations'] += tuple([dict(x='2021-12-02',y=13,text=financial, showarrow=False, font=dict(color='black', size=10))])\n",
    "fig['layout']['annotations'] += tuple([dict(x='2021-11-18',y=12,text=decouple, showarrow=False, font=dict(color='black', size=10))])\n",
    "fig['layout']['annotations'] += tuple([dict(x='2021-11-28',y=11,text=self_service, showarrow=False, font=dict(color='black', size=10))])\n",
    "fig['layout']['annotations'] += tuple([dict(x='2021-08-22',y=10,text=ai_ml, showarrow=False, font=dict(color='black', size=10))])\n",
    "fig['layout']['annotations'] += tuple([dict(x='2021-08-20',y=9,text=resilient, showarrow=False, font=dict(color='black', size=10))])\n",
    "fig['layout']['annotations'] += tuple([dict(x='2021-11-19',y=8,text=elastic, showarrow=False, font=dict(color='black', size=10))])\n",
    "fig['layout']['annotations'] += tuple([dict(x='2021-11-22',y=7,text=event_streaming, showarrow=False, font=dict(color='black', size=10))])\n",
    "fig['layout']['annotations'] += tuple([dict(x='2021-11-25',y=6,text=microservices, showarrow=False, font=dict(color='black', size=10))])\n",
    "fig['layout']['annotations'] += tuple([dict(x='2021-10-30',y=5,text=containerization, showarrow=False, font=dict(color='black', size=10))])\n",
    "fig['layout']['annotations'] += tuple([dict(x='2021-10-09',y=4,text=hybrid, showarrow=False, font=dict(color='black', size=10))])\n",
    "fig['layout']['annotations'] += tuple([dict(x='2021-11-18',y=3,text=enterprise_orch, showarrow=False, font=dict(color='black', size=10))])\n",
    "fig['layout']['annotations'] += tuple([dict(x='2021-11-01',y=2,text=low_code, showarrow=False, font=dict(color='black', size=10))])\n",
    "fig['layout']['annotations'] += tuple([dict(x='2021-11-19',y=1,text=fhir, showarrow=False, font=dict(color='black', size=10))])\n",
    "fig['layout']['annotations'] += tuple([dict(x='2021-11-01',y=0,text=governance, showarrow=False, font=dict(color='black', size=10))])\n",
    "\n",
    "fig.show()"
   ]
  },
  {
   "cell_type": "code",
   "execution_count": 476,
   "metadata": {},
   "outputs": [
    {
     "name": "stdout",
     "output_type": "stream",
     "text": [
      "Dash is running on http://127.0.0.1:8050/\n",
      "\n",
      "Dash is running on http://127.0.0.1:8050/\n",
      "\n",
      "Dash is running on http://127.0.0.1:8050/\n",
      "\n",
      " * Serving Flask app \"__main__\" (lazy loading)\n",
      " * Environment: production\n",
      "   WARNING: This is a development server. Do not use it in a production deployment.\n",
      "   Use a production WSGI server instead.\n",
      " * Debug mode: on\n"
     ]
    },
    {
     "ename": "SystemExit",
     "evalue": "1",
     "output_type": "error",
     "traceback": [
      "An exception has occurred, use %tb to see the full traceback.\n",
      "\u001b[1;31mSystemExit\u001b[0m\u001b[1;31m:\u001b[0m 1\n"
     ]
    }
   ],
   "source": [
    "import dash\n",
    "import dash_core_components as dcc\n",
    "import dash_html_components as html\n",
    "from dash.dependencies import Input, Output\n",
    "import plotly.graph_objects as go\n",
    "\n",
    "app = dash.Dash(__name__)\n",
    "\n",
    "app.layout = html.Div([\n",
    "    dcc.Graph(id=\"graph\"),\n",
    "    dcc.Checklist(\n",
    "        id='tick',\n",
    "        options=[{'label': 'Enable Linear Ticks', \n",
    "                  'value': 'linear'}],\n",
    "        value=['linear']\n",
    "    )\n",
    "])\n",
    "\n",
    "@app.callback(\n",
    "    Output(\"graph\", \"figure\"), \n",
    "    [Input(\"tick\", \"value\")])\n",
    "def display_figure(tick_mode):\n",
    "    fig = px.timeline(df\n",
    "                  , x_start=\"Start\"\n",
    "                  , x_end=\"Finish\"\n",
    "                  , y=\"Task\"\n",
    "                  , color_discrete_sequence=px.colors.qualitative.Alphabet\n",
    "                  , category_orders={\"Task\": ['Agile DevOps Culture',\n",
    "                                     'Organizational Design and Operating Model',\n",
    "                                     'Delivery Methodology-Agile, RAD, DevOps, Left Testing, TDD, Low-Code',\n",
    "                                     'Product Mgmt Evolution-Product Advisory Council',\n",
    "                                     'Expansion of Managed Service Arrangements',\n",
    "                                     'DevOps, DataOps, MLOps',\n",
    "                                     'Expansion of Self-Service Models',\n",
    "                                     'Financial Transparency Process Dev',\n",
    "                                     'Decouple compute/storage',\n",
    "                                     'Self-Service Tools',\n",
    "                                     'AI/ML Infrastructure/tools',\n",
    "                                     'Resilient/Durable',\n",
    "                                     'Elastic Infrastructure/Dynamic Compute',\n",
    "                                     'Event Streaming',\n",
    "                                     'Microservices',\n",
    "                                     'Containerization ',\n",
    "                                     'Hybrid Cloud Governance, Security and UX, Data Arch, Data Quality Mgmt',\n",
    "                                     'Enterprise Orchestration',\n",
    "                                     'Low-Code Dev Tools',\n",
    "                                     'FHIR Data Architecture',\n",
    "                                     'Governance Model Dev-Self-Service, Productionization, Lineage']}\n",
    "                  , opacity=.5\n",
    "                  , range_x=None\n",
    "                  , range_y=None\n",
    "                  , template='presentation'\n",
    "                  , height=1000\n",
    "                  , color='Dimension'\n",
    "                 )\n",
    "    \n",
    "    fig.update_layout(\n",
    "        xaxis_range=[df.Start.min(), df.Finish.max()]\n",
    "        ,xaxis = dict(\n",
    "            showgrid=True\n",
    "            ,rangeslider_visible=True\n",
    "            ,side =\"top\"\n",
    "            ,tickmode = 'array'\n",
    "            ,tickvals = pd.date_range('2021-01-01', '2021-12-31', freq='Q')\n",
    "            ,tickformat = 'End of Q%q <br> %d %B <br>%Y'\n",
    "            ,ticks=\"outside\"\n",
    "            ,tickson=\"boundaries\"\n",
    "            ,tickwidth=.1\n",
    "            ,layer='below traces'\n",
    "            ,ticklen=2\n",
    "            ,tickfont=dict(\n",
    "                family='Old Standard TT, serif',\n",
    "                size=16,\n",
    "                color='darkgray'))\n",
    "        ,yaxis = dict(\n",
    "            title= \"\"\n",
    "            ,automargin=True\n",
    "            ,ticklen=3\n",
    "            ,showgrid=True\n",
    "            ,showticklabels=True\n",
    "            ,tickfont=dict(\n",
    "                family='Old Standard TT, serif',\n",
    "                size=12,\n",
    "                color='black'))\n",
    "        ,legend=dict(\n",
    "            orientation=\"h\",\n",
    "            yanchor=\"bottom\",\n",
    "            y=1.1,\n",
    "            title=\"\",\n",
    "            xanchor=\"right\",\n",
    "            x=1))\n",
    "\n",
    "    #annotations\n",
    "    agile_result = \"Adopt an Agile/DevOps Cultre\"\n",
    "    org_design = \"More Aligned to business needs\"\n",
    "    delivery_method = \"Visibility of capacity/tasks/outcomes\"\n",
    "    prod_mgmt = \"Better IE collaboration\"\n",
    "    expansion = \"Elastic cpacity to serve more customers\"\n",
    "    devops = \"Automation and greater efficiency\"\n",
    "    expand_self_serve= \"Greater flexibility and autonomy\"\n",
    "    financial = \"Address Cost Transparency\"\n",
    "    decouple = \"Greater flexibility, elasticity and tracking\"\n",
    "    self_service = \"Greater access and usage to IE\"\n",
    "    ai_ml = \"Streamlined model dev and operations\"\n",
    "    resilient = \"Avoid application failures and downtime\"\n",
    "    elastic = \"Elastic and flexible for complex workloads\"\n",
    "    event_streaming = \"Consistent, real-time, data ingestion\"\n",
    "    microservices = \"Enable distributed data integration\"\n",
    "    containerization = \"Consumption-based cost, portability, consisten environments\"\n",
    "    hybrid = \"Align cloud and networking strategies and simplify access controls implementation\"\n",
    "    enterprise_orch = \"Resolved data latency and interoperability\"\n",
    "    low_code = \"Business-friendly tools and requires a less technical skillset\"\n",
    "    fhir = \"Support bot clinical and non-clinical data\"\n",
    "    governance = \"Greater ability for self-service and enhanced data lineage\"\n",
    "    fig['layout']['annotations'] += tuple([dict(x='2021-02-25',y=20,text=agile_result, showarrow=False, font=dict(color='black', size=10))])\n",
    "    fig['layout']['annotations'] += tuple([dict(x='2021-02-25',y=19,text=org_design, showarrow=False, font=dict(color='black', size=10))])\n",
    "    fig['layout']['annotations'] += tuple([dict(x='2021-02-22',y=18,text=delivery_method, showarrow=False, font=dict(color='black', size=10))])\n",
    "    fig['layout']['annotations'] += tuple([dict(x='2021-03-08',y=17,text=prod_mgmt, showarrow=False, font=dict(color='black', size=10))])\n",
    "    fig['layout']['annotations'] += tuple([dict(x='2021-02-19',y=16,text=expansion, showarrow=False, font=dict(color='black', size=10))])\n",
    "    fig['layout']['annotations'] += tuple([dict(x='2021-05-25',y=15,text=devops, showarrow=False, font=dict(color='black', size=10))])\n",
    "    fig['layout']['annotations'] += tuple([dict(x='2021-08-28',y=14,text=expand_self_serve, showarrow=False, font=dict(color='black', size=10))])\n",
    "    fig['layout']['annotations'] += tuple([dict(x='2021-12-02',y=13,text=financial, showarrow=False, font=dict(color='black', size=10))])\n",
    "    fig['layout']['annotations'] += tuple([dict(x='2021-11-18',y=12,text=decouple, showarrow=False, font=dict(color='black', size=10))])\n",
    "    fig['layout']['annotations'] += tuple([dict(x='2021-11-28',y=11,text=self_service, showarrow=False, font=dict(color='black', size=10))])\n",
    "    fig['layout']['annotations'] += tuple([dict(x='2021-08-22',y=10,text=ai_ml, showarrow=False, font=dict(color='black', size=10))])\n",
    "    fig['layout']['annotations'] += tuple([dict(x='2021-08-20',y=9,text=resilient, showarrow=False, font=dict(color='black', size=10))])\n",
    "    fig['layout']['annotations'] += tuple([dict(x='2021-11-19',y=8,text=elastic, showarrow=False, font=dict(color='black', size=10))])\n",
    "    fig['layout']['annotations'] += tuple([dict(x='2021-11-22',y=7,text=event_streaming, showarrow=False, font=dict(color='black', size=10))])\n",
    "    fig['layout']['annotations'] += tuple([dict(x='2021-11-25',y=6,text=microservices, showarrow=False, font=dict(color='black', size=10))])\n",
    "    fig['layout']['annotations'] += tuple([dict(x='2021-10-30',y=5,text=containerization, showarrow=False, font=dict(color='black', size=10))])\n",
    "    fig['layout']['annotations'] += tuple([dict(x='2021-10-09',y=4,text=hybrid, showarrow=False, font=dict(color='black', size=10))])\n",
    "    fig['layout']['annotations'] += tuple([dict(x='2021-11-18',y=3,text=enterprise_orch, showarrow=False, font=dict(color='black', size=10))])\n",
    "    fig['layout']['annotations'] += tuple([dict(x='2021-11-01',y=2,text=low_code, showarrow=False, font=dict(color='black', size=10))])\n",
    "    fig['layout']['annotations'] += tuple([dict(x='2021-11-19',y=1,text=fhir, showarrow=False, font=dict(color='black', size=10))])\n",
    "    fig['layout']['annotations'] += tuple([dict(x='2021-11-01',y=0,text=governance, showarrow=False, font=dict(color='black', size=10))])\n",
    "\n",
    "    return fig\n",
    "\n",
    "app.run_server(debug=True)"
   ]
  },
  {
   "cell_type": "code",
   "execution_count": 185,
   "metadata": {},
   "outputs": [],
   "source": [
    "df = pd.read_csv('bcbsm_gantt.csv',encoding='latin1')"
   ]
  },
  {
   "cell_type": "code",
   "execution_count": 186,
   "metadata": {},
   "outputs": [
    {
     "name": "stdout",
     "output_type": "stream",
     "text": [
      "Task                 object\n",
      "Start        datetime64[ns]\n",
      "Finish       datetime64[ns]\n",
      "Dimension            object\n",
      "dtype: object\n",
      "                                                Task      Start     Finish  \\\n",
      "0                           Decouple compute/storage 2021-01-01 2021-12-31   \n",
      "1                                  Containerization  2021-01-01 2021-12-31   \n",
      "2  Hybrid Cloud Governance, Security and UX, Data... 2021-01-01 2021-12-31   \n",
      "3                           Enterprise Orchestration 2021-01-01 2021-12-31   \n",
      "4                                 Low-Code Dev Tools 2021-01-01 2021-12-31   \n",
      "\n",
      "               Dimension  \n",
      "0             Technology  \n",
      "1  Technology - Date TBD  \n",
      "2  Technology - Date TBD  \n",
      "3  Technology - Date TBD  \n",
      "4  Technology - Date TBD  \n"
     ]
    }
   ],
   "source": [
    "df['Start'] = df['Start'].astype('datetime64')\n",
    "df['Finish'] = df['Finish'].astype('datetime64')\n",
    "print(df.dtypes)\n",
    "print(df.head())"
   ]
  },
  {
   "cell_type": "code",
   "execution_count": 8,
   "metadata": {},
   "outputs": [
    {
     "ename": "ValueError",
     "evalue": "Length mismatch: Expected axis has 5 elements, new values have 4 elements",
     "output_type": "error",
     "traceback": [
      "\u001b[1;31m---------------------------------------------------------------------------\u001b[0m",
      "\u001b[1;31mValueError\u001b[0m                                Traceback (most recent call last)",
      "\u001b[1;32m<ipython-input-8-65cb521ff539>\u001b[0m in \u001b[0;36m<module>\u001b[1;34m\u001b[0m\n\u001b[0;32m      1\u001b[0m \u001b[1;31m# Gantt chart in Plotly has mandatory format of data columns\u001b[0m\u001b[1;33m\u001b[0m\u001b[1;33m\u001b[0m\u001b[1;33m\u001b[0m\u001b[0m\n\u001b[1;32m----> 2\u001b[1;33m \u001b[0mdf\u001b[0m\u001b[1;33m.\u001b[0m\u001b[0mcolumns\u001b[0m \u001b[1;33m=\u001b[0m \u001b[1;33m[\u001b[0m\u001b[1;34m'Task'\u001b[0m\u001b[1;33m,\u001b[0m \u001b[1;34m'Start'\u001b[0m\u001b[1;33m,\u001b[0m \u001b[1;34m'Finish'\u001b[0m\u001b[1;33m,\u001b[0m \u001b[1;34m'Dimension'\u001b[0m\u001b[1;33m]\u001b[0m\u001b[1;33m\u001b[0m\u001b[1;33m\u001b[0m\u001b[0m\n\u001b[0m\u001b[0;32m      3\u001b[0m \u001b[1;31m# tasks_data_plotly['Resource'] = [ 'Critical' if el else 'Not critical' for el in tasks_data_plotly['Resource']]\u001b[0m\u001b[1;33m\u001b[0m\u001b[1;33m\u001b[0m\u001b[1;33m\u001b[0m\u001b[0m\n\u001b[0;32m      4\u001b[0m \u001b[1;33m\u001b[0m\u001b[0m\n\u001b[0;32m      5\u001b[0m colors = {'Technology' : 'rgb(30,144,255)'\n",
      "\u001b[1;32m~\\Anaconda3\\lib\\site-packages\\pandas\\core\\generic.py\u001b[0m in \u001b[0;36m__setattr__\u001b[1;34m(self, name, value)\u001b[0m\n\u001b[0;32m   5285\u001b[0m         \u001b[1;32mtry\u001b[0m\u001b[1;33m:\u001b[0m\u001b[1;33m\u001b[0m\u001b[1;33m\u001b[0m\u001b[0m\n\u001b[0;32m   5286\u001b[0m             \u001b[0mobject\u001b[0m\u001b[1;33m.\u001b[0m\u001b[0m__getattribute__\u001b[0m\u001b[1;33m(\u001b[0m\u001b[0mself\u001b[0m\u001b[1;33m,\u001b[0m \u001b[0mname\u001b[0m\u001b[1;33m)\u001b[0m\u001b[1;33m\u001b[0m\u001b[1;33m\u001b[0m\u001b[0m\n\u001b[1;32m-> 5287\u001b[1;33m             \u001b[1;32mreturn\u001b[0m \u001b[0mobject\u001b[0m\u001b[1;33m.\u001b[0m\u001b[0m__setattr__\u001b[0m\u001b[1;33m(\u001b[0m\u001b[0mself\u001b[0m\u001b[1;33m,\u001b[0m \u001b[0mname\u001b[0m\u001b[1;33m,\u001b[0m \u001b[0mvalue\u001b[0m\u001b[1;33m)\u001b[0m\u001b[1;33m\u001b[0m\u001b[1;33m\u001b[0m\u001b[0m\n\u001b[0m\u001b[0;32m   5288\u001b[0m         \u001b[1;32mexcept\u001b[0m \u001b[0mAttributeError\u001b[0m\u001b[1;33m:\u001b[0m\u001b[1;33m\u001b[0m\u001b[1;33m\u001b[0m\u001b[0m\n\u001b[0;32m   5289\u001b[0m             \u001b[1;32mpass\u001b[0m\u001b[1;33m\u001b[0m\u001b[1;33m\u001b[0m\u001b[0m\n",
      "\u001b[1;32mpandas\\_libs\\properties.pyx\u001b[0m in \u001b[0;36mpandas._libs.properties.AxisProperty.__set__\u001b[1;34m()\u001b[0m\n",
      "\u001b[1;32m~\\Anaconda3\\lib\\site-packages\\pandas\\core\\generic.py\u001b[0m in \u001b[0;36m_set_axis\u001b[1;34m(self, axis, labels)\u001b[0m\n\u001b[0;32m    659\u001b[0m \u001b[1;33m\u001b[0m\u001b[0m\n\u001b[0;32m    660\u001b[0m     \u001b[1;32mdef\u001b[0m \u001b[0m_set_axis\u001b[0m\u001b[1;33m(\u001b[0m\u001b[0mself\u001b[0m\u001b[1;33m,\u001b[0m \u001b[0maxis\u001b[0m\u001b[1;33m,\u001b[0m \u001b[0mlabels\u001b[0m\u001b[1;33m)\u001b[0m \u001b[1;33m->\u001b[0m \u001b[1;32mNone\u001b[0m\u001b[1;33m:\u001b[0m\u001b[1;33m\u001b[0m\u001b[1;33m\u001b[0m\u001b[0m\n\u001b[1;32m--> 661\u001b[1;33m         \u001b[0mself\u001b[0m\u001b[1;33m.\u001b[0m\u001b[0m_data\u001b[0m\u001b[1;33m.\u001b[0m\u001b[0mset_axis\u001b[0m\u001b[1;33m(\u001b[0m\u001b[0maxis\u001b[0m\u001b[1;33m,\u001b[0m \u001b[0mlabels\u001b[0m\u001b[1;33m)\u001b[0m\u001b[1;33m\u001b[0m\u001b[1;33m\u001b[0m\u001b[0m\n\u001b[0m\u001b[0;32m    662\u001b[0m         \u001b[0mself\u001b[0m\u001b[1;33m.\u001b[0m\u001b[0m_clear_item_cache\u001b[0m\u001b[1;33m(\u001b[0m\u001b[1;33m)\u001b[0m\u001b[1;33m\u001b[0m\u001b[1;33m\u001b[0m\u001b[0m\n\u001b[0;32m    663\u001b[0m \u001b[1;33m\u001b[0m\u001b[0m\n",
      "\u001b[1;32m~\\Anaconda3\\lib\\site-packages\\pandas\\core\\internals\\managers.py\u001b[0m in \u001b[0;36mset_axis\u001b[1;34m(self, axis, new_labels)\u001b[0m\n\u001b[0;32m    175\u001b[0m \u001b[1;33m\u001b[0m\u001b[0m\n\u001b[0;32m    176\u001b[0m         \u001b[1;32mif\u001b[0m \u001b[0mnew_len\u001b[0m \u001b[1;33m!=\u001b[0m \u001b[0mold_len\u001b[0m\u001b[1;33m:\u001b[0m\u001b[1;33m\u001b[0m\u001b[1;33m\u001b[0m\u001b[0m\n\u001b[1;32m--> 177\u001b[1;33m             raise ValueError(\n\u001b[0m\u001b[0;32m    178\u001b[0m                 \u001b[1;34mf\"Length mismatch: Expected axis has {old_len} elements, new \"\u001b[0m\u001b[1;33m\u001b[0m\u001b[1;33m\u001b[0m\u001b[0m\n\u001b[0;32m    179\u001b[0m                 \u001b[1;34mf\"values have {new_len} elements\"\u001b[0m\u001b[1;33m\u001b[0m\u001b[1;33m\u001b[0m\u001b[0m\n",
      "\u001b[1;31mValueError\u001b[0m: Length mismatch: Expected axis has 5 elements, new values have 4 elements"
     ]
    }
   ],
   "source": [
    "# Gantt chart in Plotly has mandatory format of data columns\n",
    "df.columns = ['Task', 'Start', 'Finish', 'Dimension']\n",
    "# tasks_data_plotly['Resource'] = [ 'Critical' if el else 'Not critical' for el in tasks_data_plotly['Resource']]\n",
    "\n",
    "colors = {'Technology' : 'rgb(30,144,255)'\n",
    "          , 'Technology - Date TBD' : 'rgb(211,211,211)'\n",
    "          , 'People' : 'rgb(95,158,160)'\n",
    "          , 'Process' : 'rgb(0,0,128)'\n",
    "          , 'Process - Date TBD' : 'rgb(211,211,210)'}\n",
    "\n",
    "fig_plotly = ff.create_gantt(df\n",
    "                             , colors=colors\n",
    "                             , index_col='Dimension'\n",
    "                             , title='Gantt Chart'\n",
    "                             , show_colorbar=True\n",
    "                             , bar_width=0.4\n",
    "                             , showgrid_x=True\n",
    "                             , showgrid_y=True\n",
    "                            )\n",
    "fig_plotly.show()"
   ]
  },
  {
   "cell_type": "code",
   "execution_count": 244,
   "metadata": {
    "scrolled": false
   },
   "outputs": [
    {
     "data": {
      "application/vnd.plotly.v1+json": {
       "config": {
        "plotlyServerURL": "https://plot.ly"
       },
       "data": [
        {
         "alignmentgroup": "True",
         "base": [
          "2021-01-01T00:00:00",
          "2021-01-01T00:00:00"
         ],
         "hovertemplate": "Dimension=People<br>Start=%{base}<br>Finish=%{x}<br>Task=%{y}<extra></extra>",
         "legendgroup": "People",
         "marker": {
          "color": "#AA0DFE",
          "opacity": 0.5
         },
         "name": "People",
         "offsetgroup": "People",
         "orientation": "h",
         "showlegend": true,
         "textposition": "auto",
         "type": "bar",
         "x": [
          7689600000,
          7689600000
         ],
         "xaxis": "x",
         "y": [
          "Agile DevOps Culture",
          "Organizational Design and Operating Model"
         ],
         "yaxis": "y"
        },
        {
         "alignmentgroup": "True",
         "base": [
          "2021-01-01T00:00:00",
          "2021-01-01T00:00:00",
          "2021-01-01T00:00:00",
          "2021-04-01T00:00:00",
          "2021-07-01T00:00:00",
          "2021-10-01T00:00:00"
         ],
         "hovertemplate": "Dimension=Process<br>Start=%{base}<br>Finish=%{x}<br>Task=%{y}<extra></extra>",
         "legendgroup": "Process",
         "marker": {
          "color": "#3283FE",
          "opacity": 0.5
         },
         "name": "Process",
         "offsetgroup": "Process",
         "orientation": "h",
         "showlegend": true,
         "textposition": "auto",
         "type": "bar",
         "x": [
          7689600000,
          7689600000,
          7689600000,
          7776000000,
          7862400000,
          7862400000
         ],
         "xaxis": "x",
         "y": [
          "Delivery Methodology-Agile, RAD, DevOps, Left Testing, TDD, Low-Code",
          "Product Mgmt Evolution-Product Advisory Council",
          "Expansion of Managed Service Arrangements",
          "DevOps, DataOps, MLOps",
          "Expansion of Self-Service Models",
          "Financial Transparency Process Dev"
         ],
         "yaxis": "y"
        },
        {
         "alignmentgroup": "True",
         "base": [
          "2021-01-01T00:00:00",
          "2021-04-01T00:00:00",
          "2021-07-01T00:00:00",
          "2021-07-01T00:00:00",
          "2021-10-01T00:00:00",
          "2021-10-01T00:00:00",
          "2021-10-01T00:00:00"
         ],
         "hovertemplate": "Dimension=Technology<br>Start=%{base}<br>Finish=%{x}<br>Task=%{y}<extra></extra>",
         "legendgroup": "Technology",
         "marker": {
          "color": "#85660D",
          "opacity": 0.5
         },
         "name": "Technology",
         "offsetgroup": "Technology",
         "orientation": "h",
         "showlegend": true,
         "textposition": "auto",
         "type": "bar",
         "x": [
          31449600000,
          23673600000,
          7862400000,
          7862400000,
          7862400000,
          7862400000,
          7862400000
         ],
         "xaxis": "x",
         "y": [
          "Decouple compute/storage",
          "Self-Service Tools",
          "AI/ML Infrastructure/tools",
          "Resilient/Durable",
          "Elastic Infrastructure/Dynamic Compute",
          "Event Streaming",
          "Microservices"
         ],
         "yaxis": "y"
        },
        {
         "alignmentgroup": "True",
         "base": [
          "2021-01-01T00:00:00",
          "2021-01-01T00:00:00",
          "2021-01-01T00:00:00",
          "2021-01-01T00:00:00",
          "2021-01-01T00:00:00"
         ],
         "hovertemplate": "Dimension=Technology - Date TBD<br>Start=%{base}<br>Finish=%{x}<br>Task=%{y}<extra></extra>",
         "legendgroup": "Technology - Date TBD",
         "marker": {
          "color": "#782AB6",
          "opacity": 0.5
         },
         "name": "Technology - Date TBD",
         "offsetgroup": "Technology - Date TBD",
         "orientation": "h",
         "showlegend": true,
         "textposition": "auto",
         "type": "bar",
         "x": [
          31449600000,
          31449600000,
          31449600000,
          31449600000,
          31449600000
         ],
         "xaxis": "x",
         "y": [
          "Containerization ",
          "Hybrid Cloud Governance, Security and UX, Data Arch, Data Quality Mgmt",
          "Enterprise Orchestration",
          "Low-Code Dev Tools",
          "FHIR Data Architecture"
         ],
         "yaxis": "y"
        },
        {
         "alignmentgroup": "True",
         "base": [
          "2021-01-01T00:00:00"
         ],
         "hovertemplate": "Dimension=Process - Date TBD<br>Start=%{base}<br>Finish=%{x}<br>Task=%{y}<extra></extra>",
         "legendgroup": "Process - Date TBD",
         "marker": {
          "color": "#565656",
          "opacity": 0.5
         },
         "name": "Process - Date TBD",
         "offsetgroup": "Process - Date TBD",
         "orientation": "h",
         "showlegend": true,
         "textposition": "auto",
         "type": "bar",
         "x": [
          31449600000
         ],
         "xaxis": "x",
         "y": [
          "Governance Model Dev-Self-Service, Productionization, Lineage"
         ],
         "yaxis": "y"
        }
       ],
       "layout": {
        "barmode": "overlay",
        "height": 700,
        "legend": {
         "orientation": "h",
         "title": {
          "text": "Dimension"
         },
         "tracegroupgap": 0,
         "x": 1,
         "xanchor": "right",
         "y": 1,
         "yanchor": "bottom"
        },
        "margin": {
         "t": 60
        },
        "template": {
         "data": {
          "bar": [
           {
            "error_x": {
             "color": "rgb(51,51,51)"
            },
            "error_y": {
             "color": "rgb(51,51,51)"
            },
            "marker": {
             "line": {
              "color": "rgb(237,237,237)",
              "width": 0.5
             }
            },
            "type": "bar"
           }
          ],
          "barpolar": [
           {
            "marker": {
             "line": {
              "color": "rgb(237,237,237)",
              "width": 0.5
             }
            },
            "type": "barpolar"
           }
          ],
          "carpet": [
           {
            "aaxis": {
             "endlinecolor": "rgb(51,51,51)",
             "gridcolor": "white",
             "linecolor": "white",
             "minorgridcolor": "white",
             "startlinecolor": "rgb(51,51,51)"
            },
            "baxis": {
             "endlinecolor": "rgb(51,51,51)",
             "gridcolor": "white",
             "linecolor": "white",
             "minorgridcolor": "white",
             "startlinecolor": "rgb(51,51,51)"
            },
            "type": "carpet"
           }
          ],
          "choropleth": [
           {
            "colorbar": {
             "outlinewidth": 0,
             "tickcolor": "rgb(237,237,237)",
             "ticklen": 6,
             "ticks": "inside"
            },
            "type": "choropleth"
           }
          ],
          "contour": [
           {
            "colorbar": {
             "outlinewidth": 0,
             "tickcolor": "rgb(237,237,237)",
             "ticklen": 6,
             "ticks": "inside"
            },
            "colorscale": [
             [
              0,
              "rgb(20,44,66)"
             ],
             [
              1,
              "rgb(90,179,244)"
             ]
            ],
            "type": "contour"
           }
          ],
          "contourcarpet": [
           {
            "colorbar": {
             "outlinewidth": 0,
             "tickcolor": "rgb(237,237,237)",
             "ticklen": 6,
             "ticks": "inside"
            },
            "type": "contourcarpet"
           }
          ],
          "heatmap": [
           {
            "colorbar": {
             "outlinewidth": 0,
             "tickcolor": "rgb(237,237,237)",
             "ticklen": 6,
             "ticks": "inside"
            },
            "colorscale": [
             [
              0,
              "rgb(20,44,66)"
             ],
             [
              1,
              "rgb(90,179,244)"
             ]
            ],
            "type": "heatmap"
           }
          ],
          "heatmapgl": [
           {
            "colorbar": {
             "outlinewidth": 0,
             "tickcolor": "rgb(237,237,237)",
             "ticklen": 6,
             "ticks": "inside"
            },
            "colorscale": [
             [
              0,
              "rgb(20,44,66)"
             ],
             [
              1,
              "rgb(90,179,244)"
             ]
            ],
            "type": "heatmapgl"
           }
          ],
          "histogram": [
           {
            "marker": {
             "colorbar": {
              "outlinewidth": 0,
              "tickcolor": "rgb(237,237,237)",
              "ticklen": 6,
              "ticks": "inside"
             }
            },
            "type": "histogram"
           }
          ],
          "histogram2d": [
           {
            "colorbar": {
             "outlinewidth": 0,
             "tickcolor": "rgb(237,237,237)",
             "ticklen": 6,
             "ticks": "inside"
            },
            "colorscale": [
             [
              0,
              "rgb(20,44,66)"
             ],
             [
              1,
              "rgb(90,179,244)"
             ]
            ],
            "type": "histogram2d"
           }
          ],
          "histogram2dcontour": [
           {
            "colorbar": {
             "outlinewidth": 0,
             "tickcolor": "rgb(237,237,237)",
             "ticklen": 6,
             "ticks": "inside"
            },
            "colorscale": [
             [
              0,
              "rgb(20,44,66)"
             ],
             [
              1,
              "rgb(90,179,244)"
             ]
            ],
            "type": "histogram2dcontour"
           }
          ],
          "mesh3d": [
           {
            "colorbar": {
             "outlinewidth": 0,
             "tickcolor": "rgb(237,237,237)",
             "ticklen": 6,
             "ticks": "inside"
            },
            "type": "mesh3d"
           }
          ],
          "parcoords": [
           {
            "line": {
             "colorbar": {
              "outlinewidth": 0,
              "tickcolor": "rgb(237,237,237)",
              "ticklen": 6,
              "ticks": "inside"
             }
            },
            "type": "parcoords"
           }
          ],
          "pie": [
           {
            "automargin": true,
            "type": "pie"
           }
          ],
          "scatter": [
           {
            "marker": {
             "colorbar": {
              "outlinewidth": 0,
              "tickcolor": "rgb(237,237,237)",
              "ticklen": 6,
              "ticks": "inside"
             }
            },
            "type": "scatter"
           }
          ],
          "scatter3d": [
           {
            "line": {
             "colorbar": {
              "outlinewidth": 0,
              "tickcolor": "rgb(237,237,237)",
              "ticklen": 6,
              "ticks": "inside"
             }
            },
            "marker": {
             "colorbar": {
              "outlinewidth": 0,
              "tickcolor": "rgb(237,237,237)",
              "ticklen": 6,
              "ticks": "inside"
             }
            },
            "type": "scatter3d"
           }
          ],
          "scattercarpet": [
           {
            "marker": {
             "colorbar": {
              "outlinewidth": 0,
              "tickcolor": "rgb(237,237,237)",
              "ticklen": 6,
              "ticks": "inside"
             }
            },
            "type": "scattercarpet"
           }
          ],
          "scattergeo": [
           {
            "marker": {
             "colorbar": {
              "outlinewidth": 0,
              "tickcolor": "rgb(237,237,237)",
              "ticklen": 6,
              "ticks": "inside"
             }
            },
            "type": "scattergeo"
           }
          ],
          "scattergl": [
           {
            "marker": {
             "colorbar": {
              "outlinewidth": 0,
              "tickcolor": "rgb(237,237,237)",
              "ticklen": 6,
              "ticks": "inside"
             }
            },
            "type": "scattergl"
           }
          ],
          "scattermapbox": [
           {
            "marker": {
             "colorbar": {
              "outlinewidth": 0,
              "tickcolor": "rgb(237,237,237)",
              "ticklen": 6,
              "ticks": "inside"
             }
            },
            "type": "scattermapbox"
           }
          ],
          "scatterpolar": [
           {
            "marker": {
             "colorbar": {
              "outlinewidth": 0,
              "tickcolor": "rgb(237,237,237)",
              "ticklen": 6,
              "ticks": "inside"
             }
            },
            "type": "scatterpolar"
           }
          ],
          "scatterpolargl": [
           {
            "marker": {
             "colorbar": {
              "outlinewidth": 0,
              "tickcolor": "rgb(237,237,237)",
              "ticklen": 6,
              "ticks": "inside"
             }
            },
            "type": "scatterpolargl"
           }
          ],
          "scatterternary": [
           {
            "marker": {
             "colorbar": {
              "outlinewidth": 0,
              "tickcolor": "rgb(237,237,237)",
              "ticklen": 6,
              "ticks": "inside"
             }
            },
            "type": "scatterternary"
           }
          ],
          "surface": [
           {
            "colorbar": {
             "outlinewidth": 0,
             "tickcolor": "rgb(237,237,237)",
             "ticklen": 6,
             "ticks": "inside"
            },
            "colorscale": [
             [
              0,
              "rgb(20,44,66)"
             ],
             [
              1,
              "rgb(90,179,244)"
             ]
            ],
            "type": "surface"
           }
          ],
          "table": [
           {
            "cells": {
             "fill": {
              "color": "rgb(237,237,237)"
             },
             "line": {
              "color": "white"
             }
            },
            "header": {
             "fill": {
              "color": "rgb(217,217,217)"
             },
             "line": {
              "color": "white"
             }
            },
            "type": "table"
           }
          ]
         },
         "layout": {
          "annotationdefaults": {
           "arrowhead": 0,
           "arrowwidth": 1
          },
          "coloraxis": {
           "colorbar": {
            "outlinewidth": 0,
            "tickcolor": "rgb(237,237,237)",
            "ticklen": 6,
            "ticks": "inside"
           }
          },
          "colorscale": {
           "sequential": [
            [
             0,
             "rgb(20,44,66)"
            ],
            [
             1,
             "rgb(90,179,244)"
            ]
           ],
           "sequentialminus": [
            [
             0,
             "rgb(20,44,66)"
            ],
            [
             1,
             "rgb(90,179,244)"
            ]
           ]
          },
          "colorway": [
           "#F8766D",
           "#A3A500",
           "#00BF7D",
           "#00B0F6",
           "#E76BF3"
          ],
          "font": {
           "color": "rgb(51,51,51)"
          },
          "geo": {
           "bgcolor": "white",
           "lakecolor": "white",
           "landcolor": "rgb(237,237,237)",
           "showlakes": true,
           "showland": true,
           "subunitcolor": "white"
          },
          "hoverlabel": {
           "align": "left"
          },
          "hovermode": "closest",
          "paper_bgcolor": "white",
          "plot_bgcolor": "rgb(237,237,237)",
          "polar": {
           "angularaxis": {
            "gridcolor": "white",
            "linecolor": "white",
            "showgrid": true,
            "tickcolor": "rgb(51,51,51)",
            "ticks": "outside"
           },
           "bgcolor": "rgb(237,237,237)",
           "radialaxis": {
            "gridcolor": "white",
            "linecolor": "white",
            "showgrid": true,
            "tickcolor": "rgb(51,51,51)",
            "ticks": "outside"
           }
          },
          "scene": {
           "xaxis": {
            "backgroundcolor": "rgb(237,237,237)",
            "gridcolor": "white",
            "gridwidth": 2,
            "linecolor": "white",
            "showbackground": true,
            "showgrid": true,
            "tickcolor": "rgb(51,51,51)",
            "ticks": "outside",
            "zerolinecolor": "white"
           },
           "yaxis": {
            "backgroundcolor": "rgb(237,237,237)",
            "gridcolor": "white",
            "gridwidth": 2,
            "linecolor": "white",
            "showbackground": true,
            "showgrid": true,
            "tickcolor": "rgb(51,51,51)",
            "ticks": "outside",
            "zerolinecolor": "white"
           },
           "zaxis": {
            "backgroundcolor": "rgb(237,237,237)",
            "gridcolor": "white",
            "gridwidth": 2,
            "linecolor": "white",
            "showbackground": true,
            "showgrid": true,
            "tickcolor": "rgb(51,51,51)",
            "ticks": "outside",
            "zerolinecolor": "white"
           }
          },
          "shapedefaults": {
           "fillcolor": "black",
           "line": {
            "width": 0
           },
           "opacity": 0.3
          },
          "ternary": {
           "aaxis": {
            "gridcolor": "white",
            "linecolor": "white",
            "showgrid": true,
            "tickcolor": "rgb(51,51,51)",
            "ticks": "outside"
           },
           "baxis": {
            "gridcolor": "white",
            "linecolor": "white",
            "showgrid": true,
            "tickcolor": "rgb(51,51,51)",
            "ticks": "outside"
           },
           "bgcolor": "rgb(237,237,237)",
           "caxis": {
            "gridcolor": "white",
            "linecolor": "white",
            "showgrid": true,
            "tickcolor": "rgb(51,51,51)",
            "ticks": "outside"
           }
          },
          "xaxis": {
           "automargin": true,
           "gridcolor": "white",
           "linecolor": "white",
           "showgrid": true,
           "tickcolor": "rgb(51,51,51)",
           "ticks": "outside",
           "title": {
            "standoff": 15
           },
           "zerolinecolor": "white"
          },
          "yaxis": {
           "automargin": true,
           "gridcolor": "white",
           "linecolor": "white",
           "showgrid": true,
           "tickcolor": "rgb(51,51,51)",
           "ticks": "outside",
           "title": {
            "standoff": 15
           },
           "zerolinecolor": "white"
          }
         }
        },
        "title": {
         "text": "<b>IE 3.0 Gantt Chart 2021</b>"
        },
        "xaxis": {
         "anchor": "y",
         "domain": [
          0,
          1
         ],
         "range": [
          "2021-01-01T00:00:00",
          "2021-12-31T00:00:00"
         ],
         "rangeslider": {
          "visible": true
         },
         "showgrid": true,
         "tickfont": {
          "color": "black",
          "family": "Old Standard TT, serif",
          "size": 20
         },
         "tickformat": "%b",
         "tickmode": "array",
         "ticks": "outside",
         "tickson": "labels",
         "ticktext": [
          "Q1",
          "Q2",
          "Q3",
          "Q4"
         ],
         "tickvals": [
          "2021-03-31T00:00:00",
          "2021-06-30T00:00:00",
          "2021-09-30T00:00:00",
          "2021-12-31T00:00:00"
         ],
         "type": "date"
        },
        "yaxis": {
         "anchor": "x",
         "automargin": true,
         "domain": [
          0,
          1
         ],
         "showgrid": true,
         "showticklabels": true,
         "tickfont": {
          "color": "black",
          "family": "Old Standard TT, serif",
          "size": 12
         },
         "title": {
          "text": "<b>Initiatives</b>"
         }
        }
       }
      },
      "text/html": [
       "<div>                            <div id=\"afc08c86-a4a3-465f-a429-7126acf5bc97\" class=\"plotly-graph-div\" style=\"height:700px; width:100%;\"></div>            <script type=\"text/javascript\">                require([\"plotly\"], function(Plotly) {                    window.PLOTLYENV=window.PLOTLYENV || {};                                    if (document.getElementById(\"afc08c86-a4a3-465f-a429-7126acf5bc97\")) {                    Plotly.newPlot(                        \"afc08c86-a4a3-465f-a429-7126acf5bc97\",                        [{\"alignmentgroup\": \"True\", \"base\": [\"2021-01-01T00:00:00\", \"2021-01-01T00:00:00\"], \"hovertemplate\": \"Dimension=People<br>Start=%{base}<br>Finish=%{x}<br>Task=%{y}<extra></extra>\", \"legendgroup\": \"People\", \"marker\": {\"color\": \"#AA0DFE\", \"opacity\": 0.5}, \"name\": \"People\", \"offsetgroup\": \"People\", \"orientation\": \"h\", \"showlegend\": true, \"textposition\": \"auto\", \"type\": \"bar\", \"x\": [7689600000.0, 7689600000.0], \"xaxis\": \"x\", \"y\": [\"Agile DevOps Culture\", \"Organizational Design and Operating Model\"], \"yaxis\": \"y\"}, {\"alignmentgroup\": \"True\", \"base\": [\"2021-01-01T00:00:00\", \"2021-01-01T00:00:00\", \"2021-01-01T00:00:00\", \"2021-04-01T00:00:00\", \"2021-07-01T00:00:00\", \"2021-10-01T00:00:00\"], \"hovertemplate\": \"Dimension=Process<br>Start=%{base}<br>Finish=%{x}<br>Task=%{y}<extra></extra>\", \"legendgroup\": \"Process\", \"marker\": {\"color\": \"#3283FE\", \"opacity\": 0.5}, \"name\": \"Process\", \"offsetgroup\": \"Process\", \"orientation\": \"h\", \"showlegend\": true, \"textposition\": \"auto\", \"type\": \"bar\", \"x\": [7689600000.0, 7689600000.0, 7689600000.0, 7776000000.0, 7862400000.0, 7862400000.0], \"xaxis\": \"x\", \"y\": [\"Delivery Methodology-Agile, RAD, DevOps, Left Testing, TDD, Low-Code\", \"Product Mgmt Evolution-Product Advisory Council\", \"Expansion of Managed Service Arrangements\", \"DevOps, DataOps, MLOps\", \"Expansion of Self-Service Models\", \"Financial Transparency Process Dev\"], \"yaxis\": \"y\"}, {\"alignmentgroup\": \"True\", \"base\": [\"2021-01-01T00:00:00\", \"2021-04-01T00:00:00\", \"2021-07-01T00:00:00\", \"2021-07-01T00:00:00\", \"2021-10-01T00:00:00\", \"2021-10-01T00:00:00\", \"2021-10-01T00:00:00\"], \"hovertemplate\": \"Dimension=Technology<br>Start=%{base}<br>Finish=%{x}<br>Task=%{y}<extra></extra>\", \"legendgroup\": \"Technology\", \"marker\": {\"color\": \"#85660D\", \"opacity\": 0.5}, \"name\": \"Technology\", \"offsetgroup\": \"Technology\", \"orientation\": \"h\", \"showlegend\": true, \"textposition\": \"auto\", \"type\": \"bar\", \"x\": [31449600000.0, 23673600000.0, 7862400000.0, 7862400000.0, 7862400000.0, 7862400000.0, 7862400000.0], \"xaxis\": \"x\", \"y\": [\"Decouple compute/storage\", \"Self-Service Tools\", \"AI/ML Infrastructure/tools\", \"Resilient/Durable\", \"Elastic Infrastructure/Dynamic Compute\", \"Event Streaming\", \"Microservices\"], \"yaxis\": \"y\"}, {\"alignmentgroup\": \"True\", \"base\": [\"2021-01-01T00:00:00\", \"2021-01-01T00:00:00\", \"2021-01-01T00:00:00\", \"2021-01-01T00:00:00\", \"2021-01-01T00:00:00\"], \"hovertemplate\": \"Dimension=Technology - Date TBD<br>Start=%{base}<br>Finish=%{x}<br>Task=%{y}<extra></extra>\", \"legendgroup\": \"Technology - Date TBD\", \"marker\": {\"color\": \"#782AB6\", \"opacity\": 0.5}, \"name\": \"Technology - Date TBD\", \"offsetgroup\": \"Technology - Date TBD\", \"orientation\": \"h\", \"showlegend\": true, \"textposition\": \"auto\", \"type\": \"bar\", \"x\": [31449600000.0, 31449600000.0, 31449600000.0, 31449600000.0, 31449600000.0], \"xaxis\": \"x\", \"y\": [\"Containerization \", \"Hybrid Cloud Governance, Security and UX, Data Arch, Data Quality Mgmt\", \"Enterprise Orchestration\", \"Low-Code Dev Tools\", \"FHIR Data Architecture\"], \"yaxis\": \"y\"}, {\"alignmentgroup\": \"True\", \"base\": [\"2021-01-01T00:00:00\"], \"hovertemplate\": \"Dimension=Process - Date TBD<br>Start=%{base}<br>Finish=%{x}<br>Task=%{y}<extra></extra>\", \"legendgroup\": \"Process - Date TBD\", \"marker\": {\"color\": \"#565656\", \"opacity\": 0.5}, \"name\": \"Process - Date TBD\", \"offsetgroup\": \"Process - Date TBD\", \"orientation\": \"h\", \"showlegend\": true, \"textposition\": \"auto\", \"type\": \"bar\", \"x\": [31449600000.0], \"xaxis\": \"x\", \"y\": [\"Governance Model Dev-Self-Service, Productionization, Lineage\"], \"yaxis\": \"y\"}],                        {\"barmode\": \"overlay\", \"height\": 700, \"legend\": {\"orientation\": \"h\", \"title\": {\"text\": \"Dimension\"}, \"tracegroupgap\": 0, \"x\": 1, \"xanchor\": \"right\", \"y\": 1.0, \"yanchor\": \"bottom\"}, \"margin\": {\"t\": 60}, \"template\": {\"data\": {\"bar\": [{\"error_x\": {\"color\": \"rgb(51,51,51)\"}, \"error_y\": {\"color\": \"rgb(51,51,51)\"}, \"marker\": {\"line\": {\"color\": \"rgb(237,237,237)\", \"width\": 0.5}}, \"type\": \"bar\"}], \"barpolar\": [{\"marker\": {\"line\": {\"color\": \"rgb(237,237,237)\", \"width\": 0.5}}, \"type\": \"barpolar\"}], \"carpet\": [{\"aaxis\": {\"endlinecolor\": \"rgb(51,51,51)\", \"gridcolor\": \"white\", \"linecolor\": \"white\", \"minorgridcolor\": \"white\", \"startlinecolor\": \"rgb(51,51,51)\"}, \"baxis\": {\"endlinecolor\": \"rgb(51,51,51)\", \"gridcolor\": \"white\", \"linecolor\": \"white\", \"minorgridcolor\": \"white\", \"startlinecolor\": \"rgb(51,51,51)\"}, \"type\": \"carpet\"}], \"choropleth\": [{\"colorbar\": {\"outlinewidth\": 0, \"tickcolor\": \"rgb(237,237,237)\", \"ticklen\": 6, \"ticks\": \"inside\"}, \"type\": \"choropleth\"}], \"contour\": [{\"colorbar\": {\"outlinewidth\": 0, \"tickcolor\": \"rgb(237,237,237)\", \"ticklen\": 6, \"ticks\": \"inside\"}, \"colorscale\": [[0, \"rgb(20,44,66)\"], [1, \"rgb(90,179,244)\"]], \"type\": \"contour\"}], \"contourcarpet\": [{\"colorbar\": {\"outlinewidth\": 0, \"tickcolor\": \"rgb(237,237,237)\", \"ticklen\": 6, \"ticks\": \"inside\"}, \"type\": \"contourcarpet\"}], \"heatmap\": [{\"colorbar\": {\"outlinewidth\": 0, \"tickcolor\": \"rgb(237,237,237)\", \"ticklen\": 6, \"ticks\": \"inside\"}, \"colorscale\": [[0, \"rgb(20,44,66)\"], [1, \"rgb(90,179,244)\"]], \"type\": \"heatmap\"}], \"heatmapgl\": [{\"colorbar\": {\"outlinewidth\": 0, \"tickcolor\": \"rgb(237,237,237)\", \"ticklen\": 6, \"ticks\": \"inside\"}, \"colorscale\": [[0, \"rgb(20,44,66)\"], [1, \"rgb(90,179,244)\"]], \"type\": \"heatmapgl\"}], \"histogram\": [{\"marker\": {\"colorbar\": {\"outlinewidth\": 0, \"tickcolor\": \"rgb(237,237,237)\", \"ticklen\": 6, \"ticks\": \"inside\"}}, \"type\": \"histogram\"}], \"histogram2d\": [{\"colorbar\": {\"outlinewidth\": 0, \"tickcolor\": \"rgb(237,237,237)\", \"ticklen\": 6, \"ticks\": \"inside\"}, \"colorscale\": [[0, \"rgb(20,44,66)\"], [1, \"rgb(90,179,244)\"]], \"type\": \"histogram2d\"}], \"histogram2dcontour\": [{\"colorbar\": {\"outlinewidth\": 0, \"tickcolor\": \"rgb(237,237,237)\", \"ticklen\": 6, \"ticks\": \"inside\"}, \"colorscale\": [[0, \"rgb(20,44,66)\"], [1, \"rgb(90,179,244)\"]], \"type\": \"histogram2dcontour\"}], \"mesh3d\": [{\"colorbar\": {\"outlinewidth\": 0, \"tickcolor\": \"rgb(237,237,237)\", \"ticklen\": 6, \"ticks\": \"inside\"}, \"type\": \"mesh3d\"}], \"parcoords\": [{\"line\": {\"colorbar\": {\"outlinewidth\": 0, \"tickcolor\": \"rgb(237,237,237)\", \"ticklen\": 6, \"ticks\": \"inside\"}}, \"type\": \"parcoords\"}], \"pie\": [{\"automargin\": true, \"type\": \"pie\"}], \"scatter\": [{\"marker\": {\"colorbar\": {\"outlinewidth\": 0, \"tickcolor\": \"rgb(237,237,237)\", \"ticklen\": 6, \"ticks\": \"inside\"}}, \"type\": \"scatter\"}], \"scatter3d\": [{\"line\": {\"colorbar\": {\"outlinewidth\": 0, \"tickcolor\": \"rgb(237,237,237)\", \"ticklen\": 6, \"ticks\": \"inside\"}}, \"marker\": {\"colorbar\": {\"outlinewidth\": 0, \"tickcolor\": \"rgb(237,237,237)\", \"ticklen\": 6, \"ticks\": \"inside\"}}, \"type\": \"scatter3d\"}], \"scattercarpet\": [{\"marker\": {\"colorbar\": {\"outlinewidth\": 0, \"tickcolor\": \"rgb(237,237,237)\", \"ticklen\": 6, \"ticks\": \"inside\"}}, \"type\": \"scattercarpet\"}], \"scattergeo\": [{\"marker\": {\"colorbar\": {\"outlinewidth\": 0, \"tickcolor\": \"rgb(237,237,237)\", \"ticklen\": 6, \"ticks\": \"inside\"}}, \"type\": \"scattergeo\"}], \"scattergl\": [{\"marker\": {\"colorbar\": {\"outlinewidth\": 0, \"tickcolor\": \"rgb(237,237,237)\", \"ticklen\": 6, \"ticks\": \"inside\"}}, \"type\": \"scattergl\"}], \"scattermapbox\": [{\"marker\": {\"colorbar\": {\"outlinewidth\": 0, \"tickcolor\": \"rgb(237,237,237)\", \"ticklen\": 6, \"ticks\": \"inside\"}}, \"type\": \"scattermapbox\"}], \"scatterpolar\": [{\"marker\": {\"colorbar\": {\"outlinewidth\": 0, \"tickcolor\": \"rgb(237,237,237)\", \"ticklen\": 6, \"ticks\": \"inside\"}}, \"type\": \"scatterpolar\"}], \"scatterpolargl\": [{\"marker\": {\"colorbar\": {\"outlinewidth\": 0, \"tickcolor\": \"rgb(237,237,237)\", \"ticklen\": 6, \"ticks\": \"inside\"}}, \"type\": \"scatterpolargl\"}], \"scatterternary\": [{\"marker\": {\"colorbar\": {\"outlinewidth\": 0, \"tickcolor\": \"rgb(237,237,237)\", \"ticklen\": 6, \"ticks\": \"inside\"}}, \"type\": \"scatterternary\"}], \"surface\": [{\"colorbar\": {\"outlinewidth\": 0, \"tickcolor\": \"rgb(237,237,237)\", \"ticklen\": 6, \"ticks\": \"inside\"}, \"colorscale\": [[0, \"rgb(20,44,66)\"], [1, \"rgb(90,179,244)\"]], \"type\": \"surface\"}], \"table\": [{\"cells\": {\"fill\": {\"color\": \"rgb(237,237,237)\"}, \"line\": {\"color\": \"white\"}}, \"header\": {\"fill\": {\"color\": \"rgb(217,217,217)\"}, \"line\": {\"color\": \"white\"}}, \"type\": \"table\"}]}, \"layout\": {\"annotationdefaults\": {\"arrowhead\": 0, \"arrowwidth\": 1}, \"coloraxis\": {\"colorbar\": {\"outlinewidth\": 0, \"tickcolor\": \"rgb(237,237,237)\", \"ticklen\": 6, \"ticks\": \"inside\"}}, \"colorscale\": {\"sequential\": [[0, \"rgb(20,44,66)\"], [1, \"rgb(90,179,244)\"]], \"sequentialminus\": [[0, \"rgb(20,44,66)\"], [1, \"rgb(90,179,244)\"]]}, \"colorway\": [\"#F8766D\", \"#A3A500\", \"#00BF7D\", \"#00B0F6\", \"#E76BF3\"], \"font\": {\"color\": \"rgb(51,51,51)\"}, \"geo\": {\"bgcolor\": \"white\", \"lakecolor\": \"white\", \"landcolor\": \"rgb(237,237,237)\", \"showlakes\": true, \"showland\": true, \"subunitcolor\": \"white\"}, \"hoverlabel\": {\"align\": \"left\"}, \"hovermode\": \"closest\", \"paper_bgcolor\": \"white\", \"plot_bgcolor\": \"rgb(237,237,237)\", \"polar\": {\"angularaxis\": {\"gridcolor\": \"white\", \"linecolor\": \"white\", \"showgrid\": true, \"tickcolor\": \"rgb(51,51,51)\", \"ticks\": \"outside\"}, \"bgcolor\": \"rgb(237,237,237)\", \"radialaxis\": {\"gridcolor\": \"white\", \"linecolor\": \"white\", \"showgrid\": true, \"tickcolor\": \"rgb(51,51,51)\", \"ticks\": \"outside\"}}, \"scene\": {\"xaxis\": {\"backgroundcolor\": \"rgb(237,237,237)\", \"gridcolor\": \"white\", \"gridwidth\": 2, \"linecolor\": \"white\", \"showbackground\": true, \"showgrid\": true, \"tickcolor\": \"rgb(51,51,51)\", \"ticks\": \"outside\", \"zerolinecolor\": \"white\"}, \"yaxis\": {\"backgroundcolor\": \"rgb(237,237,237)\", \"gridcolor\": \"white\", \"gridwidth\": 2, \"linecolor\": \"white\", \"showbackground\": true, \"showgrid\": true, \"tickcolor\": \"rgb(51,51,51)\", \"ticks\": \"outside\", \"zerolinecolor\": \"white\"}, \"zaxis\": {\"backgroundcolor\": \"rgb(237,237,237)\", \"gridcolor\": \"white\", \"gridwidth\": 2, \"linecolor\": \"white\", \"showbackground\": true, \"showgrid\": true, \"tickcolor\": \"rgb(51,51,51)\", \"ticks\": \"outside\", \"zerolinecolor\": \"white\"}}, \"shapedefaults\": {\"fillcolor\": \"black\", \"line\": {\"width\": 0}, \"opacity\": 0.3}, \"ternary\": {\"aaxis\": {\"gridcolor\": \"white\", \"linecolor\": \"white\", \"showgrid\": true, \"tickcolor\": \"rgb(51,51,51)\", \"ticks\": \"outside\"}, \"baxis\": {\"gridcolor\": \"white\", \"linecolor\": \"white\", \"showgrid\": true, \"tickcolor\": \"rgb(51,51,51)\", \"ticks\": \"outside\"}, \"bgcolor\": \"rgb(237,237,237)\", \"caxis\": {\"gridcolor\": \"white\", \"linecolor\": \"white\", \"showgrid\": true, \"tickcolor\": \"rgb(51,51,51)\", \"ticks\": \"outside\"}}, \"xaxis\": {\"automargin\": true, \"gridcolor\": \"white\", \"linecolor\": \"white\", \"showgrid\": true, \"tickcolor\": \"rgb(51,51,51)\", \"ticks\": \"outside\", \"title\": {\"standoff\": 15}, \"zerolinecolor\": \"white\"}, \"yaxis\": {\"automargin\": true, \"gridcolor\": \"white\", \"linecolor\": \"white\", \"showgrid\": true, \"tickcolor\": \"rgb(51,51,51)\", \"ticks\": \"outside\", \"title\": {\"standoff\": 15}, \"zerolinecolor\": \"white\"}}}, \"title\": {\"text\": \"<b>IE 3.0 Gantt Chart 2021</b>\"}, \"xaxis\": {\"anchor\": \"y\", \"domain\": [0.0, 1.0], \"range\": [\"2021-01-01T00:00:00\", \"2021-12-31T00:00:00\"], \"rangeslider\": {\"visible\": true}, \"showgrid\": true, \"tickfont\": {\"color\": \"black\", \"family\": \"Old Standard TT, serif\", \"size\": 20}, \"tickformat\": \"%b\", \"tickmode\": \"array\", \"ticks\": \"outside\", \"tickson\": \"labels\", \"ticktext\": [\"Q1\", \"Q2\", \"Q3\", \"Q4\"], \"tickvals\": [\"2021-03-31T00:00:00\", \"2021-06-30T00:00:00\", \"2021-09-30T00:00:00\", \"2021-12-31T00:00:00\"], \"type\": \"date\"}, \"yaxis\": {\"anchor\": \"x\", \"automargin\": true, \"domain\": [0.0, 1.0], \"showgrid\": true, \"showticklabels\": true, \"tickfont\": {\"color\": \"black\", \"family\": \"Old Standard TT, serif\", \"size\": 12}, \"title\": {\"text\": \"<b>Initiatives</b>\"}}},                        {\"responsive\": true}                    ).then(function(){\n",
       "                            \n",
       "var gd = document.getElementById('afc08c86-a4a3-465f-a429-7126acf5bc97');\n",
       "var x = new MutationObserver(function (mutations, observer) {{\n",
       "        var display = window.getComputedStyle(gd).display;\n",
       "        if (!display || display === 'none') {{\n",
       "            console.log([gd, 'removed!']);\n",
       "            Plotly.purge(gd);\n",
       "            observer.disconnect();\n",
       "        }}\n",
       "}});\n",
       "\n",
       "// Listen for the removal of the full notebook cells\n",
       "var notebookContainer = gd.closest('#notebook-container');\n",
       "if (notebookContainer) {{\n",
       "    x.observe(notebookContainer, {childList: true});\n",
       "}}\n",
       "\n",
       "// Listen for the clearing of the current output cell\n",
       "var outputEl = gd.closest('.output');\n",
       "if (outputEl) {{\n",
       "    x.observe(outputEl, {childList: true});\n",
       "}}\n",
       "\n",
       "                        })                };                });            </script>        </div>"
      ]
     },
     "metadata": {},
     "output_type": "display_data"
    }
   ],
   "source": [
    "colors = {'Technology' : 'rgb(30,144,255)'\n",
    "          , 'Technology - Date TBD' : 'rgb(211,211,211)'\n",
    "          , 'People' : 'rgb(95,158,160)'\n",
    "          , 'Process' : 'rgb(0,0,128)'\n",
    "          , 'Process - Date TBD' : 'rgb(211,211,210)'}\n",
    "\n",
    "fig = px.timeline(df\n",
    "                  , x_start=\"Start\"\n",
    "                  , x_end=\"Finish\"\n",
    "                  , y=\"Task\"\n",
    "#                   , color_discrete_sequence=['green']*len(df)\n",
    "                  , color_discrete_sequence=px.colors.qualitative.Alphabet\n",
    "                  , opacity=.5\n",
    "                  , range_x=None\n",
    "                  , range_y=None\n",
    "                  , template='ggplot2'\n",
    "#                   , width=1000\n",
    "                  , height=700\n",
    "#                   , labels={'x': 'Some X', 'y':'Some Y'}\n",
    "                  , color='Dimension'\n",
    "#                   , color=colors\n",
    "                 )\n",
    "\n",
    "fig.update_layout(\n",
    "    title = \"<b>IE 3.0 Gantt Chart 2021</b>\"\n",
    "    ,xaxis_range=[df.Start.min(), df.Finish.max()]\n",
    "    ,xaxis = dict(\n",
    "        showgrid=True\n",
    "        ,rangeslider_visible=True\n",
    "#         ,title='<b>Quarter</b>'\n",
    "        ,tickmode = 'array'\n",
    "        ,ticktext=[\"Q1\", \"Q2\", \"Q3\", \"Q4\"]\n",
    "        ,tickvals = pd.date_range('2021-01-01', '2021-12-31', freq='Q')\n",
    "        ,tickformat = '%b'\n",
    "        ,ticks=\"outside\"\n",
    "        ,tickson=\"labels\"\n",
    "        ,tickfont=dict(\n",
    "            family='Old Standard TT, serif',\n",
    "            size=20,\n",
    "            color='black'))\n",
    "    ,yaxis = dict(\n",
    "        title='<b>Initiatives</b>'\n",
    "        ,automargin=True\n",
    "        ,showgrid=True\n",
    "        ,showticklabels=True\n",
    "        ,tickfont=dict(\n",
    "            family='Old Standard TT, serif',\n",
    "            size=12,\n",
    "            color='black'))\n",
    "    ,legend=dict(\n",
    "        orientation=\"h\",\n",
    "        yanchor=\"bottom\",\n",
    "        y=1.0,\n",
    "        xanchor=\"right\",\n",
    "        x=1)\n",
    ")\n",
    "\n",
    "fig.show()"
   ]
  },
  {
   "cell_type": "code",
   "execution_count": null,
   "metadata": {},
   "outputs": [],
   "source": []
  },
  {
   "cell_type": "code",
   "execution_count": null,
   "metadata": {},
   "outputs": [],
   "source": [
    "    \n",
    "['ggplot2', 'seaborn', 'simple_white', 'plotly',\n",
    "'plotly_white', 'plotly_dark', 'presentation', 'xgridoff',\n",
    "'ygridoff', 'gridon', 'none']\n",
    "    \n",
    "    - A hex string (e.g. '#ff0000')\n",
    "      - An rgb/rgba string (e.g. 'rgb(255,0,0)')\n",
    "      - An hsl/hsla string (e.g. 'hsl(0,100%,50%)')\n",
    "      - An hsv/hsva string (e.g. 'hsv(0,100%,100%)')\n",
    "      - A named CSS color:\n",
    "            aliceblue, antiquewhite, aqua, aquamarine, azure,\n",
    "            beige, bisque, black, blanchedalmond, blue,\n",
    "            blueviolet, brown, burlywood, cadetblue,\n",
    "            chartreuse, chocolate, coral, cornflowerblue,\n",
    "            cornsilk, crimson, cyan, darkblue, darkcyan,\n",
    "            darkgoldenrod, darkgray, darkgrey, darkgreen,\n",
    "            darkkhaki, darkmagenta, darkolivegreen, darkorange,\n",
    "            darkorchid, darkred, darksalmon, darkseagreen,\n",
    "            darkslateblue, darkslategray, darkslategrey,\n",
    "            darkturquoise, darkviolet, deeppink, deepskyblue,\n",
    "            dimgray, dimgrey, dodgerblue, firebrick,\n",
    "            floralwhite, forestgreen, fuchsia, gainsboro,\n",
    "            ghostwhite, gold, goldenrod, gray, grey, green,\n",
    "            greenyellow, honeydew, hotpink, indianred, indigo,\n",
    "            ivory, khaki, lavender, lavenderblush, lawngreen,\n",
    "            lemonchiffon, lightblue, lightcoral, lightcyan,\n",
    "            lightgoldenrodyellow, lightgray, lightgrey,\n",
    "            lightgreen, lightpink, lightsalmon, lightseagreen,\n",
    "            lightskyblue, lightslategray, lightslategrey,\n",
    "            lightsteelblue, lightyellow, lime, limegreen,\n",
    "            linen, magenta, maroon, mediumaquamarine,\n",
    "            mediumblue, mediumorchid, mediumpurple,\n",
    "            mediumseagreen, mediumslateblue, mediumspringgreen,\n",
    "            mediumturquoise, mediumvioletred, midnightblue,\n",
    "            mintcream, mistyrose, moccasin, navajowhite, navy,\n",
    "            oldlace, olive, olivedrab, orange, orangered,\n",
    "            orchid, palegoldenrod, palegreen, paleturquoise,\n",
    "            palevioletred, papayawhip, peachpuff, peru, pink,\n",
    "            plum, powderblue, purple, red, rosybrown,\n",
    "            royalblue, rebeccapurple, saddlebrown, salmon,\n",
    "            sandybrown, seagreen, seashell, sienna, silver,\n",
    "            skyblue, slateblue, slategray, slategrey, snow,\n",
    "            springgreen, steelblue, tan, teal, thistle, tomato,\n",
    "            turquoise, violet, wheat, white, whitesmoke,\n",
    "            yellow, yellowgreen"
   ]
  },
  {
   "cell_type": "code",
   "execution_count": null,
   "metadata": {},
   "outputs": [],
   "source": [
    "Valid properties:\n",
    "        anchor\n",
    "            If set to an opposite-letter axis id (e.g. `x2`, `y`),\n",
    "            this axis is bound to the corresponding opposite-letter\n",
    "            axis. If set to \"free\", this axis' position is\n",
    "            determined by `position`.\n",
    "        automargin\n",
    "            Determines whether long tick labels automatically grow\n",
    "            the figure margins.\n",
    "        autorange\n",
    "            Determines whether or not the range of this axis is\n",
    "            computed in relation to the input data. See `rangemode`\n",
    "            for more info. If `range` is provided, then `autorange`\n",
    "            is set to False.\n",
    "        calendar\n",
    "            Sets the calendar system to use for `range` and `tick0`\n",
    "            if this is a date axis. This does not set the calendar\n",
    "            for interpreting data on this axis, that's specified in\n",
    "            the trace or via the global `layout.calendar`\n",
    "        categoryarray\n",
    "            Sets the order in which categories on this axis appear.\n",
    "            Only has an effect if `categoryorder` is set to\n",
    "            \"array\". Used with `categoryorder`.\n",
    "        categoryarraysrc\n",
    "            Sets the source reference on Chart Studio Cloud for\n",
    "            categoryarray .\n",
    "        categoryorder\n",
    "            Specifies the ordering logic for the case of\n",
    "            categorical variables. By default, plotly uses \"trace\",\n",
    "            which specifies the order that is present in the data\n",
    "            supplied. Set `categoryorder` to *category ascending*\n",
    "            or *category descending* if order should be determined\n",
    "            by the alphanumerical order of the category names. Set\n",
    "            `categoryorder` to \"array\" to derive the ordering from\n",
    "            the attribute `categoryarray`. If a category is not\n",
    "            found in the `categoryarray` array, the sorting\n",
    "            behavior for that attribute will be identical to the\n",
    "            \"trace\" mode. The unspecified categories will follow\n",
    "            the categories in `categoryarray`. Set `categoryorder`\n",
    "            to *total ascending* or *total descending* if order\n",
    "            should be determined by the numerical order of the\n",
    "            values. Similarly, the order can be determined by the\n",
    "            min, max, sum, mean or median of all the values.\n",
    "        color\n",
    "            Sets default for all colors associated with this axis\n",
    "            all at once: line, font, tick, and grid colors. Grid\n",
    "            color is lightened by blending this with the plot\n",
    "            background Individual pieces can override this.\n",
    "        constrain\n",
    "            If this axis needs to be compressed (either due to its\n",
    "            own `scaleanchor` and `scaleratio` or those of the\n",
    "            other axis), determines how that happens: by increasing\n",
    "            the \"range\" (default), or by decreasing the \"domain\".\n",
    "        constraintoward\n",
    "            If this axis needs to be compressed (either due to its\n",
    "            own `scaleanchor` and `scaleratio` or those of the\n",
    "            other axis), determines which direction we push the\n",
    "            originally specified plot area. Options are \"left\",\n",
    "            \"center\" (default), and \"right\" for x axes, and \"top\",\n",
    "            \"middle\" (default), and \"bottom\" for y axes.\n",
    "        dividercolor\n",
    "            Sets the color of the dividers Only has an effect on\n",
    "            \"multicategory\" axes.\n",
    "        dividerwidth\n",
    "            Sets the width (in px) of the dividers Only has an\n",
    "            effect on \"multicategory\" axes.\n",
    "        domain\n",
    "            Sets the domain of this axis (in plot fraction).\n",
    "        dtick\n",
    "            Sets the step in-between ticks on this axis. Use with\n",
    "            `tick0`. Must be a positive number, or special strings\n",
    "            available to \"log\" and \"date\" axes. If the axis `type`\n",
    "            is \"log\", then ticks are set every 10^(n*dtick) where n\n",
    "            is the tick number. For example, to set a tick mark at\n",
    "            1, 10, 100, 1000, ... set dtick to 1. To set tick marks\n",
    "            at 1, 100, 10000, ... set dtick to 2. To set tick marks\n",
    "            at 1, 5, 25, 125, 625, 3125, ... set dtick to\n",
    "            log_10(5), or 0.69897000433. \"log\" has several special\n",
    "            values; \"L<f>\", where `f` is a positive number, gives\n",
    "            ticks linearly spaced in value (but not position). For\n",
    "            example `tick0` = 0.1, `dtick` = \"L0.5\" will put ticks\n",
    "            at 0.1, 0.6, 1.1, 1.6 etc. To show powers of 10 plus\n",
    "            small digits between, use \"D1\" (all digits) or \"D2\"\n",
    "            (only 2 and 5). `tick0` is ignored for \"D1\" and \"D2\".\n",
    "            If the axis `type` is \"date\", then you must convert the\n",
    "            time to milliseconds. For example, to set the interval\n",
    "            between ticks to one day, set `dtick` to 86400000.0.\n",
    "            \"date\" also has special values \"M<n>\" gives ticks\n",
    "            spaced by a number of months. `n` must be a positive\n",
    "            integer. To set ticks on the 15th of every third month,\n",
    "            set `tick0` to \"2000-01-15\" and `dtick` to \"M3\". To set\n",
    "            ticks every 4 years, set `dtick` to \"M48\"\n",
    "        exponentformat\n",
    "            Determines a formatting rule for the tick exponents.\n",
    "            For example, consider the number 1,000,000,000. If\n",
    "            \"none\", it appears as 1,000,000,000. If \"e\", 1e+9. If\n",
    "            \"E\", 1E+9. If \"power\", 1x10^9 (with 9 in a super\n",
    "            script). If \"SI\", 1G. If \"B\", 1B.\n",
    "        fixedrange\n",
    "            Determines whether or not this axis is zoom-able. If\n",
    "            true, then zoom is disabled.\n",
    "        gridcolor\n",
    "            Sets the color of the grid lines.\n",
    "        gridwidth\n",
    "            Sets the width (in px) of the grid lines.\n",
    "        hoverformat\n",
    "            Sets the hover text formatting rule using d3 formatting\n",
    "            mini-languages which are very similar to those in\n",
    "            Python. For numbers, see:\n",
    "            https://github.com/d3/d3-3.x-api-\n",
    "            reference/blob/master/Formatting.md#d3_format And for\n",
    "            dates see: https://github.com/d3/d3-time-\n",
    "            format#locale_format We add one item to d3's date\n",
    "            formatter: \"%{n}f\" for fractional seconds with n\n",
    "            digits. For example, *2016-10-13 09:15:23.456* with\n",
    "            tickformat \"%H~%M~%S.%2f\" would display \"09~15~23.46\"\n",
    "        layer\n",
    "            Sets the layer on which this axis is displayed. If\n",
    "            *above traces*, this axis is displayed above all the\n",
    "            subplot's traces If *below traces*, this axis is\n",
    "            displayed below all the subplot's traces, but above the\n",
    "            grid lines. Useful when used together with scatter-like\n",
    "            traces with `cliponaxis` set to False to show markers\n",
    "            and/or text nodes above this axis.\n",
    "        linecolor\n",
    "            Sets the axis line color.\n",
    "        linewidth\n",
    "            Sets the width (in px) of the axis line.\n",
    "        matches\n",
    "            If set to another axis id (e.g. `x2`, `y`), the range\n",
    "            of this axis will match the range of the corresponding\n",
    "            axis in data-coordinates space. Moreover, matching axes\n",
    "            share auto-range values, category lists and histogram\n",
    "            auto-bins. Note that setting axes simultaneously in\n",
    "            both a `scaleanchor` and a `matches` constraint is\n",
    "            currently forbidden. Moreover, note that matching axes\n",
    "            must have the same `type`.\n",
    "        minexponent\n",
    "            Hide SI prefix for 10^n if |n| is below this number.\n",
    "            This only has an effect when `tickformat` is \"SI\" or\n",
    "            \"B\".\n",
    "        mirror\n",
    "            Determines if the axis lines or/and ticks are mirrored\n",
    "            to the opposite side of the plotting area. If True, the\n",
    "            axis lines are mirrored. If \"ticks\", the axis lines and\n",
    "            ticks are mirrored. If False, mirroring is disable. If\n",
    "            \"all\", axis lines are mirrored on all shared-axes\n",
    "            subplots. If \"allticks\", axis lines and ticks are\n",
    "            mirrored on all shared-axes subplots.\n",
    "        nticks\n",
    "            Specifies the maximum number of ticks for the\n",
    "            particular axis. The actual number of ticks will be\n",
    "            chosen automatically to be less than or equal to\n",
    "            `nticks`. Has an effect only if `tickmode` is set to\n",
    "            \"auto\".\n",
    "        overlaying\n",
    "            If set a same-letter axis id, this axis is overlaid on\n",
    "            top of the corresponding same-letter axis, with traces\n",
    "            and axes visible for both axes. If False, this axis\n",
    "            does not overlay any same-letter axes. In this case,\n",
    "            for axes with overlapping domains only the highest-\n",
    "            numbered axis will be visible.\n",
    "        position\n",
    "            Sets the position of this axis in the plotting space\n",
    "            (in normalized coordinates). Only has an effect if\n",
    "            `anchor` is set to \"free\".\n",
    "        range\n",
    "            Sets the range of this axis. If the axis `type` is\n",
    "            \"log\", then you must take the log of your desired range\n",
    "            (e.g. to set the range from 1 to 100, set the range\n",
    "            from 0 to 2). If the axis `type` is \"date\", it should\n",
    "            be date strings, like date data, though Date objects\n",
    "            and unix milliseconds will be accepted and converted to\n",
    "            strings. If the axis `type` is \"category\", it should be\n",
    "            numbers, using the scale where each category is\n",
    "            assigned a serial number from zero in the order it\n",
    "            appears.\n",
    "        rangebreaks\n",
    "            A tuple of\n",
    "            :class:`plotly.graph_objects.layout.yaxis.Rangebreak`\n",
    "            instances or dicts with compatible properties\n",
    "        rangebreakdefaults\n",
    "            When used in a template (as\n",
    "            layout.template.layout.yaxis.rangebreakdefaults), sets\n",
    "            the default property values to use for elements of\n",
    "            layout.yaxis.rangebreaks\n",
    "        rangemode\n",
    "            If \"normal\", the range is computed in relation to the\n",
    "            extrema of the input data. If *tozero*`, the range\n",
    "            extends to 0, regardless of the input data If\n",
    "            \"nonnegative\", the range is non-negative, regardless of\n",
    "            the input data. Applies only to linear axes.\n",
    "        scaleanchor\n",
    "            If set to another axis id (e.g. `x2`, `y`), the range\n",
    "            of this axis changes together with the range of the\n",
    "            corresponding axis such that the scale of pixels per\n",
    "            unit is in a constant ratio. Both axes are still\n",
    "            zoomable, but when you zoom one, the other will zoom\n",
    "            the same amount, keeping a fixed midpoint. `constrain`\n",
    "            and `constraintoward` determine how we enforce the\n",
    "            constraint. You can chain these, ie `yaxis:\n",
    "            {scaleanchor: *x*}, xaxis2: {scaleanchor: *y*}` but you\n",
    "            can only link axes of the same `type`. The linked axis\n",
    "            can have the opposite letter (to constrain the aspect\n",
    "            ratio) or the same letter (to match scales across\n",
    "            subplots). Loops (`yaxis: {scaleanchor: *x*}, xaxis:\n",
    "            {scaleanchor: *y*}` or longer) are redundant and the\n",
    "            last constraint encountered will be ignored to avoid\n",
    "            possible inconsistent constraints via `scaleratio`.\n",
    "            Note that setting axes simultaneously in both a\n",
    "            `scaleanchor` and a `matches` constraint is currently\n",
    "            forbidden.\n",
    "        scaleratio\n",
    "            If this axis is linked to another by `scaleanchor`,\n",
    "            this determines the pixel to unit scale ratio. For\n",
    "            example, if this value is 10, then every unit on this\n",
    "            axis spans 10 times the number of pixels as a unit on\n",
    "            the linked axis. Use this for example to create an\n",
    "            elevation profile where the vertical scale is\n",
    "            exaggerated a fixed amount with respect to the\n",
    "            horizontal.\n",
    "        separatethousands\n",
    "            If \"true\", even 4-digit integers are separated\n",
    "        showdividers\n",
    "            Determines whether or not a dividers are drawn between\n",
    "            the category levels of this axis. Only has an effect on\n",
    "            \"multicategory\" axes.\n",
    "        showexponent\n",
    "            If \"all\", all exponents are shown besides their\n",
    "            significands. If \"first\", only the exponent of the\n",
    "            first tick is shown. If \"last\", only the exponent of\n",
    "            the last tick is shown. If \"none\", no exponents appear.\n",
    "        showgrid\n",
    "            Determines whether or not grid lines are drawn. If\n",
    "            True, the grid lines are drawn at every tick mark.\n",
    "        showline\n",
    "            Determines whether or not a line bounding this axis is\n",
    "            drawn.\n",
    "        showspikes\n",
    "            Determines whether or not spikes (aka droplines) are\n",
    "            drawn for this axis. Note: This only takes affect when\n",
    "            hovermode = closest\n",
    "        showticklabels\n",
    "            Determines whether or not the tick labels are drawn.\n",
    "        showtickprefix\n",
    "            If \"all\", all tick labels are displayed with a prefix.\n",
    "            If \"first\", only the first tick is displayed with a\n",
    "            prefix. If \"last\", only the last tick is displayed with\n",
    "            a suffix. If \"none\", tick prefixes are hidden.\n",
    "        showticksuffix\n",
    "            Same as `showtickprefix` but for tick suffixes.\n",
    "        side\n",
    "            Determines whether a x (y) axis is positioned at the\n",
    "            \"bottom\" (\"left\") or \"top\" (\"right\") of the plotting\n",
    "            area.\n",
    "        spikecolor\n",
    "            Sets the spike color. If undefined, will use the series\n",
    "            color\n",
    "        spikedash\n",
    "            Sets the dash style of lines. Set to a dash type string\n",
    "            (\"solid\", \"dot\", \"dash\", \"longdash\", \"dashdot\", or\n",
    "            \"longdashdot\") or a dash length list in px (eg\n",
    "            \"5px,10px,2px,2px\").\n",
    "        spikemode\n",
    "            Determines the drawing mode for the spike line If\n",
    "            \"toaxis\", the line is drawn from the data point to the\n",
    "            axis the  series is plotted on. If \"across\", the line\n",
    "            is drawn across the entire plot area, and supercedes\n",
    "            \"toaxis\". If \"marker\", then a marker dot is drawn on\n",
    "            the axis the series is plotted on\n",
    "        spikesnap\n",
    "            Determines whether spikelines are stuck to the cursor\n",
    "            or to the closest datapoints.\n",
    "        spikethickness\n",
    "            Sets the width (in px) of the zero line.\n",
    "        tick0\n",
    "            Sets the placement of the first tick on this axis. Use\n",
    "            with `dtick`. If the axis `type` is \"log\", then you\n",
    "            must take the log of your starting tick (e.g. to set\n",
    "            the starting tick to 100, set the `tick0` to 2) except\n",
    "            when `dtick`=*L<f>* (see `dtick` for more info). If the\n",
    "            axis `type` is \"date\", it should be a date string, like\n",
    "            date data. If the axis `type` is \"category\", it should\n",
    "            be a number, using the scale where each category is\n",
    "            assigned a serial number from zero in the order it\n",
    "            appears.\n",
    "        tickangle\n",
    "            Sets the angle of the tick labels with respect to the\n",
    "            horizontal. For example, a `tickangle` of -90 draws the\n",
    "            tick labels vertically.\n",
    "        tickcolor\n",
    "            Sets the tick color.\n",
    "        tickfont\n",
    "            Sets the tick font.\n",
    "        tickformat\n",
    "            Sets the tick label formatting rule using d3 formatting\n",
    "            mini-languages which are very similar to those in\n",
    "            Python. For numbers, see:\n",
    "            https://github.com/d3/d3-3.x-api-\n",
    "            reference/blob/master/Formatting.md#d3_format And for\n",
    "            dates see: https://github.com/d3/d3-time-\n",
    "            format#locale_format We add one item to d3's date\n",
    "            formatter: \"%{n}f\" for fractional seconds with n\n",
    "            digits. For example, *2016-10-13 09:15:23.456* with\n",
    "            tickformat \"%H~%M~%S.%2f\" would display \"09~15~23.46\"\n",
    "        tickformatstops\n",
    "            A tuple of :class:`plotly.graph_objects.layout.yaxis.Ti\n",
    "            ckformatstop` instances or dicts with compatible\n",
    "            properties\n",
    "        tickformatstopdefaults\n",
    "            When used in a template (as\n",
    "            layout.template.layout.yaxis.tickformatstopdefaults),\n",
    "            sets the default property values to use for elements of\n",
    "            layout.yaxis.tickformatstops\n",
    "        ticklabelmode\n",
    "            Determines where tick labels are drawn with respect to\n",
    "            their corresponding ticks and grid lines. Only has an\n",
    "            effect for axes of `type` \"date\" When set to \"period\",\n",
    "            tick labels are drawn in the middle of the period\n",
    "            between ticks.\n",
    "        ticklen\n",
    "            Sets the tick length (in px).\n",
    "        tickmode\n",
    "            Sets the tick mode for this axis. If \"auto\", the number\n",
    "            of ticks is set via `nticks`. If \"linear\", the\n",
    "            placement of the ticks is determined by a starting\n",
    "            position `tick0` and a tick step `dtick` (\"linear\" is\n",
    "            the default value if `tick0` and `dtick` are provided).\n",
    "            If \"array\", the placement of the ticks is set via\n",
    "            `tickvals` and the tick text is `ticktext`. (\"array\" is\n",
    "            the default value if `tickvals` is provided).\n",
    "        tickprefix\n",
    "            Sets a tick label prefix.\n",
    "        ticks\n",
    "            Determines whether ticks are drawn or not. If \"\", this\n",
    "            axis' ticks are not drawn. If \"outside\" (\"inside\"),\n",
    "            this axis' are drawn outside (inside) the axis lines.\n",
    "        tickson\n",
    "            Determines where ticks and grid lines are drawn with\n",
    "            respect to their corresponding tick labels. Only has an\n",
    "            effect for axes of `type` \"category\" or\n",
    "            \"multicategory\". When set to \"boundaries\", ticks and\n",
    "            grid lines are drawn half a category to the left/bottom\n",
    "            of labels.\n",
    "        ticksuffix\n",
    "            Sets a tick label suffix.\n",
    "        ticktext\n",
    "            Sets the text displayed at the ticks position via\n",
    "            `tickvals`. Only has an effect if `tickmode` is set to\n",
    "            \"array\". Used with `tickvals`.\n",
    "        ticktextsrc\n",
    "            Sets the source reference on Chart Studio Cloud for\n",
    "            ticktext .\n",
    "        tickvals\n",
    "            Sets the values at which ticks on this axis appear.\n",
    "            Only has an effect if `tickmode` is set to \"array\".\n",
    "            Used with `ticktext`.\n",
    "        tickvalssrc\n",
    "            Sets the source reference on Chart Studio Cloud for\n",
    "            tickvals .\n",
    "        tickwidth\n",
    "            Sets the tick width (in px).\n",
    "        title\n",
    "            :class:`plotly.graph_objects.layout.yaxis.Title`\n",
    "            instance or dict with compatible properties\n",
    "        titlefont\n",
    "            Deprecated: Please use layout.yaxis.title.font instead.\n",
    "            Sets this axis' title font. Note that the title's font\n",
    "            used to be customized by the now deprecated `titlefont`\n",
    "            attribute.\n",
    "        type\n",
    "            Sets the axis type. By default, plotly attempts to\n",
    "            determined the axis type by looking into the data of\n",
    "            the traces that referenced the axis in question.\n",
    "        uirevision\n",
    "            Controls persistence of user-driven changes in axis\n",
    "            `range`, `autorange`, and `title` if in `editable:\n",
    "            true` configuration. Defaults to `layout.uirevision`.\n",
    "        visible\n",
    "            A single toggle to hide the axis while preserving\n",
    "            interaction like dragging. Default is true when a\n",
    "            cheater plot is present on the axis, otherwise false\n",
    "        zeroline\n",
    "            Determines whether or not a line is drawn at along the\n",
    "            0 value of this axis. If True, the zero line is drawn\n",
    "            on top of the grid lines.\n",
    "        zerolinecolor\n",
    "            Sets the line color of the zero line.\n",
    "        zerolinewidth\n",
    "            Sets the width (in px) of the zero line.\n",
    "        "
   ]
  }
 ],
 "metadata": {
  "kernelspec": {
   "display_name": "Python 3",
   "language": "python",
   "name": "python3"
  },
  "language_info": {
   "codemirror_mode": {
    "name": "ipython",
    "version": 3
   },
   "file_extension": ".py",
   "mimetype": "text/x-python",
   "name": "python",
   "nbconvert_exporter": "python",
   "pygments_lexer": "ipython3",
   "version": "3.8.5"
  },
  "toc": {
   "base_numbering": 1,
   "nav_menu": {},
   "number_sections": true,
   "sideBar": true,
   "skip_h1_title": false,
   "title_cell": "Table of Contents",
   "title_sidebar": "Contents",
   "toc_cell": false,
   "toc_position": {},
   "toc_section_display": true,
   "toc_window_display": false
  }
 },
 "nbformat": 4,
 "nbformat_minor": 4
}
