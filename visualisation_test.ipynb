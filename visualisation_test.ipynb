{
 "cells": [
  {
   "cell_type": "code",
   "execution_count": 17,
   "metadata": {},
   "outputs": [
    {
     "name": "stdout",
     "output_type": "stream",
     "text": [
      "ANT7\n",
      "12\n"
     ]
    },
    {
     "data": {
      "image/png": "[encoded data removed]",
      "text/plain": [
       "<Figure size 432x288 with 1 Axes>"
      ]
     },
     "metadata": {
      "needs_background": "light"
     },
     "output_type": "display_data"
    }
   ],
   "source": [
    "file1 = open('test.txt', 'r')\n",
    "Lines = file1.readlines()\n",
    "\n",
    "line = \"\"\n",
    "tempvalue = \"\"\n",
    "flag = False\n",
    "value= []\n",
    "data = []\n",
    "SAT = []\n",
    "ANT = []\n",
    "START = []\n",
    "END = []\n",
    "\n",
    "# Strips the newline character\n",
    "for line in Lines:\n",
    "    value = []\n",
    "    for j in range(len(line)):\n",
    "        if (line[j]!=\" \"):\n",
    "            flag = True\n",
    "            tempvalue += line[j]\n",
    "            \n",
    "        if(((line[j] == \" \")&(flag == True)) | (j==len(line)-1)):\n",
    "            value.append(tempvalue)\n",
    "            tempvalue = \"\"\n",
    "            flag = False\n",
    "    data.append(value)\n",
    "#     SAT.append(value[0])\n",
    "#     ANT.append(value[1])\n",
    "#     START.append(value[2])\n",
    "#     END.append(value[3])\n",
    "    \n",
    "# Trace les graphe\n",
    "import numpy as np\n",
    "import matplotlib.patches as mpatches\n",
    "from matplotlib.lines import Line2D\n",
    "print (data[0][1])\n",
    "ant_list = []\n",
    "ant = []\n",
    "creneaux = []\n",
    "y_offset = 0\n",
    "for d in data:\n",
    "    if (d[0] == \"SAT50\"):\n",
    "        if (d[1] not in ant):\n",
    "            ant_list.append(d[1])\n",
    "        indice = ant_list.index(d[1])\n",
    "        point = [[int(d[2]),indice],[int(d[3]),indice]]\n",
    "        creneaux.append(point)\n",
    "        ant.append(d[1])\n",
    "       \n",
    "\n",
    "\n",
    "import matplotlib.pyplot as plt\n",
    "cmap = plt.get_cmap('gnuplot')\n",
    "colors = [cmap(i) for i in np.linspace(0, 1, len(ant_list))]\n",
    "print(len(colors))\n",
    "k = 0\n",
    "for a in ant_list:\n",
    "    for i in range(len(creneaux)-1):\n",
    "        X = []\n",
    "        Y = []\n",
    "        if (ant[i] == a):\n",
    "            X = [creneaux[i][0][0], creneaux[i][1][0]]\n",
    "            Y = [creneaux[i][0][1], creneaux[i][1][1]]\n",
    "            plt.plot(X,Y,color=colors[k])\n",
    "    k = k+1\n",
    "\n",
    "plt.ylim([-1, 16])\n",
    "lines = [Line2D([0], [0], color=c, linewidth=3, linestyle='--') for c in colors]\n",
    "labels = [ant for ant in ant_list]\n",
    "plt.legend(lines, labels, loc='upper right',ncol = 4)\n",
    "plt.show()\n",
    "\n",
    "## \n",
    "\n",
    "# Des taches recurrents!\n",
    "# Tache individuel, tache repetitif et tache concurrent\n",
    "# 1 Pas de period sur une antenne d'un satellite.\n",
    "# 2 Il y avait des interruptions c'est pas regulier.\n",
    "# 3 Si on a besoin de decider de le faire ou modifier l'antenne dans une interval de visibilite."
   ]
  },
  {
   "cell_type": "code",
   "execution_count": 19,
   "metadata": {},
   "outputs": [
    {
     "name": "stdout",
     "output_type": "stream",
     "text": [
      "ANT7\n",
      "12\n"
     ]
    },
    {
     "data": {
      "image/png": "[encoded data removed]",
      "text/plain": [
       "<Figure size 432x288 with 1 Axes>"
      ]
     },
     "metadata": {
      "needs_background": "light"
     },
     "output_type": "display_data"
    }
   ],
   "source": [
    "file1 = open('test.txt', 'r')\n",
    "Lines = file1.readlines()\n",
    "\n",
    "line = \"\"\n",
    "tempvalue = \"\"\n",
    "flag = False\n",
    "value= []\n",
    "data = []\n",
    "SAT = []\n",
    "ANT = []\n",
    "START = []\n",
    "END = []\n",
    "\n",
    "# Strips the newline character\n",
    "for line in Lines:\n",
    "    value = []\n",
    "    for j in range(len(line)):\n",
    "        if (line[j]!=\" \"):\n",
    "            flag = True\n",
    "            tempvalue += line[j]\n",
    "            \n",
    "        if(((line[j] == \" \")&(flag == True)) | (j==len(line)-1)):\n",
    "            value.append(tempvalue)\n",
    "            tempvalue = \"\"\n",
    "            flag = False\n",
    "    data.append(value)\n",
    "#     SAT.append(value[0])\n",
    "#     ANT.append(value[1])\n",
    "#     START.append(value[2])\n",
    "#     END.append(value[3])\n",
    "    \n",
    "# Trace les graphe\n",
    "import numpy as np\n",
    "import matplotlib.patches as mpatches\n",
    "from matplotlib.lines import Line2D\n",
    "print (data[0][1])\n",
    "ant_list = []\n",
    "ant = []\n",
    "creneaux = []\n",
    "y_offset = 0\n",
    "for d in data:\n",
    "    if (d[0] == \"SAT02\"):\n",
    "        if (d[1] not in ant):\n",
    "            ant_list.append(d[1])\n",
    "        indice = ant_list.index(d[1])\n",
    "        point = [[int(d[2]),indice],[int(d[3]),indice]]\n",
    "        creneaux.append(point)\n",
    "        ant.append(d[1])\n",
    "       \n",
    "\n",
    "\n",
    "import matplotlib.pyplot as plt\n",
    "cmap = plt.get_cmap('gnuplot')\n",
    "colors = [cmap(i) for i in np.linspace(0, 1, len(ant_list))]\n",
    "print(len(colors))\n",
    "k = 0\n",
    "for a in ant_list:\n",
    "    for i in range(len(creneaux)-1):\n",
    "        X = []\n",
    "        Y = []\n",
    "        if (ant[i] == a):\n",
    "            X = [creneaux[i][0][0], creneaux[i][1][0]]\n",
    "            Y = [creneaux[i][0][1], creneaux[i][1][1]]\n",
    "            plt.plot(X,Y,color=colors[k])\n",
    "    k = k+1\n",
    "\n",
    "plt.ylim([-1, 16])\n",
    "lines = [Line2D([0], [0], color=c, linewidth=3, linestyle='--') for c in colors]\n",
    "labels = [ant for ant in ant_list]\n",
    "plt.legend(lines, labels, loc='upper right',ncol = 4)\n",
    "plt.show()\n",
    "\n",
    "## \n",
    "# 1 Pas de period sur une antenne d'un satellite.\n",
    "# 2 Il y avait des interruptions c'est pas regulier.\n",
    "# 3"
   ]
  }
 ],
 "metadata": {
  "kernelspec": {
   "display_name": "Python 3",
   "language": "python",
   "name": "python3"
  },
  "language_info": {
   "codemirror_mode": {
    "name": "ipython",
    "version": 3
   },
   "file_extension": ".py",
   "mimetype": "text/x-python",
   "name": "python",
   "nbconvert_exporter": "python",
   "pygments_lexer": "ipython3",
   "version": "3.8.5"
  },
  "toc": {
   "base_numbering": 1,
   "nav_menu": {},
   "number_sections": true,
   "sideBar": true,
   "skip_h1_title": false,
   "title_cell": "Table of Contents",
   "title_sidebar": "Contents",
   "toc_cell": false,
   "toc_position": {},
   "toc_section_display": true,
   "toc_window_display": false
  }
 },
 "nbformat": 4,
 "nbformat_minor": 4
}
