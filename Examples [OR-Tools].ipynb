{
 "cells": [
  {
   "cell_type": "markdown",
   "id": "bf974bff",
   "metadata": {},
   "source": [
    "# 1. Example of Linear Programming"
   ]
  },
  {
   "cell_type": "code",
   "execution_count": 1,
   "id": "fb39cbb2",
   "metadata": {},
   "outputs": [
    {
     "name": "stdout",
     "output_type": "stream",
     "text": [
      "Requirement already satisfied: ortools in /home/tianchi/.local/lib/python3.8/site-packages (9.1.9490)\n",
      "Requirement already satisfied: protobuf>=3.18.0 in /home/tianchi/.local/lib/python3.8/site-packages (from ortools) (3.19.1)\n",
      "Requirement already satisfied: absl-py>=0.13 in /home/tianchi/.local/lib/python3.8/site-packages (from ortools) (0.15.0)\n",
      "Requirement already satisfied: six in /home/tianchi/.local/lib/python3.8/site-packages (from absl-py>=0.13->ortools) (1.16.0)\n"
     ]
    }
   ],
   "source": [
    "!pip install ortools"
   ]
  },
  {
   "cell_type": "markdown",
   "id": "c1e9c675",
   "metadata": {},
   "source": [
    "**Basic steps for solving an LP problem**\n",
    "\n",
    "To solve a LP problem, your program should include the following steps :\n",
    "\n",
    "- Import the linear solver wrapper,\n",
    "- declare the LP solver,\n",
    "- define the variables,\n",
    "- define the constraints,\n",
    "- define the objective,\n",
    "- call the LP solver; and\n",
    "- display the solution"
   ]
  },
  {
   "cell_type": "markdown",
   "id": "bab2f0e3",
   "metadata": {},
   "source": [
    "## A linear optimization example\n",
    "\n",
    "Maximize 3*x* + *y* subject to the following constraints: \n",
    "```\n",
    "0≤*x*≤1 ; \n",
    "0≤*y*≤2 ;\n",
    "*x* + *y*≤2;\n",
    "```"
   ]
  },
  {
   "cell_type": "markdown",
   "id": "6bc732f2",
   "metadata": {},
   "source": [
    "### Import the require libraries"
   ]
  },
  {
   "cell_type": "code",
   "execution_count": 1,
   "id": "51d4d345",
   "metadata": {},
   "outputs": [],
   "source": [
    "from ortools.linear_solver import pywraplp\n",
    "from ortools.init import pywrapinit"
   ]
  },
  {
   "cell_type": "markdown",
   "id": "c0aa30f9",
   "metadata": {},
   "source": [
    "### Declare the solver"
   ]
  },
  {
   "cell_type": "code",
   "execution_count": 2,
   "id": "535cdc0e",
   "metadata": {},
   "outputs": [],
   "source": [
    "# Create the linear solver with the GLOP backend.\n",
    "solver = pywraplp.Solver.CreateSolver('GLOP')"
   ]
  },
  {
   "cell_type": "markdown",
   "id": "de9ed257",
   "metadata": {},
   "source": [
    "pywraplp is a Python wrapper for the underlying C++ solver. The argument \"GLOP\" specifies GLOP, the OR-Tools linear solver.\n",
    "\n",
    "**GLOP:** Google Linear Optimization. The primary OR-Tools linear optimization solver is Glop, Google's in-house linear programming solver. It's fast, memory efficient, and numerically stable."
   ]
  },
  {
   "cell_type": "markdown",
   "id": "4ac0e8a0",
   "metadata": {},
   "source": [
    "### Create the variables"
   ]
  },
  {
   "cell_type": "code",
   "execution_count": 3,
   "id": "55fa5cf1",
   "metadata": {},
   "outputs": [
    {
     "name": "stdout",
     "output_type": "stream",
     "text": [
      "Number of variables = 2\n"
     ]
    }
   ],
   "source": [
    "# Create the variables x and y.\n",
    "x = solver.NumVar(0, 1, 'x')\n",
    "y = solver.NumVar(0, 2, 'y')\n",
    "\n",
    "print('Number of variables =', solver.NumVariables())"
   ]
  },
  {
   "cell_type": "markdown",
   "id": "6d780f79",
   "metadata": {},
   "source": [
    "### Define the constraints\n",
    "\n",
    "The first two constraints, 0 ≤ x ≤ 1 and 0 ≤ y ≤ 2, are already set by the definitions of the variables. The following code defines the constraint x + y ≤ 2:"
   ]
  },
  {
   "cell_type": "code",
   "execution_count": 4,
   "id": "42b05994",
   "metadata": {},
   "outputs": [
    {
     "name": "stdout",
     "output_type": "stream",
     "text": [
      "Number of constraints = 1\n"
     ]
    }
   ],
   "source": [
    "# Create a linear constraint, 0 <= x + y <= 2.\n",
    "ct = solver.Constraint(0, 2, 'ct')\n",
    "ct.SetCoefficient(x, 1)\n",
    "ct.SetCoefficient(y, 1)\n",
    "\n",
    "print('Number of constraints =', solver.NumConstraints())"
   ]
  },
  {
   "cell_type": "markdown",
   "id": "78dfcc18",
   "metadata": {},
   "source": [
    "### Define the objective function"
   ]
  },
  {
   "cell_type": "code",
   "execution_count": 5,
   "id": "78742f0e",
   "metadata": {},
   "outputs": [],
   "source": [
    "# Create the objective function, 3 * x + y.\n",
    "objective = solver.Objective()\n",
    "objective.SetCoefficient(x, 3)\n",
    "objective.SetCoefficient(y, 1)\n",
    "objective.SetMaximization()"
   ]
  },
  {
   "cell_type": "markdown",
   "id": "9bf31a28",
   "metadata": {},
   "source": [
    "### Invoke the solver and display the results.\n"
   ]
  },
  {
   "cell_type": "code",
   "execution_count": 6,
   "id": "129e7c30",
   "metadata": {},
   "outputs": [
    {
     "name": "stdout",
     "output_type": "stream",
     "text": [
      "Solution:\n",
      "Objective value = 4.0\n",
      "x = 1.0\n",
      "y = 1.0\n"
     ]
    }
   ],
   "source": [
    "solver.Solve()\n",
    "print('Solution:')\n",
    "print('Objective value =', objective.Value())\n",
    "print('x =', x.solution_value())\n",
    "print('y =', y.solution_value())"
   ]
  },
  {
   "cell_type": "markdown",
   "id": "cd2f7006",
   "metadata": {},
   "source": [
    "# 2. Examples of Constraint Programming"
   ]
  },
  {
   "cell_type": "markdown",
   "id": "cf1f9148",
   "metadata": {},
   "source": [
    "## Constraint optimization\n",
    "\n",
    "Constraint optimization, or constraint programming (CP), identifies feasible solutions out of a very large set of candidates, where the problem can be modeled in terms of arbitrary constraints. **CP is based on feasibility (finding a feasible solution) rather than optimization (finding an optimal solution) and focuses on the constraints and variables rather than the objective function.** However, **CP can be used to solve optimization problems, simply by comparing the values of the objective function for all feasible solutions.**\n",
    "\n",
    "### Tools\n",
    "\n",
    "Google provides few ways to solve CP problems:\n",
    "\n",
    "- [CP-SAT solver](https://developers.google.com/optimization/cp/cp_solver): A *constraint programming* solver that uses SAT (satisfiability) methods.\n",
    "- [Original CP solver](https://developers.google.com/optimization/cp/original_cp_solver): A *constraint programming* solver.\n",
    "\n",
    "If your problem can be modeled with a linear objective and linear constraints, then you have a [linear programming](https://developers.google.com/optimization/lp) problem and should consider [MPSolver](https://developers.google.com/optimization/lp/mpsolver). (However, routing problems are typically best solved with our [vehicle routing library](https://developers.google.com/optimization/reference/constraint_solver/routing) even if they can be represented with a linear model.)"
   ]
  },
  {
   "cell_type": "markdown",
   "id": "0732307b",
   "metadata": {},
   "source": [
    "## CP-SAT Solver\n",
    "\n",
    "**§ Remark** : To increase computational speed, the CP-SAT solver works over the integers. This means you must define your optimization problem using integers only. If you begin with a problem that has constraints with non-integer terms, you need to first multiply those constraints by a sufficiently large integer so that all terms are integers.\n",
    "\n",
    "### Example : finding a feasible solution\n",
    "\n",
    "Let's start with a simple example problem in which there are:\n",
    "\n",
    "**Three variables, x, y, and z, each of which can take on the values: 0, 1, or 2.**\n",
    "\n",
    "**One constraint: x ≠ y**\n",
    "\n",
    "We'll start by showing how to use the CP-SAT solver to find a single feasible solution in all of the supported languages. While finding a feasible solution is trivial in this case, in more complex constraint programming problems it can be very difficult to determine whether there is a feasible solution."
   ]
  },
  {
   "cell_type": "code",
   "execution_count": 8,
   "id": "341161df",
   "metadata": {},
   "outputs": [],
   "source": [
    "# Import the libraries\n",
    "from ortools.sat.python import cp_model\n",
    "\n",
    "# Declare the model\n",
    "model = cp_model.CpModel()\n",
    "\n",
    "# Create the variables\n",
    "\n",
    "num_vals = 3\n",
    "x = model.NewIntVar(0, num_vals - 1, 'x')\n",
    "y = model.NewIntVar(0, num_vals - 1, 'y')\n",
    "z = model.NewIntVar(0, num_vals - 1, 'z')\n",
    "\n",
    "# Create the constraint\n",
    "model.Add(x != y)\n",
    "\n",
    "# Call the solver\n",
    "solver = cp_model.CpSolver()\n",
    "status = solver.Solve(model)"
   ]
  },
  {
   "cell_type": "markdown",
   "id": "45287e68",
   "metadata": {},
   "source": [
    "### CP-SAT return values\n",
    "\n",
    "The CP-SAT solver returns one of the status values shown in the table below. In this example, the value returned is `OPTIMAL`.\n",
    "\n",
    "- OPTIMAL : An optimal feasible solution was found.\n",
    "- FEASIBLE : A feasible solution was found, but we don't know if it's optimal.\n",
    "- INFEASIBLE : The problem was proven infeasible.\n",
    "- MODEL_INVALID : The given CpModelProto didn't pass the validation step. You can get a detailed error by calling ValidateCpModel(model_proto).\n",
    "- UNKNOWN : The status of the model is unknown because no solution was found (or the problem was not proven INFEASIBLE) before something caused the solver to stop, such as a time limit, a memory limit, or a custom limit set by the user.\n",
    "\n"
   ]
  },
  {
   "cell_type": "code",
   "execution_count": 9,
   "id": "e2d6026b",
   "metadata": {},
   "outputs": [
    {
     "name": "stdout",
     "output_type": "stream",
     "text": [
      "x = 1\n",
      "y = 0\n",
      "z = 0\n"
     ]
    }
   ],
   "source": [
    "# display the first solution\n",
    "if status == cp_model.OPTIMAL or status == cp_model.FEASIBLE:\n",
    "    print('x = %i' % solver.Value(x))\n",
    "    print('y = %i' % solver.Value(y))\n",
    "    print('z = %i' % solver.Value(z))\n",
    "else:\n",
    "    print('No solution found.')"
   ]
  },
  {
   "cell_type": "code",
   "execution_count": 10,
   "id": "f8dddd0e",
   "metadata": {},
   "outputs": [
    {
     "name": "stdout",
     "output_type": "stream",
     "text": [
      "x=1 y=2 z=0 \n",
      "x=1 y=0 z=0 \n",
      "x=2 y=0 z=0 \n",
      "x=2 y=1 z=0 \n",
      "x=2 y=1 z=1 \n",
      "x=2 y=0 z=1 \n",
      "x=1 y=0 z=1 \n",
      "x=1 y=2 z=1 \n",
      "x=1 y=2 z=2 \n",
      "x=1 y=0 z=2 \n",
      "x=2 y=0 z=2 \n",
      "x=2 y=1 z=2 \n",
      "x=0 y=1 z=2 \n",
      "x=0 y=1 z=1 \n",
      "x=0 y=1 z=0 \n",
      "x=0 y=2 z=0 \n",
      "x=0 y=2 z=1 \n",
      "x=0 y=2 z=2 \n",
      "Status = OPTIMAL\n",
      "Number of solutions found: 18\n"
     ]
    }
   ],
   "source": [
    "# Finding all solutions\n",
    "\n",
    "# Add the solution printer\n",
    "class VarArraySolutionPrinter(cp_model.CpSolverSolutionCallback):\n",
    "    \"\"\"Print intermediate solutions.\"\"\"\n",
    "\n",
    "    def __init__(self, variables):\n",
    "        cp_model.CpSolverSolutionCallback.__init__(self)\n",
    "        self.__variables = variables\n",
    "        self.__solution_count = 0\n",
    "\n",
    "    def on_solution_callback(self):\n",
    "        self.__solution_count += 1\n",
    "        for v in self.__variables:\n",
    "            print('%s=%i' % (v, self.Value(v)), end=' ')\n",
    "        print()\n",
    "\n",
    "    def solution_count(self):\n",
    "        return self.__solution_count\n",
    "\n",
    "# call the solver\n",
    "solver = cp_model.CpSolver()\n",
    "solution_printer = VarArraySolutionPrinter([x, y, z])\n",
    "# Enumerate all solutions.\n",
    "solver.parameters.enumerate_all_solutions = True\n",
    "# Solve.\n",
    "status = solver.Solve(model, solution_printer)\n",
    "print('Status = %s' % solver.StatusName(status))\n",
    "print('Number of solutions found: %i' % solution_printer.solution_count())"
   ]
  },
  {
   "cell_type": "markdown",
   "id": "96840163",
   "metadata": {},
   "source": [
    "### Example : finding an optimal solution"
   ]
  },
  {
   "cell_type": "markdown",
   "id": "be69fa15",
   "metadata": {},
   "source": [
    "Maximize 2x + 2y + 3z subject to the following constraints:\n",
    "```\n",
    "x + 7⁄2 y + 3⁄2 z\t≤\t25\n",
    "3x - 5y + 7z\t≤\t45\n",
    "5x + 2y - 6z\t≤\t37\n",
    "x, y, z\t≥\t0\n",
    "x, y, z integers\n",
    "```"
   ]
  },
  {
   "cell_type": "markdown",
   "id": "8184d171",
   "metadata": {},
   "source": [
    "In order to increase computational speed, the CP-SAT solver works over the integers. This means all constraints and the objective must have integer coefficients. In the above example, the first constraint doesn't meet this condition. To solve the problem, you must first transform the constraint by multiplying it by a sufficiently large integer to convert all the coefficients to integers. "
   ]
  },
  {
   "cell_type": "code",
   "execution_count": 12,
   "id": "0cd06ed9",
   "metadata": {},
   "outputs": [
    {
     "name": "stdout",
     "output_type": "stream",
     "text": [
      "Maximum of objective function: 35.0\n",
      "\n",
      "x = 7\n",
      "y = 3\n",
      "z = 5\n",
      "\n",
      "Statistics\n",
      "  status   : OPTIMAL\n",
      "  conflicts: 0\n",
      "  branches : 0\n",
      "  wall time: 0.0039381220000000005 s\n"
     ]
    }
   ],
   "source": [
    "\"\"\"Simple solve.\"\"\"\n",
    "# Import the libraries\n",
    "from ortools.sat.python import cp_model\n",
    "\n",
    "\"\"\"Minimal CP-SAT example to showcase calling the solver.\"\"\"\n",
    "# Creates the model.\n",
    "model = cp_model.CpModel()\n",
    "\n",
    "# Creates the variables.\n",
    "var_upper_bound = max(50, 45, 37)\n",
    "x = model.NewIntVar(0, var_upper_bound, 'x')\n",
    "y = model.NewIntVar(0, var_upper_bound, 'y')\n",
    "z = model.NewIntVar(0, var_upper_bound, 'z')\n",
    "\n",
    "# Creates the constraints.\n",
    "model.Add(2 * x + 7 * y + 3 * z <= 50)\n",
    "model.Add(3 * x - 5 * y + 7 * z <= 45)\n",
    "model.Add(5 * x + 2 * y - 6 * z <= 37)\n",
    "\n",
    "model.Maximize(2 * x + 2 * y + 3 * z)\n",
    "\n",
    "# Creates a solver and solves the model.\n",
    "solver = cp_model.CpSolver()\n",
    "status = solver.Solve(model)\n",
    "\n",
    "if status == cp_model.OPTIMAL or status == cp_model.FEASIBLE:\n",
    "    print(f'Maximum of objective function: {solver.ObjectiveValue()}\\n')\n",
    "    print(f'x = {solver.Value(x)}')\n",
    "    print(f'y = {solver.Value(y)}')\n",
    "    print(f'z = {solver.Value(z)}')\n",
    "else:\n",
    "    print('No solution found.')\n",
    "\n",
    "# Statistics.\n",
    "print('\\nStatistics')\n",
    "print(f'  status   : {solver.StatusName(status)}')\n",
    "print(f'  conflicts: {solver.NumConflicts()}')\n",
    "print(f'  branches : {solver.NumBranches()}')\n",
    "print(f'  wall time: {solver.WallTime()} s')"
   ]
  },
  {
   "cell_type": "code",
   "execution_count": null,
   "id": "39bd0f6e",
   "metadata": {},
   "outputs": [],
   "source": []
  }
 ],
 "metadata": {
  "kernelspec": {
   "display_name": "Python 3 (ipykernel)",
   "language": "python",
   "name": "python3"
  },
  "language_info": {
   "codemirror_mode": {
    "name": "ipython",
    "version": 3
   },
   "file_extension": ".py",
   "mimetype": "text/x-python",
   "name": "python",
   "nbconvert_exporter": "python",
   "pygments_lexer": "ipython3",
   "version": "3.8.12"
  }
 },
 "nbformat": 4,
 "nbformat_minor": 5
}
